{
 "cells": [
  {
   "cell_type": "markdown",
   "id": "152634f4",
   "metadata": {},
   "source": [
    "# Multivariate Exploratory Data Analysis\n",
    "## Lesson Overview\n",
    "Welcome to lesson three! Today, we will dive into creating, describing, and visualizing multivariate data relationships by using the Matplotlib, Pandas, and Seaborn libraries in Python.\n",
    "\n",
    "By the end of this lesson you will be able to:\n",
    "* Calculate the correlation coefficient \n",
    "* Construct a contingency table\n",
    "* Practice importing dataframes\n",
    "* Build plots to describe multiple variables within a single dataset\n",
    "\n",
    "Let's begin by importing our penguins dataset!"
   ]
  },
  {
   "cell_type": "code",
   "execution_count": 21,
   "id": "deccc2aa",
   "metadata": {},
   "outputs": [],
   "source": [
    "# Import pandas as pd\n",
    "import pandas as pd\n",
    "import matplotlib.pyplot as plt\n",
    "\n",
    "# Store penguins_wrangled.csv as penguins\n",
    "penguins = pd.read_csv(\"penguins_wrangled.csv\")"
   ]
  },
  {
   "cell_type": "markdown",
   "id": "b6959464",
   "metadata": {},
   "source": [
    "Now, we can look at the first few rows by typing dataframe.head(), or the last few rows by typing dataframe.tail()"
   ]
  },
  {
   "cell_type": "code",
   "execution_count": 4,
   "id": "40483077",
   "metadata": {},
   "outputs": [
    {
     "data": {
      "text/html": [
       "<div>\n",
       "<style scoped>\n",
       "    .dataframe tbody tr th:only-of-type {\n",
       "        vertical-align: middle;\n",
       "    }\n",
       "\n",
       "    .dataframe tbody tr th {\n",
       "        vertical-align: top;\n",
       "    }\n",
       "\n",
       "    .dataframe thead th {\n",
       "        text-align: right;\n",
       "    }\n",
       "</style>\n",
       "<table border=\"1\" class=\"dataframe\">\n",
       "  <thead>\n",
       "    <tr style=\"text-align: right;\">\n",
       "      <th></th>\n",
       "      <th>Unnamed: 0</th>\n",
       "      <th>studyName</th>\n",
       "      <th>Sample Number</th>\n",
       "      <th>Species</th>\n",
       "      <th>Region</th>\n",
       "      <th>Island</th>\n",
       "      <th>Stage</th>\n",
       "      <th>Individual ID</th>\n",
       "      <th>Clutch Completion</th>\n",
       "      <th>Date Egg</th>\n",
       "      <th>Culmen Length (mm)</th>\n",
       "      <th>Culmen Depth (mm)</th>\n",
       "      <th>Flipper Length (mm)</th>\n",
       "      <th>Body Mass (g)</th>\n",
       "      <th>Sex</th>\n",
       "      <th>Delta 15 N (o/oo)</th>\n",
       "      <th>Delta 13 C (o/oo)</th>\n",
       "      <th>Comments</th>\n",
       "    </tr>\n",
       "  </thead>\n",
       "  <tbody>\n",
       "    <tr>\n",
       "      <th>0</th>\n",
       "      <td>0</td>\n",
       "      <td>PAL0708</td>\n",
       "      <td>1</td>\n",
       "      <td>Adelie</td>\n",
       "      <td>Anvers</td>\n",
       "      <td>Torgersen</td>\n",
       "      <td>Adult, 1 Egg Stage</td>\n",
       "      <td>N1A1</td>\n",
       "      <td>Yes</td>\n",
       "      <td>11/11/07</td>\n",
       "      <td>39.1</td>\n",
       "      <td>18.7</td>\n",
       "      <td>181.0</td>\n",
       "      <td>3750.0</td>\n",
       "      <td>MALE</td>\n",
       "      <td>NaN</td>\n",
       "      <td>NaN</td>\n",
       "      <td>Not enough blood for isotopes.</td>\n",
       "    </tr>\n",
       "    <tr>\n",
       "      <th>1</th>\n",
       "      <td>1</td>\n",
       "      <td>PAL0708</td>\n",
       "      <td>2</td>\n",
       "      <td>Adelie</td>\n",
       "      <td>Anvers</td>\n",
       "      <td>Torgersen</td>\n",
       "      <td>Adult, 1 Egg Stage</td>\n",
       "      <td>N1A2</td>\n",
       "      <td>Yes</td>\n",
       "      <td>11/11/07</td>\n",
       "      <td>39.5</td>\n",
       "      <td>17.4</td>\n",
       "      <td>186.0</td>\n",
       "      <td>3800.0</td>\n",
       "      <td>FEMALE</td>\n",
       "      <td>8.94956</td>\n",
       "      <td>-24.69454</td>\n",
       "      <td>NaN</td>\n",
       "    </tr>\n",
       "    <tr>\n",
       "      <th>2</th>\n",
       "      <td>2</td>\n",
       "      <td>PAL0708</td>\n",
       "      <td>3</td>\n",
       "      <td>Adelie</td>\n",
       "      <td>Anvers</td>\n",
       "      <td>Torgersen</td>\n",
       "      <td>Adult, 1 Egg Stage</td>\n",
       "      <td>N2A1</td>\n",
       "      <td>Yes</td>\n",
       "      <td>11/16/07</td>\n",
       "      <td>40.3</td>\n",
       "      <td>18.0</td>\n",
       "      <td>195.0</td>\n",
       "      <td>3250.0</td>\n",
       "      <td>FEMALE</td>\n",
       "      <td>8.36821</td>\n",
       "      <td>-25.33302</td>\n",
       "      <td>NaN</td>\n",
       "    </tr>\n",
       "    <tr>\n",
       "      <th>3</th>\n",
       "      <td>4</td>\n",
       "      <td>PAL0708</td>\n",
       "      <td>5</td>\n",
       "      <td>Adelie</td>\n",
       "      <td>Anvers</td>\n",
       "      <td>Torgersen</td>\n",
       "      <td>Adult, 1 Egg Stage</td>\n",
       "      <td>N3A1</td>\n",
       "      <td>Yes</td>\n",
       "      <td>11/16/07</td>\n",
       "      <td>36.7</td>\n",
       "      <td>19.3</td>\n",
       "      <td>193.0</td>\n",
       "      <td>3450.0</td>\n",
       "      <td>FEMALE</td>\n",
       "      <td>8.76651</td>\n",
       "      <td>-25.32426</td>\n",
       "      <td>NaN</td>\n",
       "    </tr>\n",
       "    <tr>\n",
       "      <th>4</th>\n",
       "      <td>5</td>\n",
       "      <td>PAL0708</td>\n",
       "      <td>6</td>\n",
       "      <td>Adelie</td>\n",
       "      <td>Anvers</td>\n",
       "      <td>Torgersen</td>\n",
       "      <td>Adult, 1 Egg Stage</td>\n",
       "      <td>N3A2</td>\n",
       "      <td>Yes</td>\n",
       "      <td>11/16/07</td>\n",
       "      <td>39.3</td>\n",
       "      <td>20.6</td>\n",
       "      <td>190.0</td>\n",
       "      <td>3650.0</td>\n",
       "      <td>MALE</td>\n",
       "      <td>8.66496</td>\n",
       "      <td>-25.29805</td>\n",
       "      <td>NaN</td>\n",
       "    </tr>\n",
       "  </tbody>\n",
       "</table>\n",
       "</div>"
      ],
      "text/plain": [
       "   Unnamed: 0 studyName  Sample Number Species  Region     Island  \\\n",
       "0           0   PAL0708              1  Adelie  Anvers  Torgersen   \n",
       "1           1   PAL0708              2  Adelie  Anvers  Torgersen   \n",
       "2           2   PAL0708              3  Adelie  Anvers  Torgersen   \n",
       "3           4   PAL0708              5  Adelie  Anvers  Torgersen   \n",
       "4           5   PAL0708              6  Adelie  Anvers  Torgersen   \n",
       "\n",
       "                Stage Individual ID Clutch Completion  Date Egg  \\\n",
       "0  Adult, 1 Egg Stage          N1A1               Yes  11/11/07   \n",
       "1  Adult, 1 Egg Stage          N1A2               Yes  11/11/07   \n",
       "2  Adult, 1 Egg Stage          N2A1               Yes  11/16/07   \n",
       "3  Adult, 1 Egg Stage          N3A1               Yes  11/16/07   \n",
       "4  Adult, 1 Egg Stage          N3A2               Yes  11/16/07   \n",
       "\n",
       "   Culmen Length (mm)  Culmen Depth (mm)  Flipper Length (mm)  Body Mass (g)  \\\n",
       "0                39.1               18.7                181.0         3750.0   \n",
       "1                39.5               17.4                186.0         3800.0   \n",
       "2                40.3               18.0                195.0         3250.0   \n",
       "3                36.7               19.3                193.0         3450.0   \n",
       "4                39.3               20.6                190.0         3650.0   \n",
       "\n",
       "      Sex  Delta 15 N (o/oo)  Delta 13 C (o/oo)  \\\n",
       "0    MALE                NaN                NaN   \n",
       "1  FEMALE            8.94956          -24.69454   \n",
       "2  FEMALE            8.36821          -25.33302   \n",
       "3  FEMALE            8.76651          -25.32426   \n",
       "4    MALE            8.66496          -25.29805   \n",
       "\n",
       "                         Comments  \n",
       "0  Not enough blood for isotopes.  \n",
       "1                             NaN  \n",
       "2                             NaN  \n",
       "3                             NaN  \n",
       "4                             NaN  "
      ]
     },
     "execution_count": 4,
     "metadata": {},
     "output_type": "execute_result"
    }
   ],
   "source": [
    "penguins.head()"
   ]
  },
  {
   "cell_type": "markdown",
   "id": "732c5d9d",
   "metadata": {},
   "source": [
    "<div class=\"alert alert-block alert-danger\">\n",
    "Avoid doing: print( dataframe.head() ) or print( dataframe.tail() ) since it will mess up the format!\n",
    "</div>"
   ]
  },
  {
   "cell_type": "markdown",
   "id": "697b1429",
   "metadata": {},
   "source": [
    "## Correlation Coefficient "
   ]
  },
  {
   "cell_type": "markdown",
   "id": "4572599f",
   "metadata": {},
   "source": [
    "To calculate correlation we will make use of the *corr( ) function*.\n",
    "\n",
    "**Structure:**\n",
    "* corr_coef = dataframe.corr()\n",
    "\n",
    "**Meanings of outputs**:\n",
    "* 1: Full correlation. If one variable increases, so does the other\n",
    "* 0: No correlation.\n",
    "* -1: Full negative correlation. If one variable increases, the other decreases."
   ]
  },
  {
   "cell_type": "code",
   "execution_count": 5,
   "id": "af50d18e",
   "metadata": {},
   "outputs": [
    {
     "name": "stdout",
     "output_type": "stream",
     "text": [
      "                     Unnamed: 0  Sample Number  Culmen Length (mm)  \\\n",
      "Unnamed: 0             1.000000       0.137114            0.703662   \n",
      "Sample Number          0.137114       1.000000           -0.264023   \n",
      "Culmen Length (mm)     0.703662      -0.264023            1.000000   \n",
      "Culmen Depth (mm)     -0.691711      -0.009061           -0.228626   \n",
      "Flipper Length (mm)    0.831031       0.019753            0.653096   \n",
      "Body Mass (g)          0.692066      -0.025134            0.589451   \n",
      "Delta 15 N (o/oo)     -0.371663       0.013260           -0.056942   \n",
      "Delta 13 C (o/oo)     -0.254498      -0.486510            0.196765   \n",
      "\n",
      "                     Culmen Depth (mm)  Flipper Length (mm)  Body Mass (g)  \\\n",
      "Unnamed: 0                   -0.691711             0.831031       0.692066   \n",
      "Sample Number                -0.009061             0.019753      -0.025134   \n",
      "Culmen Length (mm)           -0.228626             0.653096       0.589451   \n",
      "Culmen Depth (mm)             1.000000            -0.577792      -0.472016   \n",
      "Flipper Length (mm)          -0.577792             1.000000       0.872979   \n",
      "Body Mass (g)                -0.472016             0.872979       1.000000   \n",
      "Delta 15 N (o/oo)             0.599481            -0.501601      -0.539795   \n",
      "Delta 13 C (o/oo)             0.424233            -0.369678      -0.371105   \n",
      "\n",
      "                     Delta 15 N (o/oo)  Delta 13 C (o/oo)  \n",
      "Unnamed: 0                   -0.371663          -0.254498  \n",
      "Sample Number                 0.013260          -0.486510  \n",
      "Culmen Length (mm)           -0.056942           0.196765  \n",
      "Culmen Depth (mm)             0.599481           0.424233  \n",
      "Flipper Length (mm)          -0.501601          -0.369678  \n",
      "Body Mass (g)                -0.539795          -0.371105  \n",
      "Delta 15 N (o/oo)             1.000000           0.569393  \n",
      "Delta 13 C (o/oo)             0.569393           1.000000  \n"
     ]
    }
   ],
   "source": [
    "# Store penguins.corr() inside penguins_corr\n",
    "penguins_corr = penguins.corr()\n",
    "\n",
    "# Print result\n",
    "print(penguins_corr)"
   ]
  },
  {
   "cell_type": "markdown",
   "id": "39a8e9b6",
   "metadata": {},
   "source": [
    "<div class=\"alert alert-block alert-warning\">This table is quite confusing to look at since it is showing us the correlation coefficient between <b>ALL</b> variables. </div>\n",
    "\n",
    "If we want to look at two specific variables, we can use the same correlation table and indicate our variables by using loc.\n",
    "\n",
    "**Structure:**\n",
    "*  corr_coef = dataframe.loc[\"variable_one\", \"variable_two\"]"
   ]
  },
  {
   "cell_type": "code",
   "execution_count": 6,
   "id": "3d07f879",
   "metadata": {},
   "outputs": [
    {
     "name": "stdout",
     "output_type": "stream",
     "text": [
      "-0.22862563591303017\n"
     ]
    }
   ],
   "source": [
    "# Store the correlation between Culmen Length and Culmen Depth inside culmen_corr\n",
    "culmen_corr = penguins_corr.loc[\"Culmen Length (mm)\", \"Culmen Depth (mm)\"]\n",
    "\n",
    "# Print result \n",
    "print(culmen_corr)"
   ]
  },
  {
   "cell_type": "markdown",
   "id": "dad0e382",
   "metadata": {},
   "source": [
    "## Contingency Table\n",
    "To create a contingency table we can use *pd.crosstab( )*\n",
    "\n",
    "**Structure:**\n",
    "* pd.crosstab(dataframe[\"columnName1\"], dataframe[\"columnName2\"], margins = True)\n",
    "\n",
    "**Arguments** :\n",
    "* dataframe[\"columnName1\"] ; first variable \n",
    "* dataframe[\"columnName2\"] ; second variable\n",
    "* margins = True ; this will calculate the total for each row/column"
   ]
  },
  {
   "cell_type": "code",
   "execution_count": 7,
   "id": "3efbbe77",
   "metadata": {},
   "outputs": [
    {
     "name": "stdout",
     "output_type": "stream",
     "text": [
      "Island     Biscoe  Dream  Torgersen  All\n",
      "Species                                 \n",
      "Adelie         44     55         47  146\n",
      "Chinstrap       0     68          0   68\n",
      "Gentoo        119      0          0  119\n",
      "All           163    123         47  333\n"
     ]
    }
   ],
   "source": [
    "# Create cont_table with \"Species\" and \"Island\" from penguins dataframe.\n",
    "cont_table = pd.crosstab(penguins[\"Species\"], penguins[\"Island\"], margins = True)\n",
    "\n",
    "# Display the table\n",
    "print(cont_table)"
   ]
  },
  {
   "cell_type": "markdown",
   "id": "14efeede",
   "metadata": {},
   "source": [
    "If we want to see a table of proportions we can add one extra argument: normalize = True.\n",
    "\n",
    "**Arguments** :\n",
    "* dataframe[\"columnName1\"] ; first variable \n",
    "* dataframe[\"columnName2\"] ; second variable\n",
    "* margins = True ; this will calculate the total for each row/column\n",
    "* normalize = True ; this will calculate proportions instead of coutns"
   ]
  },
  {
   "cell_type": "code",
   "execution_count": 8,
   "id": "fd6f429c",
   "metadata": {},
   "outputs": [
    {
     "name": "stdout",
     "output_type": "stream",
     "text": [
      "Island       Biscoe     Dream  Torgersen       All\n",
      "Species                                           \n",
      "Adelie     0.132132  0.165165   0.141141  0.438438\n",
      "Chinstrap  0.000000  0.204204   0.000000  0.204204\n",
      "Gentoo     0.357357  0.000000   0.000000  0.357357\n",
      "All        0.489489  0.369369   0.141141  1.000000\n"
     ]
    }
   ],
   "source": [
    "# Create prop_cont_table with \"Species\" and \"Island\" from penguins dataframe.\n",
    "prop_cont_table = pd.crosstab(penguins[\"Species\"], penguins[\"Island\"], margins = True, normalize = True)\n",
    "\n",
    "# Display the table\n",
    "print(prop_cont_table)"
   ]
  },
  {
   "cell_type": "code",
   "execution_count": 9,
   "id": "a3d875c0",
   "metadata": {},
   "outputs": [
    {
     "name": "stdout",
     "output_type": "stream",
     "text": [
      "| Species   |   Biscoe |    Dream |   Torgersen |      All |\n",
      "|:----------|---------:|---------:|------------:|---------:|\n",
      "| Adelie    | 0.132132 | 0.165165 |    0.141141 | 0.438438 |\n",
      "| Chinstrap | 0        | 0.204204 |    0        | 0.204204 |\n",
      "| Gentoo    | 0.357357 | 0        |    0        | 0.357357 |\n",
      "| All       | 0.489489 | 0.369369 |    0.141141 | 1        |\n"
     ]
    }
   ],
   "source": [
    "# We can also add to_markdown() at the end for visualization\n",
    "prop_cont_table = prop_cont_table.to_markdown()\n",
    "print(prop_cont_table)"
   ]
  },
  {
   "cell_type": "markdown",
   "id": "8937273c",
   "metadata": {},
   "source": [
    "## Multivariate Data Visualization\n",
    "\n",
    "Now that we understand how Python can help us numerically analyze our multivariate data, let's see what Python's plotting tools can do to help visualize our data! Using the Matplotlib and Seaborn libraries for plot making, and the pandas library for importing data, we will learn how to create scatter plots, bar plots, linear model plots, and box plots to describe the relationships between variables in our dataset. \n",
    "  \n",
    "Note that one code chunk produces only one plot. So all of the work you do in a chunk will only affect a single graph. Now, let's begin!"
   ]
  },
  {
   "cell_type": "markdown",
   "id": "117ade2e",
   "metadata": {},
   "source": [
    "### Bar plot\n",
    "Bar plots are a helpful data visualization that statisticians use to compare the values of various groups. Bar plots can be both vertical and horizontal, and they offer a relationship between a categorical and a continuous variable. Let's practice making them!\n",
    "\n",
    "We will be using catplot from seaborn to create a barplot. A catplot shows the relationship between a numerical and one or more categorical variables using one of several visual representations. A really cool feature about catplot is that it can do counts for each variable for us! In other cases, we would have to perform data cleaning or create a sub-dataframe, however, if you want to learn how to do that look at our extra material!\n",
    "\n",
    "**Structure:**\n",
    "* sns.catplot(data = dataframe, x = \"var_one\", kind = \"count\")\n",
    "\n",
    "**Arguments**: \n",
    "* data = dataframe\n",
    "* x = get the counts from each category of this variable\n",
    "* kind = the kind of graph we are creating; in this case, \"count\""
   ]
  },
  {
   "cell_type": "code",
   "execution_count": 24,
   "id": "d7d9c34f",
   "metadata": {
    "scrolled": true
   },
   "outputs": [
    {
     "data": {
      "image/png": "[encoded data removed]",
      "text/plain": [
       "<Figure size 360x360 with 1 Axes>"
      ]
     },
     "metadata": {
      "needs_background": "light"
     },
     "output_type": "display_data"
    }
   ],
   "source": [
    "# Create catplot that shows the counts for each species from penguins dataframe\n",
    "sns.catplot(data = penguins, x = \"Species\", kind = \"count\")\n",
    "\n",
    "# Show plot\n",
    "plt.show()"
   ]
  },
  {
   "cell_type": "markdown",
   "id": "19d30bb0",
   "metadata": {},
   "source": [
    "Now, what if we want to see how the **counts change by also adding island**? We can do so by introducing a new argument into catplot: hue. Hue will make a distinction (by colors) for each level of the categorical variable we're adding.\n",
    "\n",
    "**Structure:**\n",
    "* sns.catplot(data = dataframe, x = \"var_one\", hue = \"var_two\", kind = \"count\")\n",
    "\n",
    "**Arguments**: \n",
    "* data = dataframe\n",
    "* x = get the counts from each category of this variable\n",
    "* hue = assigns a unique color to each category from this variable"
   ]
  },
  {
   "cell_type": "code",
   "execution_count": null,
   "id": "f44b14d9",
   "metadata": {},
   "outputs": [],
   "source": [
    "# Create catplot that shows the counts for each species AND color by island from penguins dataframe.\n",
    "sns.catplot(data = penguins, x = \"Species\", hue = \"Island\", kind = \"count\")\n",
    "\n",
    "# Show plot\n",
    "plt.show()"
   ]
  },
  {
   "cell_type": "markdown",
   "id": "55279a12",
   "metadata": {},
   "source": [
    "Interesting, right? It looks like Chinstrap and Gentoo penguins only exist in one island. Now, what if we also want to see how the data changes **by sex**? \n",
    "\n",
    "In order to do this, we will use continue using *catplot( )* but we will add a new argument: col.\n",
    "\n",
    "**Structure:**\n",
    "* sns.catplot(data = dataframe, x = \"var_one\", hue = \"var_two\", col = \"var_three\", kind = \"count\")\n",
    "\n",
    "**Arguments:**: \n",
    "* data = dataframe\n",
    "* x = Count of each response to this categorical variable\n",
    "* hue = assigns a unique color to each category from this variable\n",
    "* col = Create as many graphs as categories from this variable\n",
    "* kind = kind of visualization we're using, for now we will only use \"count\""
   ]
  },
  {
   "cell_type": "code",
   "execution_count": 43,
   "id": "76d14257",
   "metadata": {},
   "outputs": [
    {
     "data": {
      "image/png": "[encoded data removed]",
      "text/plain": [
       "<Figure size 1155.25x360 with 3 Axes>"
      ]
     },
     "metadata": {
      "needs_background": "light"
     },
     "output_type": "display_data"
    }
   ],
   "source": [
    "# Create three catplots (one for each island)\n",
    "# Shows the counts for each species and color by sex\n",
    "sns.catplot(data = penguins, x = \"Species\", hue = \"Sex\", col = \"Island\", kind = \"count\")\n",
    "\n",
    "# Add a title\n",
    "#fig.subplots_adjust(top=0.8) # adjust the Figure in rp\n",
    "plt.subplots_adjust(top = 0.8)\n",
    "plt.suptitle(\"Counts of Species\")\n",
    "\n",
    "# Show plot\n",
    "plt.show()"
   ]
  },
  {
   "cell_type": "markdown",
   "id": "eba1aadd",
   "metadata": {},
   "source": [
    "### Histogram plot\n",
    "\n",
    "Histograms are a common way to visualize the distribution of a single numeric variable. Furthermore, it shows the probability distribution of a continuous variable, so we will certainly need to use these in our statistical analysis. Let's see how to make histograms using the histplot( ) method from seaborn.\n",
    "\n",
    "**Structure:**\n",
    "* sns.histplot(data = dataframe, x = \"var_one\", bins = \"auto\")\n",
    "\n",
    "**Arguments:**\n",
    "* data = dataframe\n",
    "* x = \"columnName\" ; quantitative variable to display\n",
    "* bins = \"auto\" ; will choose the best bin edges for us"
   ]
  },
  {
   "cell_type": "code",
   "execution_count": 42,
   "id": "b9857323",
   "metadata": {
    "scrolled": true
   },
   "outputs": [
    {
     "data": {
      "image/png": "[encoded data removed]",
      "text/plain": [
       "<Figure size 432x288 with 1 Axes>"
      ]
     },
     "metadata": {
      "needs_background": "light"
     },
     "output_type": "display_data"
    }
   ],
   "source": [
    "# Create histogram for Culmen Length (mm)\n",
    "sns.histplot(data = penguins, x = \"Culmen Length (mm)\", bins = \"auto\")\n",
    "\n",
    "# Label axis\n",
    "plt.xlabel(\"Culmen Length (mm)\")\n",
    "plt.ylabel(\"Frequency\")\n",
    "\n",
    "# Add title\n",
    "plt.title(\"Culmen Length Distribution\")\n",
    "\n",
    "# Display the graph\n",
    "plt.show()"
   ]
  },
  {
   "cell_type": "markdown",
   "id": "d82ce297",
   "metadata": {},
   "source": [
    "Now, what if on top of that we want to see how the data changes by **Island**? \n",
    "\n",
    "We would have to use a new method called FacetGrid, which is made for multiple plots visualization. The parameters for this method are:\n",
    "\n",
    "**Structure:**\n",
    "* g = sns.FacetGrid(data = dataframe, col = \"var_one\", hue = \"var_two\", palette = \"color\")\n",
    "\n",
    "**Arguments:**\n",
    "* data = dataframe\n",
    "* col = \"columnName\" ; creates as many grids as categories from this variable\n",
    "* hue = \"columnName\" ; assigns a unique color to each category from this variable\n",
    "* palette = \"paletteName\" ; colors\n",
    "\n",
    "After that, we would use another method (map) on our faceted graph, which will actually map the histograms in each one of the grids.\n",
    "\n",
    "**Structure:**\n",
    "* g.map(sns.histplot, \"var_three\")\n",
    "\n",
    "**Arguments:**\n",
    "* sns.nameOfPlot ; the type of sns plot we are creating, in this case sns.histplot\n",
    "* \"nameOfColumn\" ; quantitative variable we are plotting from dataframe"
   ]
  },
  {
   "cell_type": "code",
   "execution_count": null,
   "id": "7365ce17",
   "metadata": {},
   "outputs": [],
   "source": [
    "# Create one grid for each island and separate by sex within each grid.\n",
    "g = sns.FacetGrid(data = penguins, col = \"Island\", hue = \"Sex\", palette = \"colorblind\")\n",
    "\n",
    "# Map the histograms for Culmen Length (mm) into each grid\n",
    "g.map(sns.histplot, \"Culmen Length (mm)\")\n",
    "\n",
    "# Display the plot\n",
    "plt.show()"
   ]
  },
  {
   "cell_type": "markdown",
   "id": "9e16b0a5",
   "metadata": {},
   "source": [
    "A lot to digest! But play around with other dataframes from our repo and you will get used to the arguments and functions! "
   ]
  },
  {
   "cell_type": "markdown",
   "id": "5d660158",
   "metadata": {},
   "source": [
    "## Density plot"
   ]
  },
  {
   "cell_type": "markdown",
   "id": "3c964841",
   "metadata": {},
   "source": [
    "Density plots will help us visualize how quantitative variables are distributed. In order to graph this, we will use sns.displot. First, we will visualize the density plot for culmen depth.\n",
    "\n",
    "**Structure:**\n",
    "* sns.displot(data = dataframe, x = \"var_one\", kind = \"kde\")\n",
    "\n",
    "**Arguments:**\n",
    "* data = dataframe\n",
    "* x = \"columnName\" ; quantitative variable to display\n",
    "* kind = \"graphName\" ; the type of graph we're using, for our purposes \"kde\" (short for kernel distribution estimate)"
   ]
  },
  {
   "cell_type": "code",
   "execution_count": null,
   "id": "9d1f739d",
   "metadata": {},
   "outputs": [],
   "source": [
    "# Create displot for Culmen Depth (mm)\n",
    "sns.displot(data = penguins, x = \"Culmen Depth (mm)\", kind=\"kde\")\n",
    "\n",
    "# Display the plot\n",
    "plt.show()"
   ]
  },
  {
   "cell_type": "markdown",
   "id": "d6b50483",
   "metadata": {},
   "source": [
    "Now, what if we want to see how the distribution changes **by specie**? We would have to add the hue parameter once again.\n",
    "\n",
    "**Structure:**\n",
    "* sns.displot(data = dataframe, x = \"var_one\", hue = \"var_two\", kind = \"kde\", palette = \"colors\")\n",
    "\n",
    "**Arguments:**\n",
    "* data = dataframe\n",
    "* x = \"columnName\" ; quantitative variable to display\n",
    "* hue = \"columnName\" ; assigns a unique color to each category from this variable \n",
    "* kind = \"graphName\" ; the type of graph we're using, for our purposes \"kde\" (short for kernel distribution estimate)\n",
    "* palette = \"paletteName\" ; colors"
   ]
  },
  {
   "cell_type": "code",
   "execution_count": null,
   "id": "aeef6f26",
   "metadata": {},
   "outputs": [],
   "source": [
    "# Create displot for Culmen Depth (mm) and separate them by specie\n",
    "sns.displot(penguins, x = \"Culmen Depth (mm)\", hue = \"Species\", kind=\"kde\", palette = \"colorblind\")\n",
    "\n",
    "# Display the plot\n",
    "plt.show()"
   ]
  },
  {
   "cell_type": "markdown",
   "id": "f64642f4",
   "metadata": {},
   "source": [
    "Lastly, if we also want to visualize a third variable, we can create a plot for each category. In order to do so, we will use FacetGrid again.\n",
    "\n",
    "**Structure:**\n",
    "* g = sns.FacetGrid(data = dataframe, col = \"var_one\", hue = \"var_two\", palette = \"color\")\n",
    "\n",
    "**Arguments:**\n",
    "* data = dataframe\n",
    "* col = \"columnName\" ; creates as many grids as categories from this variable\n",
    "* hue = \"columnName\" ; assigns a unique color to each category from this variable\n",
    "* palette = \"paletteName\" ; colors\n",
    "\n",
    "After that, we would use another method (map) on our faceted graph, which will actually map the density plos in each one of the grids.\n",
    "\n",
    "**Structure:**\n",
    "* g.map(sns.kdeplot, \"var_three\")\n",
    "\n",
    "**Arguments:**\n",
    "* sns.nameOfPlot ; the type of sns plot we are creating, in this case sns.kdeplot\n",
    "* \"nameOfColumn\" ; quantitative variable we are plotting from dataframe"
   ]
  },
  {
   "cell_type": "code",
   "execution_count": 38,
   "id": "bbf58a35",
   "metadata": {
    "scrolled": true
   },
   "outputs": [
    {
     "data": {
      "image/png": "[encoded data removed]",
      "text/plain": [
       "<Figure size 648x216 with 3 Axes>"
      ]
     },
     "metadata": {
      "needs_background": "light"
     },
     "output_type": "display_data"
    }
   ],
   "source": [
    "# Create one grid for each island, color by sex within each grid\n",
    "g = sns.FacetGrid(data = penguins, col = \"Island\", hue = \"Sex\", palette = \"colorblind\")\n",
    "\n",
    "# Map the density plots into each one of the grids\n",
    "g.map(sns.kdeplot, \"Culmen Depth (mm)\")\n",
    "\n",
    "# Add a title\n",
    "#fig.subplots_adjust(top=0.8) # adjust the Figure in rp\n",
    "plt.subplots_adjust(top = 0.8)\n",
    "plt.suptitle(\"Culmen Depth Density\")\n",
    "\n",
    "# Display the plot\n",
    "plt.show()"
   ]
  },
  {
   "cell_type": "markdown",
   "id": "ec07072d",
   "metadata": {},
   "source": [
    "### lm plots\n",
    "The lm plot displays the scattered data and fits a regression model onto it. It is exactly the same as putting the line of best fit onto our graph, and this process helps to understand the relationship between two variables. The method lmplot( ) takes the input of two column names (x and y) as a string and a DataFrame variable, and by default, fits the regression line. Let's try it out!\n",
    "\n",
    "**Structure:**\n",
    "* sns.lmplot(data = dataframe, x = \"var_one\", y = \"var_two\")\n",
    "\n",
    "**Parameters**: \n",
    "* data = dataframe\n",
    "* x = \"columnName\"; quantitative variable of choice\n",
    "* y = \"columnName\"; quantitative variable of choice"
   ]
  },
  {
   "cell_type": "code",
   "execution_count": null,
   "id": "7c41ee62",
   "metadata": {},
   "outputs": [],
   "source": [
    "# Plot the association Culmen Depth (mm) and Body Mass (g)\n",
    "sns.lmplot(data = penguins, x = \"Culmen Depth (mm)\", y = \"Body Mass (g)\")\n",
    "\n",
    "# Add a title\n",
    "plt.title(\"Culmen Depth vs. Body Mass\")\n",
    "\n",
    "# Display the plot\n",
    "plt.show()"
   ]
  },
  {
   "cell_type": "markdown",
   "id": "ee100874",
   "metadata": {},
   "source": [
    "### Scatter plot\n",
    "To create a scatter plot, we can simply remove the line of best fit from lm_plot. We can do so by setting the argument fig_reg to False within the lmplot( ) method.\n",
    "\n",
    "**Structure:**\n",
    "* sns.lmplot(data = dataframe, x = \"var_one\", y = \"var_two\", fit_reg = False)\n",
    "\n",
    "**Parameters**: \n",
    "* data = dataframe\n",
    "* x = \"columnName\"; quantitative variable of choice\n",
    "* y = \"columnName\"; quantitative variable of choice\n",
    "* fit_reg = False; to get rid of the line of best fit"
   ]
  },
  {
   "cell_type": "code",
   "execution_count": 44,
   "id": "d0914206",
   "metadata": {},
   "outputs": [
    {
     "data": {
      "image/png": "[encoded data removed]",
      "text/plain": [
       "<Figure size 360x360 with 1 Axes>"
      ]
     },
     "metadata": {
      "needs_background": "light"
     },
     "output_type": "display_data"
    }
   ],
   "source": [
    "# Plot the association Culmen Depth (mm) and Body Mass (g) and get rid of the line of best fit\n",
    "sns.lmplot(data = penguins, x = \"Culmen Depth (mm)\", y = \"Body Mass (g)\", fit_reg = False)\n",
    "\n",
    "# Add a title\n",
    "plt.title(\"Culmen Depth vs. Body Mass\")\n",
    "\n",
    "# Display the plot\n",
    "plt.show()"
   ]
  },
  {
   "cell_type": "markdown",
   "id": "dc47e2b3",
   "metadata": {},
   "source": [
    "Huh, doesn't the above scatterplot look interesting? There are two clusters of data, which might hint that something else is going on in our data. One would assume that there would be a strong, positive association between body mass and culmen depth in penguins, but here we see the opposite. This could be a result of the differences in penguin species, so let's go ahead and add it as another dimension to our plot!\n",
    "\n",
    "**Structure:**\n",
    "* sns.lmplot(data = dataframe, x = \"var_one\", y = \"var_two\", hue = \"var_three\", fit_reg = False)\n",
    "\n",
    "**Parameters**: \n",
    "* data = dataframe\n",
    "* x = \"columnName\"; quantitative variable of choice\n",
    "* y = \"columnName\"; quantitative variable of choice\n",
    "* hue = \"columnName\"; color by each category from this variable\n",
    "* fit_reg = False; to get rid of the line of best fit"
   ]
  },
  {
   "cell_type": "code",
   "execution_count": 50,
   "id": "70b1c5cc",
   "metadata": {},
   "outputs": [
    {
     "data": {
      "image/png": "[encoded data removed]",
      "text/plain": [
       "<Figure size 444.125x360 with 1 Axes>"
      ]
     },
     "metadata": {
      "needs_background": "light"
     },
     "output_type": "display_data"
    }
   ],
   "source": [
    "# Plot the association Culmen Depth (mm) and Body Mass (g) and color by specie \n",
    "sns.lmplot(data = penguins, x = \"Culmen Depth (mm)\", y = \"Body Mass (g)\", hue = \"Species\", fit_reg = False)\n",
    "\n",
    "# Add a title\n",
    "#fig.subplots_adjust(top=0.9) # adjust the Figure in rp\n",
    "plt.title(\"Culmen Depth vs. Body Mass for Species\")\n",
    "\n",
    "# Display the plot\n",
    "plt.show()"
   ]
  },
  {
   "cell_type": "markdown",
   "id": "3909e6cc",
   "metadata": {},
   "source": [
    "Now, what if we wanted to look at the plots by island? We can add another argument: col.\n",
    "\n",
    "**Structure:**\n",
    "* sns.lmplot(data = dataframe, x = \"var_one\", y = \"var_two\", hue = \"var_three\", col = \"var_four\", fit_reg = False)\n",
    "\n",
    "**Parameters**: \n",
    "* data = dataframe\n",
    "* x = \"columnName\"; quantitative variable of choice\n",
    "* y = \"columnName\"; quantitative variable of choice\n",
    "* hue = \"columnName\"; color by each category from this variable\n",
    "* col = \"columnName\"; create as many grids as categories from this variable\n",
    "* fit_reg = False; to get rid of the line of best fit"
   ]
  },
  {
   "cell_type": "code",
   "execution_count": 51,
   "id": "7f754fae",
   "metadata": {},
   "outputs": [
    {
     "data": {
      "image/png": "[encoded data removed]",
      "text/plain": [
       "<Figure size 1164.12x360 with 3 Axes>"
      ]
     },
     "metadata": {
      "needs_background": "light"
     },
     "output_type": "display_data"
    }
   ],
   "source": [
    "# Plot the association Culmen Depth (mm) and Body Mass (g) and color by specie \n",
    "sns.lmplot(data = penguins, x = \"Culmen Depth (mm)\", y = \"Body Mass (g)\", hue = \"Species\",\n",
    "           col = \"Island\", fit_reg = False)\n",
    "\n",
    "# Add a title\n",
    "#fig.subplots_adjust(top=0.9) # adjust the Figure in rp\n",
    "plt.suptitle(\"Culmen Depth vs. Body Mass for Species\")\n",
    "plt.subplots_adjust(top = 0.9)\n",
    "\n",
    "# Display the plot\n",
    "plt.show()"
   ]
  },
  {
   "cell_type": "markdown",
   "id": "d7160329",
   "metadata": {},
   "source": [
    "### Box plot\n",
    "Box plots, or box-and-whisker plots, are another helpful visualization to understand the distribution of our data. Let's practice making a box plot in Seaborn using the same dataset from our previous example!\n",
    "\n",
    "**Structure:**\n",
    "* sns.boxplot(data = dataframe, x = \"var_one\", y = \"var_two\")\n",
    "\n",
    "**Parameters**: \n",
    "* data = dataframe\n",
    "* x = \"columnName\"; categorical variable of choice\n",
    "* y = \"columnName\"; quantitative variable of choice"
   ]
  },
  {
   "cell_type": "code",
   "execution_count": null,
   "id": "90d536ef",
   "metadata": {
    "scrolled": true
   },
   "outputs": [],
   "source": [
    "# Create a box plot for the variables 'Body Mass (g)' and 'Sex'\n",
    "sns.boxplot(data = penguins, x = \"Sex\", y = \"Flipper Length (mm)\")\n",
    "\n",
    "# Add a title\n",
    "plt.title(\"Flipper Length (mm) by Sex and Species\")\n",
    "\n",
    "# Display the plot\n",
    "plt.show()"
   ]
  },
  {
   "cell_type": "markdown",
   "id": "f6dc2b6e",
   "metadata": {},
   "source": [
    "What if we wanted to learn more about how flipper length varies by sex AND by species? We can add the 'Species' variable to our box plot by adding color, using the hue parameter within sns.boxplot( ). Let's try it out!\n",
    "\n",
    "**Structure:**\n",
    "* sns.boxplot(data = dataframe, x = \"var_one\", y = \"var_two\", hue = \"var_three\")\n",
    "\n",
    "**Parameters**: \n",
    "* data = dataframe\n",
    "* x = \"columnName\"; categorical variable of choice\n",
    "* y = \"columnName\"; quantitative variable of choice\n",
    "* hue = \"columnName\"; color by each category from this variable"
   ]
  },
  {
   "cell_type": "code",
   "execution_count": null,
   "id": "2800ac9b",
   "metadata": {},
   "outputs": [],
   "source": [
    "\n",
    "# Create a box plot for the variables Body Mass (g) and Sex and color by Specie\n",
    "sns.boxplot(data = penguins, x = \"Sex\", y = \"Flipper Length (mm)\", hue = \"Species\")\n",
    "\n",
    "# Edits legend so that it does not block the box drawings\n",
    "plt.legend(bbox_to_anchor = (1, 0.6))\n",
    "\n",
    "# Add a title\n",
    "plt.title(\"Flipper Length (mm) by Sex and Species\")\n",
    "\n",
    "# Display the plot\n",
    "plt.show()"
   ]
  },
  {
   "cell_type": "markdown",
   "id": "ed1deb44",
   "metadata": {},
   "source": [
    "## Tips\n",
    "\n",
    "As you practice the skills learned in this section, please keep in mind the following suggestions:\n",
    "\n",
    "+ Always remember to load the necessary libraries.\n",
    "+ Name your variables, dataframes, and labels helpful and informative titles.\n",
    "+ Remember that Python is case-sensitive, so save yourself the trouble and type carefully. \n",
    "+ Don't lose hope if you encounter a warning. Troubleshooting warnings are a great way to learn.\n",
    "+ If you get stuck, use the help documentation that you learned in our first lecture to help you troubleshoot!\n",
    "+ If you want extra material on univariate exploratory data analysis, check out the extra material posted on our repo!"
   ]
  },
  {
   "cell_type": "markdown",
   "id": "066f0087",
   "metadata": {},
   "source": [
    "## References\n",
    "Main resources that we used to build this material:\n",
    "\n",
    "1. Navlani, Avinash, Armando Fandango, and Ivan Idris. 2021. Python Data Analysis. Third Edition. Birmingham: Packt Publishing.\n",
    "\n",
    "2. Python Data Analysis - Third Edition. (2019). Jupyter Notebook. Packt. https://github.com/PacktPublishing/Python-Data-Analysis-Third-Edition/blob/e1cd8029a1830fe5ecc86379ab361d215e71f036/Chapter05/HR_comma_sep.csv. Accessed July 7, 2022.\n",
    "\n",
    "3. Pandas documentation: https://pandas.pydata.org/docs/\n",
    "\n",
    "4. Seaborn documentation: https://seaborn.pydata.org/tutorial.html \n",
    "\n",
    "5. Stackoverflow: https://stackoverflow.com\n",
    "\n",
    "6. Geekforgeeks: https://www.geeksforgeeks.org \n",
    "\n",
    "7. Pythongraphgallery: https://www.python-graph-gallery.com\n",
    "\n",
    "8. Matplotlib documentation: https://matplotlib.org/stable/tutorials/index\n",
    "\n"
   ]
  }
 ],
 "metadata": {
  "kernelspec": {
   "display_name": "Python 3 (ipykernel)",
   "language": "python",
   "name": "python3"
  },
  "language_info": {
   "codemirror_mode": {
    "name": "ipython",
    "version": 3
   },
   "file_extension": ".py",
   "mimetype": "text/x-python",
   "name": "python",
   "nbconvert_exporter": "python",
   "pygments_lexer": "ipython3",
   "version": "3.9.12"
  }
 },
 "nbformat": 4,
 "nbformat_minor": 5
}
