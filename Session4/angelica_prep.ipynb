{
 "cells": [
  {
   "cell_type": "markdown",
   "id": "638fda9d",
   "metadata": {},
   "source": [
    "To practice performing statistical inference in Python, we begin by importing a 2015 dataset that contains information on rollercoasters in international amusement parks. Take a glimpse at the data using the *head( )* , *tail( )*, or *describe( )* functions to familiarize yourself with the variables."
   ]
  },
  {
   "cell_type": "code",
   "execution_count": 2,
   "id": "f796ee44",
   "metadata": {
    "scrolled": true
   },
   "outputs": [
    {
     "data": {
      "text/html": [
       "<div>\n",
       "<style scoped>\n",
       "    .dataframe tbody tr th:only-of-type {\n",
       "        vertical-align: middle;\n",
       "    }\n",
       "\n",
       "    .dataframe tbody tr th {\n",
       "        vertical-align: top;\n",
       "    }\n",
       "\n",
       "    .dataframe thead th {\n",
       "        text-align: right;\n",
       "    }\n",
       "</style>\n",
       "<table border=\"1\" class=\"dataframe\">\n",
       "  <thead>\n",
       "    <tr style=\"text-align: right;\">\n",
       "      <th></th>\n",
       "      <th>Name</th>\n",
       "      <th>Park</th>\n",
       "      <th>Track</th>\n",
       "      <th>Speed</th>\n",
       "      <th>Height</th>\n",
       "      <th>Drop</th>\n",
       "      <th>Length</th>\n",
       "      <th>Duration</th>\n",
       "      <th>Inversions</th>\n",
       "    </tr>\n",
       "  </thead>\n",
       "  <tbody>\n",
       "    <tr>\n",
       "      <th>236</th>\n",
       "      <td>Thunderbird</td>\n",
       "      <td>Holiday World</td>\n",
       "      <td>Steel</td>\n",
       "      <td>60.0</td>\n",
       "      <td>140.0</td>\n",
       "      <td>NaN</td>\n",
       "      <td>3035.0</td>\n",
       "      <td>78.0</td>\n",
       "      <td>1</td>\n",
       "    </tr>\n",
       "    <tr>\n",
       "      <th>237</th>\n",
       "      <td>Twisted Colossus</td>\n",
       "      <td>Six Flags Magic Mountain</td>\n",
       "      <td>Steel</td>\n",
       "      <td>57.0</td>\n",
       "      <td>121.0</td>\n",
       "      <td>128.0</td>\n",
       "      <td>4990.0</td>\n",
       "      <td>220.0</td>\n",
       "      <td>1</td>\n",
       "    </tr>\n",
       "    <tr>\n",
       "      <th>238</th>\n",
       "      <td>Velikoluksky Miasokombinat</td>\n",
       "      <td>Wonder Island</td>\n",
       "      <td>Steel</td>\n",
       "      <td>62.1</td>\n",
       "      <td>124.7</td>\n",
       "      <td>NaN</td>\n",
       "      <td>3464.6</td>\n",
       "      <td>150.0</td>\n",
       "      <td>1</td>\n",
       "    </tr>\n",
       "    <tr>\n",
       "      <th>239</th>\n",
       "      <td>Wicked Cyclone</td>\n",
       "      <td>Six Flags New England</td>\n",
       "      <td>Steel</td>\n",
       "      <td>55.0</td>\n",
       "      <td>109.0</td>\n",
       "      <td>NaN</td>\n",
       "      <td>3320.0</td>\n",
       "      <td>NaN</td>\n",
       "      <td>1</td>\n",
       "    </tr>\n",
       "    <tr>\n",
       "      <th>240</th>\n",
       "      <td>Zombie Ride</td>\n",
       "      <td>Bosque M‡gico</td>\n",
       "      <td>Steel</td>\n",
       "      <td>62.0</td>\n",
       "      <td>150.0</td>\n",
       "      <td>NaN</td>\n",
       "      <td>863.0</td>\n",
       "      <td>NaN</td>\n",
       "      <td>1</td>\n",
       "    </tr>\n",
       "  </tbody>\n",
       "</table>\n",
       "</div>"
      ],
      "text/plain": [
       "                           Name                      Park  Track  Speed  \\\n",
       "236                 Thunderbird             Holiday World  Steel   60.0   \n",
       "237            Twisted Colossus  Six Flags Magic Mountain  Steel   57.0   \n",
       "238  Velikoluksky Miasokombinat             Wonder Island  Steel   62.1   \n",
       "239              Wicked Cyclone     Six Flags New England  Steel   55.0   \n",
       "240                 Zombie Ride             Bosque M‡gico  Steel   62.0   \n",
       "\n",
       "     Height   Drop  Length  Duration  Inversions  \n",
       "236   140.0    NaN  3035.0      78.0           1  \n",
       "237   121.0  128.0  4990.0     220.0           1  \n",
       "238   124.7    NaN  3464.6     150.0           1  \n",
       "239   109.0    NaN  3320.0       NaN           1  \n",
       "240   150.0    NaN   863.0       NaN           1  "
      ]
     },
     "execution_count": 2,
     "metadata": {},
     "output_type": "execute_result"
    }
   ],
   "source": [
    "# Add libraries\n",
    "import pandas as pd\n",
    "\n",
    "# Import data \n",
    "Coasters = pd.read_csv(\"Coasters_2015.csv\")\n",
    "\n",
    "# Glimpse data\n",
    "Coasters.tail()"
   ]
  },
  {
   "cell_type": "markdown",
   "id": "1511f983",
   "metadata": {},
   "source": [
    "## One-sample t-test\n",
    "\n",
    "We will begin by performing a one-sample t-test. Recall that the purpose of this parametric test is to determine if there is a significant difference between a sample mean and the hypothesized population mean. Let's say we were interested in learning the true average speed of roller coasters in this dataset. Let's begin by finding the mean of our data's speed!"
   ]
  },
  {
   "cell_type": "code",
   "execution_count": 3,
   "id": "70540ab0",
   "metadata": {},
   "outputs": [
    {
     "name": "stdout",
     "output_type": "stream",
     "text": [
      "Mean: 55.350622406639026\n"
     ]
    }
   ],
   "source": [
    "# Add Libraries\n",
    "import numpy as np\n",
    "import pandas as pd\n",
    "\n",
    "# Find mean\n",
    "mean_value = np.mean(Coasters[\"Speed\"])\n",
    "\n",
    "# Print the result\n",
    "print(\"Mean:\", mean_value)"
   ]
  },
  {
   "cell_type": "markdown",
   "id": "37fcfb20",
   "metadata": {},
   "source": [
    "Roller coaster expert, Biddy Martin, previously stated that roller coasters actually travel at an average speed of 52 mph. Lets put her word to the test and perform a one-sample t-test to determine if this is likely to be true based on our sample. \n",
    "+ H0: The average speed of roller coasters is 52 mph.\n",
    "+ HA: The average speed of roller coasters is not 52 mph.\n",
    "\n",
    "Before we can put this mean to the test, let's follow our typical inference procedures and check the conditions. For a one-sample t-test we need to check the independence assumption and the normal population assumption. Our data satisifies the independence assumption because the data arises from a random sample of roller coasters.\n",
    "\n",
    "To check the normal population assumption, we need to produce a histogram of the variable in question or a Normal probability plot. Since you have learned in previous lessons how to create a histogram, we will use this as an opportunity to teach you how to create a Normal probability plot, aka a Q-Q plot. \n",
    "\n",
    "The method we will use to specify create the Q-Q plot is from the *scipy.stats* plot, called *probplot( )*. We will need to specify the following options within the parentheses of this method to generate our desired plot:\n",
    "+ data = our dataset and the variable in question, e.g. dataset_name[\"variable_name\"]\n",
    "+ plot = pyplot, this instructs Python to plot the quantiles"
   ]
  },
  {
   "cell_type": "code",
   "execution_count": 4,
   "id": "394d7314",
   "metadata": {
    "scrolled": true
   },
   "outputs": [
    {
     "data": {
      "image/png": "[encoded data removed]",
      "text/plain": [
       "<Figure size 432x288 with 1 Axes>"
      ]
     },
     "metadata": {
      "needs_background": "light"
     },
     "output_type": "display_data"
    }
   ],
   "source": [
    "# Add libraries\n",
    "import matplotlib.pyplot as plt\n",
    "\n",
    "# Add our Q-Q funtion\n",
    "from scipy.stats import probplot\n",
    "from matplotlib import pyplot\n",
    "\n",
    "# Draw the Q-Q plot\n",
    "probplot(Coasters[\"Speed\"], plot = pyplot)\n",
    "\n",
    "# Display the plot\n",
    "plt.show()"
   ]
  },
  {
   "cell_type": "markdown",
   "id": "49be5122",
   "metadata": {},
   "source": [
    "In the Normal probability plot above, we observe some deviation from the best fit line in the upper tail. However, given that this is a rather large sample (n > 50), we are safe to use *t* methods since the data is not extremely skewed. We will, however, still proceed with caution.\n",
    "\n",
    "Using the function *ttest_1samp( )* from the *scipy.stats* library, let's perform our one-sample t-test. Within this new function, we will need to supply information for the following options:\n",
    "+ data = our dataset and the variable in question, e.g. dataset_name[\"variable_name\"]\n",
    "+ popmean = expected value in null hypothesis"
   ]
  },
  {
   "cell_type": "code",
   "execution_count": 5,
   "id": "f689383f",
   "metadata": {
    "scrolled": true
   },
   "outputs": [
    {
     "name": "stdout",
     "output_type": "stream",
     "text": [
      "P Value: 0.005748417140227706\n",
      "t-test Value: 2.7868265618258343\n"
     ]
    }
   ],
   "source": [
    "# Add necessary functions\n",
    "from scipy.stats import ttest_1samp\n",
    "\n",
    "# Assign the results of our test to two variables\n",
    "t_test_value, p_value = ttest_1samp(Coasters[\"Speed\"], 52)\n",
    "\n",
    "# View the results\n",
    "print(\"P Value:\", p_value)\n",
    "print(\"t-test Value:\", t_test_value)"
   ]
  },
  {
   "cell_type": "markdown",
   "id": "20cc1c6e",
   "metadata": {},
   "source": [
    "Great work! We have just performed our first one-sample t-test. Now lets instruct Python to determine for us whether or not the P Value for our t-test is small enough to reject the null hypothesis that the average speed is 52 mph."
   ]
  },
  {
   "cell_type": "code",
   "execution_count": 6,
   "id": "138e61b7",
   "metadata": {},
   "outputs": [
    {
     "name": "stdout",
     "output_type": "stream",
     "text": [
      "Reject the null hypothesis\n"
     ]
    }
   ],
   "source": [
    "# Let's use 0.05 or 5% as the significance level of alpha.\n",
    "if p_value < 0.05:\n",
    "    \n",
    "    print(\"Reject the null hypothesis\")\n",
    "    \n",
    "else:\n",
    "    print(\"Fail to reject the null hypothesis\")"
   ]
  },
  {
   "cell_type": "markdown",
   "id": "0a9bef90",
   "metadata": {},
   "source": [
    "Unfortunately, it appears that Biddy may have been wrong, as we have to reject the null hypothesis that the average speed of a roller coaster is 52 mph at a significant level of 0.05. What a shocker! Biddy usually gets this stuff right. "
   ]
  },
  {
   "cell_type": "code",
   "execution_count": 7,
   "id": "be3c15dc",
   "metadata": {},
   "outputs": [
    {
     "data": {
      "text/plain": [
       "Ttest_1sampResult(statistic=2.7868265618258343, pvalue=0.005748417140227706)"
      ]
     },
     "execution_count": 7,
     "metadata": {},
     "output_type": "execute_result"
    }
   ],
   "source": [
    "# Note: We do not need to assign the output of the function ttest_1samp to two values.\n",
    "# Python automatically outputs our t-test value and p-value.\n",
    "# However, it is good practice to assign these values so we can reuse them later.\n",
    "\n",
    "ttest_1samp(Coasters[\"Speed\"], 52)"
   ]
  },
  {
   "cell_type": "markdown",
   "id": "380316a7",
   "metadata": {},
   "source": [
    "## Two-sample t-test\n",
    "\n",
    "Recall that a two-sample t-test is used to determine if there is a significant difference between the sample means of two independent groups. This statistical inference method is also know as the independent samples t-test. Using the same dataset as before, lets see if the mean speed is the same for roller coasters made of wood and steel.\n",
    "+ H0: The mean speeds for steel roller coasters and wood coasters are equal.\n",
    "+ HA: The mean speeds are different.\n",
    "\n",
    "As usual, we will start off by adding the libraries and functions we will need to use. Then, we will need to create two new dataframes from our original dataset, because the method for a two-sample t-test requires two dataframes."
   ]
  },
  {
   "cell_type": "code",
   "execution_count": 8,
   "id": "f419958c",
   "metadata": {
    "scrolled": true
   },
   "outputs": [
    {
     "data": {
      "text/html": [
       "<div>\n",
       "<style scoped>\n",
       "    .dataframe tbody tr th:only-of-type {\n",
       "        vertical-align: middle;\n",
       "    }\n",
       "\n",
       "    .dataframe tbody tr th {\n",
       "        vertical-align: top;\n",
       "    }\n",
       "\n",
       "    .dataframe thead th {\n",
       "        text-align: right;\n",
       "    }\n",
       "</style>\n",
       "<table border=\"1\" class=\"dataframe\">\n",
       "  <thead>\n",
       "    <tr style=\"text-align: right;\">\n",
       "      <th></th>\n",
       "      <th>Name</th>\n",
       "      <th>Park</th>\n",
       "      <th>Track</th>\n",
       "      <th>Speed</th>\n",
       "      <th>Height</th>\n",
       "      <th>Drop</th>\n",
       "      <th>Length</th>\n",
       "      <th>Duration</th>\n",
       "      <th>Inversions</th>\n",
       "    </tr>\n",
       "  </thead>\n",
       "  <tbody>\n",
       "    <tr>\n",
       "      <th>11</th>\n",
       "      <td>Son Of Beast</td>\n",
       "      <td>Paramount's Kings Island</td>\n",
       "      <td>Wood</td>\n",
       "      <td>78.4</td>\n",
       "      <td>218.0</td>\n",
       "      <td>214.0</td>\n",
       "      <td>7032.0</td>\n",
       "      <td>NaN</td>\n",
       "      <td>1</td>\n",
       "    </tr>\n",
       "    <tr>\n",
       "      <th>19</th>\n",
       "      <td>Rattler</td>\n",
       "      <td>Six Flags Fiesta Texas</td>\n",
       "      <td>Wood</td>\n",
       "      <td>73.0</td>\n",
       "      <td>179.5</td>\n",
       "      <td>166.5</td>\n",
       "      <td>5080.0</td>\n",
       "      <td>146.0</td>\n",
       "      <td>0</td>\n",
       "    </tr>\n",
       "    <tr>\n",
       "      <th>28</th>\n",
       "      <td>Boss</td>\n",
       "      <td>Six Flags St. Louis</td>\n",
       "      <td>Wood</td>\n",
       "      <td>66.3</td>\n",
       "      <td>122.0</td>\n",
       "      <td>150.0</td>\n",
       "      <td>5051.0</td>\n",
       "      <td>NaN</td>\n",
       "      <td>0</td>\n",
       "    </tr>\n",
       "    <tr>\n",
       "      <th>29</th>\n",
       "      <td>American Eagle</td>\n",
       "      <td>Six Flags Great America</td>\n",
       "      <td>Wood</td>\n",
       "      <td>66.0</td>\n",
       "      <td>127.0</td>\n",
       "      <td>147.0</td>\n",
       "      <td>4650.0</td>\n",
       "      <td>143.0</td>\n",
       "      <td>0</td>\n",
       "    </tr>\n",
       "    <tr>\n",
       "      <th>33</th>\n",
       "      <td>Hercules</td>\n",
       "      <td>Dorney Park</td>\n",
       "      <td>Wood</td>\n",
       "      <td>65.0</td>\n",
       "      <td>95.0</td>\n",
       "      <td>151.0</td>\n",
       "      <td>4000.0</td>\n",
       "      <td>135.0</td>\n",
       "      <td>0</td>\n",
       "    </tr>\n",
       "  </tbody>\n",
       "</table>\n",
       "</div>"
      ],
      "text/plain": [
       "              Name                      Park Track  Speed  Height   Drop  \\\n",
       "11    Son Of Beast  Paramount's Kings Island  Wood   78.4   218.0  214.0   \n",
       "19         Rattler    Six Flags Fiesta Texas  Wood   73.0   179.5  166.5   \n",
       "28            Boss       Six Flags St. Louis  Wood   66.3   122.0  150.0   \n",
       "29  American Eagle   Six Flags Great America  Wood   66.0   127.0  147.0   \n",
       "33        Hercules               Dorney Park  Wood   65.0    95.0  151.0   \n",
       "\n",
       "    Length  Duration  Inversions  \n",
       "11  7032.0       NaN           1  \n",
       "19  5080.0     146.0           0  \n",
       "28  5051.0       NaN           0  \n",
       "29  4650.0     143.0           0  \n",
       "33  4000.0     135.0           0  "
      ]
     },
     "execution_count": 8,
     "metadata": {},
     "output_type": "execute_result"
    }
   ],
   "source": [
    "# Separates the data into two new dataframes, where one is only Steel rollercoasters and the other is only Wood\n",
    "steel = Coasters[Coasters.Track == \"Steel\"]\n",
    "wood = Coasters[Coasters.Track == \"Wood\"]\n",
    "\n",
    "# Confirm this for yourself by looking at the first few rows of each dataframe\n",
    "steel.head()\n",
    "wood.head()"
   ]
  },
  {
   "cell_type": "markdown",
   "id": "d3726349",
   "metadata": {},
   "source": [
    "Now that we have completed our set-up, let's check the conditions for inference. For a two-sample t-test, we need to check the randomization condition, independent groups condition, and the nearly normal condition. Again, since this is a random sample of roller coasters, we can satisfy the randomization assumption. Independence is satisified because one roller coaster being made of wood does not impact another roller coaster's likelihood to be made of steel. To test the normality condition, let's produce two Q-Q plots: one for each track type."
   ]
  },
  {
   "cell_type": "code",
   "execution_count": 129,
   "id": "fd941efc",
   "metadata": {
    "scrolled": true
   },
   "outputs": [
    {
     "data": {
      "image/png": "[encoded data removed]",
      "text/plain": [
       "<Figure size 432x288 with 1 Axes>"
      ]
     },
     "metadata": {
      "needs_background": "light"
     },
     "output_type": "display_data"
    }
   ],
   "source": [
    "# Draw the Q-Q plot\n",
    "probplot(steel[\"Speed\"], plot = pyplot)\n",
    "\n",
    "# Display the plot\n",
    "plt.show()"
   ]
  },
  {
   "cell_type": "code",
   "execution_count": 10,
   "id": "dc042122",
   "metadata": {},
   "outputs": [
    {
     "data": {
      "image/png": "[encoded data removed]",
      "text/plain": [
       "<Figure size 432x288 with 1 Axes>"
      ]
     },
     "metadata": {
      "needs_background": "light"
     },
     "output_type": "display_data"
    }
   ],
   "source": [
    "# Draw the Q-Q plot\n",
    "probplot(wood[\"Speed\"], plot = pyplot)\n",
    "\n",
    "# Display the plot\n",
    "plt.show()"
   ]
  },
  {
   "cell_type": "markdown",
   "id": "b7ae759d",
   "metadata": {},
   "source": [
    "The Q-Q plot for steel rollercoasters satisfies the normality condition, even through there is some slight deviation in the upper tail. Additionally, the sample size is large enough so that this deviation would not be a major issue. The Q-Q plot for wood rollercoasters visualizes substantially less roller coasters that are made from wood, but none of the roller coasters deviate dramatically from the line of best fit. Given these observations, we can proceed to complete our statistical inference.\n",
    "\n",
    "Using the function *ttest_ind( )* from the scipy.stats library, let's perform our one-sample t-test. Within this new function, we will need to supply information for the following options:\n",
    "\n",
    "+ data = our first dataset and the variable in question, e.g. dataset_name[\"variable_name\"]\n",
    "+ data = our second dataset and the variable in question, e.g. dataset_name[\"variable_name\"]"
   ]
  },
  {
   "cell_type": "code",
   "execution_count": 11,
   "id": "c761c7e9",
   "metadata": {
    "scrolled": true
   },
   "outputs": [
    {
     "name": "stdout",
     "output_type": "stream",
     "text": [
      "p-values: 0.42908098032852415\n",
      "t-test: -0.7921118189812297\n"
     ]
    }
   ],
   "source": [
    "# Add functions\n",
    "from scipy.stats import ttest_ind\n",
    "\n",
    "# Assign the results of our test to two variables\n",
    "# IMPORTANT, \"ttest_ind\" requires you to specify a variable within your dataset\n",
    "stat, p = ttest_ind(steel[\"Speed\"], wood[\"Speed\"])\n",
    "\n",
    "# Display the results\n",
    "print(\"p-values:\", p)\n",
    "print(\"t-test:\", stat)"
   ]
  },
  {
   "cell_type": "code",
   "execution_count": 12,
   "id": "439d10ae",
   "metadata": {},
   "outputs": [
    {
     "name": "stdout",
     "output_type": "stream",
     "text": [
      "Fail to reject the null hypothesis\n"
     ]
    }
   ],
   "source": [
    "# Let's use 0.05 or 5% as the significance level of alpha.\n",
    "if p < 0.05:\n",
    "    \n",
    "    print(\"Reject the null hypothesis\")\n",
    "    \n",
    "else:\n",
    "    print(\"Fail to reject the null hypothesis\")"
   ]
  },
  {
   "cell_type": "markdown",
   "id": "487f6cb9",
   "metadata": {},
   "source": [
    "At a significance level of 0.05, we fail to reject the null hypothesis that the speeds of the two different track types of roller coasters are the same. Let's take a look at the actual means of our data and see what we think."
   ]
  },
  {
   "cell_type": "code",
   "execution_count": 13,
   "id": "f0560efd",
   "metadata": {
    "scrolled": true
   },
   "outputs": [
    {
     "name": "stdout",
     "output_type": "stream",
     "text": [
      "54.99811320754719\n"
     ]
    }
   ],
   "source": [
    "# Find the mean speed for steel tracks\n",
    "print(np.mean(steel[\"Speed\"]))"
   ]
  },
  {
   "cell_type": "code",
   "execution_count": 14,
   "id": "e8d89f60",
   "metadata": {},
   "outputs": [
    {
     "name": "stdout",
     "output_type": "stream",
     "text": [
      "57.92758620689655\n"
     ]
    }
   ],
   "source": [
    "# Find the mean speed for wooden tracks\n",
    "print(np.mean(wood[\"Speed\"]))"
   ]
  },
  {
   "cell_type": "markdown",
   "id": "d1a67c16",
   "metadata": {},
   "source": [
    "Some might argue that the difference between the mean speeds is substantial. However, according to our test, we lack sufficient evidence to reject the null hypothesis and state that speed changes depending on track type. Oh well. Maybe with a different sample dataset!"
   ]
  },
  {
   "cell_type": "markdown",
   "id": "d161b4f1",
   "metadata": {},
   "source": [
    "## Paired sample t-test\n",
    "Our next statistical inference task is to complete a paired sample t-test, or a dependent sample t-test, on our Coasters dataset. Remind yourselves that a paired sample t-test checks if the mean difference between two observations of the same group is 0. These tests are particularly useful to determine the impact of a treatment in an experiment.\n",
    "\n",
    "In this example, the data comes from Dr. Chico’s introductory statistics class. Students in the class take two tests over the course of the semester. Dr. Chico gives notoriously difficult exams with the intention of motivating her students to work hard in the class and thus learn as much as possible. Dr. Chico’s theory is that the first test will serve as a “wake up call” for her students, such that when they realize how difficult the class actually is they will be motivated to study harder and earn a higher grade on the second test than they got on the first test.\n",
    "\n",
    "To determine if Dr. Chico's \"wake up call\" truly works, let's perform a paired sample t-test to determine whether or not a student's performance on the second exam is significantly different from their performance on the first exam.\n",
    "+ H0: The average scores for each test will be the same.\n",
    "+ HA: The average scores for each test are not the same."
   ]
  },
  {
   "cell_type": "markdown",
   "id": "cd39ad46",
   "metadata": {},
   "source": [
    "Let's begin by importing the data and taking a look at its format."
   ]
  },
  {
   "cell_type": "code",
   "execution_count": 15,
   "id": "5c2663eb",
   "metadata": {},
   "outputs": [
    {
     "data": {
      "text/html": [
       "<div>\n",
       "<style scoped>\n",
       "    .dataframe tbody tr th:only-of-type {\n",
       "        vertical-align: middle;\n",
       "    }\n",
       "\n",
       "    .dataframe tbody tr th {\n",
       "        vertical-align: top;\n",
       "    }\n",
       "\n",
       "    .dataframe thead th {\n",
       "        text-align: right;\n",
       "    }\n",
       "</style>\n",
       "<table border=\"1\" class=\"dataframe\">\n",
       "  <thead>\n",
       "    <tr style=\"text-align: right;\">\n",
       "      <th></th>\n",
       "      <th>id</th>\n",
       "      <th>grade_test1</th>\n",
       "      <th>grade_test2</th>\n",
       "    </tr>\n",
       "  </thead>\n",
       "  <tbody>\n",
       "    <tr>\n",
       "      <th>15</th>\n",
       "      <td>student16</td>\n",
       "      <td>58.7</td>\n",
       "      <td>60.1</td>\n",
       "    </tr>\n",
       "    <tr>\n",
       "      <th>16</th>\n",
       "      <td>student17</td>\n",
       "      <td>50.1</td>\n",
       "      <td>51.7</td>\n",
       "    </tr>\n",
       "    <tr>\n",
       "      <th>17</th>\n",
       "      <td>student18</td>\n",
       "      <td>64.2</td>\n",
       "      <td>65.6</td>\n",
       "    </tr>\n",
       "    <tr>\n",
       "      <th>18</th>\n",
       "      <td>student19</td>\n",
       "      <td>57.4</td>\n",
       "      <td>58.3</td>\n",
       "    </tr>\n",
       "    <tr>\n",
       "      <th>19</th>\n",
       "      <td>student20</td>\n",
       "      <td>57.1</td>\n",
       "      <td>60.1</td>\n",
       "    </tr>\n",
       "  </tbody>\n",
       "</table>\n",
       "</div>"
      ],
      "text/plain": [
       "           id  grade_test1  grade_test2\n",
       "15  student16         58.7         60.1\n",
       "16  student17         50.1         51.7\n",
       "17  student18         64.2         65.6\n",
       "18  student19         57.4         58.3\n",
       "19  student20         57.1         60.1"
      ]
     },
     "execution_count": 15,
     "metadata": {},
     "output_type": "execute_result"
    }
   ],
   "source": [
    "# Import data \n",
    "Chico = pd.read_csv(\"chico_wide.csv\")\n",
    "\n",
    "# Glimpse data\n",
    "Chico.tail()"
   ]
  },
  {
   "cell_type": "markdown",
   "id": "e07e9982",
   "metadata": {},
   "source": [
    "Before we can begin our test, we will need to create two separate sets of data: one with the scores from the first exam and one with the scores from the second exam."
   ]
  },
  {
   "cell_type": "code",
   "execution_count": 16,
   "id": "0defa373",
   "metadata": {},
   "outputs": [],
   "source": [
    "# Scores on the first exam\n",
    "exam1 = Chico['grade_test1']\n",
    "\n",
    "# Scores on the second exam\n",
    "exam2 = Chico['grade_test2']"
   ]
  },
  {
   "cell_type": "markdown",
   "id": "b2fbf20e",
   "metadata": {},
   "source": [
    "Recall that in a paired sample t-test, the conditions for inference are the paired data condition, independence, and normality. We know that the data satisfy the paired data condition because these two exam scores are dependent on a single student. Given that the data is paired, the groups are not independent, thus, here we are looking for pairwise differences. We can be certain that this data is independent because the observed differences are a representative sample from a population of interest. Additionally, one student's performance does not impact another student's performance on an exam. To check the normality condition, we can again produce our Q-Q plots to check."
   ]
  },
  {
   "cell_type": "code",
   "execution_count": 32,
   "id": "f3a0601c",
   "metadata": {
    "scrolled": true
   },
   "outputs": [
    {
     "data": {
      "image/png": "[encoded data removed]",
      "text/plain": [
       "<Figure size 432x288 with 1 Axes>"
      ]
     },
     "metadata": {
      "needs_background": "light"
     },
     "output_type": "display_data"
    }
   ],
   "source": [
    "# Draw the Q-Q plot\n",
    "probplot(exam1, plot = pyplot)\n",
    "\n",
    "# Display the plot\n",
    "plt.show()"
   ]
  },
  {
   "cell_type": "code",
   "execution_count": 33,
   "id": "ca4ebe37",
   "metadata": {
    "scrolled": true
   },
   "outputs": [
    {
     "data": {
      "image/png": "[encoded data removed]",
      "text/plain": [
       "<Figure size 432x288 with 1 Axes>"
      ]
     },
     "metadata": {
      "needs_background": "light"
     },
     "output_type": "display_data"
    }
   ],
   "source": [
    "# Draw the Q-Q plot\n",
    "probplot(exam2, plot = pyplot)\n",
    "\n",
    "# Display the plot\n",
    "plt.show()"
   ]
  },
  {
   "cell_type": "markdown",
   "id": "5b8af685",
   "metadata": {},
   "source": [
    "Seeing as all of the datapoints roughly follow the line of best fit, we can assume that our data follows the normality condition. We will proceed to test our null hypothesis that Dr. Chico's theory produces no significant difference in students' performance."
   ]
  },
  {
   "cell_type": "code",
   "execution_count": null,
   "id": "5329e86f",
   "metadata": {},
   "outputs": [],
   "source": [
    "# Add method for our paired test\n",
    "from scipy.stats import ttest_rel\n",
    "\n",
    "# Assign the results of our test to two variables\n",
    "stat, p = ttest_rel(exam1, exam2)\n",
    "\n",
    "# Display the results\n",
    "print(\"p-values:\", p)\n",
    "print(\"t-test:\", stat)"
   ]
  },
  {
   "cell_type": "code",
   "execution_count": null,
   "id": "f41acc80",
   "metadata": {},
   "outputs": [],
   "source": [
    "# Let's use 0.05 or 5% as the significance level of alpha.\n",
    "if p < 0.05:\n",
    "    \n",
    "    print(\"Reject the null hypothesis\")\n",
    "    \n",
    "else:\n",
    "    print(\"Fail to reject the null hypothesis\")"
   ]
  },
  {
   "cell_type": "markdown",
   "id": "50f76443",
   "metadata": {},
   "source": [
    "When alpha is equal to 0.05, we reject the null hypothesis that Dr. Chico's theory produces no significant difference in students' performance. Rather, it appears that students performed significantly better on the second exam, which may be a result of Dr. Chico making the first exam particularly challenging. "
   ]
  },
  {
   "cell_type": "markdown",
   "id": "85d94098",
   "metadata": {},
   "source": [
    "## One-way ANOVA\n",
    "\n",
    "In the case where we have two or multiple groups that we would like to compare at the same time, we will want to use ANOVA as our statistical inference test. ANOVA checks for a signficant difference between and within multiple groups, and it can test multiple hypotheses at once. \n",
    "\n",
    "In our example, we will analyze the backpack weight to body weight ratios of students in their first through third years of their undergraduate studies. \n",
    "+ H0: There is no significant difference between the ratios of these year groups.\n",
    "+ H0: There is a significant difference between the ratios of these year groups.\n",
    "\n",
    "Let's begin by familiarizing ourselves with the data."
   ]
  },
  {
   "cell_type": "code",
   "execution_count": 3,
   "id": "4a9571f6",
   "metadata": {},
   "outputs": [
    {
     "data": {
      "text/html": [
       "<div>\n",
       "<style scoped>\n",
       "    .dataframe tbody tr th:only-of-type {\n",
       "        vertical-align: middle;\n",
       "    }\n",
       "\n",
       "    .dataframe tbody tr th {\n",
       "        vertical-align: top;\n",
       "    }\n",
       "\n",
       "    .dataframe thead th {\n",
       "        text-align: right;\n",
       "    }\n",
       "</style>\n",
       "<table border=\"1\" class=\"dataframe\">\n",
       "  <thead>\n",
       "    <tr style=\"text-align: right;\">\n",
       "      <th></th>\n",
       "      <th>Unnamed: 0.3</th>\n",
       "      <th>Unnamed: 0.2</th>\n",
       "      <th>Unnamed: 0.1</th>\n",
       "      <th>Unnamed: 0</th>\n",
       "      <th>BackpackWeight</th>\n",
       "      <th>BodyWeight</th>\n",
       "      <th>Ratio</th>\n",
       "      <th>BackProblems</th>\n",
       "      <th>Major</th>\n",
       "      <th>Year</th>\n",
       "      <th>Sex</th>\n",
       "      <th>Status</th>\n",
       "      <th>Units</th>\n",
       "    </tr>\n",
       "  </thead>\n",
       "  <tbody>\n",
       "    <tr>\n",
       "      <th>0</th>\n",
       "      <td>0</td>\n",
       "      <td>0</td>\n",
       "      <td>0</td>\n",
       "      <td>0</td>\n",
       "      <td>9</td>\n",
       "      <td>125</td>\n",
       "      <td>0.072000</td>\n",
       "      <td>1</td>\n",
       "      <td>Bio</td>\n",
       "      <td>3</td>\n",
       "      <td>Female</td>\n",
       "      <td>U</td>\n",
       "      <td>13</td>\n",
       "    </tr>\n",
       "    <tr>\n",
       "      <th>1</th>\n",
       "      <td>1</td>\n",
       "      <td>1</td>\n",
       "      <td>1</td>\n",
       "      <td>4</td>\n",
       "      <td>8</td>\n",
       "      <td>180</td>\n",
       "      <td>0.044444</td>\n",
       "      <td>0</td>\n",
       "      <td>EE</td>\n",
       "      <td>2</td>\n",
       "      <td>Female</td>\n",
       "      <td>U</td>\n",
       "      <td>14</td>\n",
       "    </tr>\n",
       "    <tr>\n",
       "      <th>2</th>\n",
       "      <td>2</td>\n",
       "      <td>2</td>\n",
       "      <td>2</td>\n",
       "      <td>6</td>\n",
       "      <td>8</td>\n",
       "      <td>170</td>\n",
       "      <td>0.047059</td>\n",
       "      <td>0</td>\n",
       "      <td>CM</td>\n",
       "      <td>3</td>\n",
       "      <td>Male</td>\n",
       "      <td>U</td>\n",
       "      <td>15</td>\n",
       "    </tr>\n",
       "    <tr>\n",
       "      <th>3</th>\n",
       "      <td>3</td>\n",
       "      <td>3</td>\n",
       "      <td>3</td>\n",
       "      <td>10</td>\n",
       "      <td>8</td>\n",
       "      <td>135</td>\n",
       "      <td>0.059259</td>\n",
       "      <td>0</td>\n",
       "      <td>Bus</td>\n",
       "      <td>3</td>\n",
       "      <td>Female</td>\n",
       "      <td>U</td>\n",
       "      <td>15</td>\n",
       "    </tr>\n",
       "    <tr>\n",
       "      <th>4</th>\n",
       "      <td>4</td>\n",
       "      <td>4</td>\n",
       "      <td>4</td>\n",
       "      <td>14</td>\n",
       "      <td>12</td>\n",
       "      <td>125</td>\n",
       "      <td>0.096000</td>\n",
       "      <td>1</td>\n",
       "      <td>CS</td>\n",
       "      <td>3</td>\n",
       "      <td>Female</td>\n",
       "      <td>U</td>\n",
       "      <td>12</td>\n",
       "    </tr>\n",
       "  </tbody>\n",
       "</table>\n",
       "</div>"
      ],
      "text/plain": [
       "   Unnamed: 0.3  Unnamed: 0.2  Unnamed: 0.1  Unnamed: 0  BackpackWeight  \\\n",
       "0             0             0             0           0               9   \n",
       "1             1             1             1           4               8   \n",
       "2             2             2             2           6               8   \n",
       "3             3             3             3          10               8   \n",
       "4             4             4             4          14              12   \n",
       "\n",
       "   BodyWeight     Ratio  BackProblems Major  Year     Sex Status  Units  \n",
       "0         125  0.072000             1   Bio     3  Female      U     13  \n",
       "1         180  0.044444             0    EE     2  Female      U     14  \n",
       "2         170  0.047059             0    CM     3    Male      U     15  \n",
       "3         135  0.059259             0   Bus     3  Female      U     15  \n",
       "4         125  0.096000             1    CS     3  Female      U     12  "
      ]
     },
     "execution_count": 3,
     "metadata": {},
     "output_type": "execute_result"
    }
   ],
   "source": [
    "# Import data \n",
    "bp = pd.read_csv(\"Backpack.csv\")\n",
    "\n",
    "# Glimpse the data\n",
    "bp.head()"
   ]
  },
  {
   "cell_type": "markdown",
   "id": "58de225e",
   "metadata": {},
   "source": [
    "Let's check the conditions for inference for one-way ANOVA which are linearity, independence, equal variance, and normality. Our data satisfies the independence condition because one student's backpack to bodyweight ratio does not impact another student's ratio. We will produce a Normal Q-Q plot to check normality, and now we will also teach you how to create a Residuals vs. Fitted plot to check linearity and equal variance."
   ]
  },
  {
   "cell_type": "code",
   "execution_count": 126,
   "id": "6e597fb1",
   "metadata": {
    "scrolled": false
   },
   "outputs": [
    {
     "data": {
      "image/png": "[encoded data removed]",
      "text/plain": [
       "<Figure size 432x288 with 1 Axes>"
      ]
     },
     "metadata": {
      "needs_background": "light"
     },
     "output_type": "display_data"
    }
   ],
   "source": [
    "# Draw the Q-Q plot\n",
    "probplot(bp[\"Ratio\"], plot = pyplot)\n",
    "\n",
    "# Display the figure\n",
    "plt.show()"
   ]
  },
  {
   "cell_type": "markdown",
   "id": "87742a06",
   "metadata": {},
   "source": [
    "Based on the probability plot above, the data looks to be pretty normal with the exception of some slight deviation in the upper and lower tails. We will proceed to create the Residuals vs. Fitted plot with caution.\n",
    "\n",
    "To produce the following plot, we will need to create the model for our one-way ANOVA. In this case, we will need to articulate to Python that we are trying to understand the relationship between backpack ratios and a student's year. After fitting the model, we will then need to direct Python to calculate the fitted and residual values. After that, we will be using matplotlib.pyplot to create a scatterplot of the residuals vs. fitted points.\n",
    "\n",
    "When fitting a linear model, we will be using a new method called *ols( )* from the *statsmodels.formul.api* library. As good practice, we will assign the output to a variable. Within the parentheses, we must specify the following options:\n",
    "+ data = our dataset\n",
    "+ formula = \"dependent_variable ~ explanatory_variable\"\n",
    "+ .fit() = function written after the parentheses that instructs Python to fit the model"
   ]
  },
  {
   "cell_type": "code",
   "execution_count": 127,
   "id": "c0f65095",
   "metadata": {},
   "outputs": [
    {
     "data": {
      "image/png": "[encoded data removed]",
      "text/plain": [
       "<Figure size 432x288 with 1 Axes>"
      ]
     },
     "metadata": {
      "needs_background": "light"
     },
     "output_type": "display_data"
    }
   ],
   "source": [
    "# Add libraries and functions\n",
    "import pandas as pd\n",
    "from statsmodels.formula.api import ols\n",
    "\n",
    "# Fitting linear model\n",
    "anova_mod = ols(data = bp, formula = \"Ratio ~ C(Year)\").fit()\n",
    "\n",
    "# Fitted values that predict the backpack ratio\n",
    "fitted = anova_mod.predict()\n",
    "\n",
    "# Observed ratios - fitted values = residuals\n",
    "# .resid finds the residuals\n",
    "residuals = anova_mod.resid\n",
    "\n",
    "# Residuals vs. fitted values\n",
    "plt.scatter(fitted, residuals)\n",
    "\n",
    "# Adds a line to more clearly see variance from 0\n",
    "plt.axhline(y = 0, color = \"black\", linestyle = \":\")\n",
    "\n",
    "# Add labels\n",
    "plt.xlabel(\"Fitted Values\")\n",
    "plt.ylabel(\"Residuals\")\n",
    "plt.title(\"Fitted vs. Residuals\")\n",
    "\n",
    "# Display the graph\n",
    "plt.show()"
   ]
  },
  {
   "cell_type": "markdown",
   "id": "f2c5316c",
   "metadata": {},
   "source": [
    "The fitted vs. residuals plot demonstrates that the conditions for linearity and equal variance are not satisifed by this dataset. The data points are showing clear patterns and do not fall around the zero line. For the sake of learning how to do ANOVA, we will continue without taking the results of the test to mean much.\n",
    "\n",
    "Since our data is set-up and we have checked conditions, we can begin our one-way ANOVA test to see if backpack to bodyweight ratio changes depending on a student's year. We will generate a one-way ANOVA table using the function *stats.anova_lm* from the *statsmodels.api* library. As good practice, we will assign our table to a variable, and within the parentheses, specify the following options:\n",
    "+ model = the model name assigned when we fit the model above\n",
    "+ typ = the type of ANOVA test to perform, e.g. \"1\" for one-way ANOVA, \"2\" for two-way ANOVA, and so forth."
   ]
  },
  {
   "cell_type": "code",
   "execution_count": 123,
   "id": "4be18bb8",
   "metadata": {},
   "outputs": [
    {
     "name": "stdout",
     "output_type": "stream",
     "text": [
      "            df    sum_sq   mean_sq         F    PR(>F)\n",
      "C(Year)    2.0  0.001727  0.000863  0.763551  0.470884\n",
      "Residual  55.0  0.062186  0.001131       NaN       NaN\n"
     ]
    }
   ],
   "source": [
    "# Add new functions\n",
    "from statsmodels.api import stats\n",
    "\n",
    "# Create ANOVA table\n",
    "anova_table = stats.anova_lm(anova_mod, typ = 1)\n",
    "\n",
    "# Display the ANOVA table\n",
    "print(anova_table)"
   ]
  },
  {
   "cell_type": "markdown",
   "id": "0daba04f",
   "metadata": {},
   "source": [
    "Just now, we have tested the hypothesis that there is no difference between the mean backpack ratio for students of different years in their undergraduate studies. Our results show us that we fail to reject the null hypothesis at a significance level of 0.05, because the p-value for our F-statistic is 0.47. Meaning, there is no significant difference between the backpack to bodyweight ratios for students of different class years. However, given that our data fails the conditions for one-way ANOVA's inference, we should not take these results as fact and try again with a better dataset."
   ]
  },
  {
   "cell_type": "markdown",
   "id": "798b4adb",
   "metadata": {},
   "source": [
    "## References\n",
    "+ https://brendanhcullen.github.io/psy611/labs/lab-9.html#data\n",
    "+ https://www.reneshbedre.com/blog/anova.html\n",
    "+ Python Data Analysis - Third Edition. (2019) 2022. Jupyter Notebook. Packt. https://github.com/PacktPublishing/Python-Data-Analysis-Third-Edition/blob/e1cd8029a1830fe5ecc86379ab361d215e71f036/Chapter05/HR_comma_sep.csv.\n",
    "+ Agresti, Alan, and Maria Kateri. 2021. Foundations of Statistics for Data Scientists: With R and Python. CRC Press.\n",
    "+ De Veaux, Richard D., Paul F. Velleman, and David E. Bock. 2022. Intro Stats. Sixth Edition. Pearson Education, Inc.\n",
    "+ “STAT 2: Modeling with Regression and ANOVA 2E | Student Resources.” n.d. Accessed July 22, 2022. https://www.macmillanlearning.com/studentresources/college/collegebridgepage/stat22e.html.\n",
    "+ Sunel, Khuzema. 2020. “Statistical Inference in Python Using Pandas, NumPy — Part I.” Medium. August 11, 2020. https://towardsdatascience.com/statistical-inference-in-pyhton-using-pandas-numpy-part-i-c2ac0320dffe.\n"
   ]
  },
  {
   "cell_type": "markdown",
   "id": "348c29dd",
   "metadata": {},
   "source": [
    "## Two-Sample z-Test\n",
    "\n",
    "If we wanted to test the difference between two proportions, we might want to conduct a two-sample z-test. A two-proportion z-test allows us to find the true difference between two proportions for two separate groups. In our example, we will use the Titanic dataset to determine if there is a significant difference in the proportion of people who survived depending on their gender. \n",
    "\n",
    "$H_0$: $p1$ - $p2$ = 0\n",
    "\n",
    "$H_A$: $p1$ and $p2$ are not equal."
   ]
  },
  {
   "cell_type": "code",
   "execution_count": 22,
   "id": "8fca59eb",
   "metadata": {
    "scrolled": true
   },
   "outputs": [
    {
     "data": {
      "text/html": [
       "<div>\n",
       "<style scoped>\n",
       "    .dataframe tbody tr th:only-of-type {\n",
       "        vertical-align: middle;\n",
       "    }\n",
       "\n",
       "    .dataframe tbody tr th {\n",
       "        vertical-align: top;\n",
       "    }\n",
       "\n",
       "    .dataframe thead th {\n",
       "        text-align: right;\n",
       "    }\n",
       "</style>\n",
       "<table border=\"1\" class=\"dataframe\">\n",
       "  <thead>\n",
       "    <tr style=\"text-align: right;\">\n",
       "      <th></th>\n",
       "      <th>Name</th>\n",
       "      <th>Born</th>\n",
       "      <th>Died</th>\n",
       "      <th>Age</th>\n",
       "      <th>Gender</th>\n",
       "      <th>Class.Dept</th>\n",
       "      <th>Class</th>\n",
       "      <th>Ticket</th>\n",
       "      <th>Fare</th>\n",
       "      <th>Cabin</th>\n",
       "      <th>...</th>\n",
       "      <th>Occupation</th>\n",
       "      <th>Survived</th>\n",
       "      <th>Boat</th>\n",
       "      <th>Body</th>\n",
       "      <th>Nationality</th>\n",
       "      <th>Pounds</th>\n",
       "      <th>Shillings</th>\n",
       "      <th>Pence</th>\n",
       "      <th>Price.Paid</th>\n",
       "      <th>Paidpp</th>\n",
       "    </tr>\n",
       "  </thead>\n",
       "  <tbody>\n",
       "    <tr>\n",
       "      <th>0</th>\n",
       "      <td>ABBING, Mr Anthony</td>\n",
       "      <td>1870.0</td>\n",
       "      <td>1912.0</td>\n",
       "      <td>41.0</td>\n",
       "      <td>Male</td>\n",
       "      <td>3rd Class Passenger</td>\n",
       "      <td>3rd</td>\n",
       "      <td>5547</td>\n",
       "      <td>£7             11s</td>\n",
       "      <td>NaN</td>\n",
       "      <td>...</td>\n",
       "      <td>Blacksmith</td>\n",
       "      <td>LOST</td>\n",
       "      <td>NaN</td>\n",
       "      <td>NaN</td>\n",
       "      <td>American</td>\n",
       "      <td>7.0</td>\n",
       "      <td>11.0</td>\n",
       "      <td>NaN</td>\n",
       "      <td>7.55</td>\n",
       "      <td>7.55</td>\n",
       "    </tr>\n",
       "    <tr>\n",
       "      <th>1</th>\n",
       "      <td>ABBOTT, Mr Eugene Joseph</td>\n",
       "      <td>1899.0</td>\n",
       "      <td>1912.0</td>\n",
       "      <td>13.0</td>\n",
       "      <td>Male</td>\n",
       "      <td>3rd Class Passenger</td>\n",
       "      <td>3rd</td>\n",
       "      <td>CA2673</td>\n",
       "      <td>£20             5s</td>\n",
       "      <td>NaN</td>\n",
       "      <td>...</td>\n",
       "      <td>Scholar</td>\n",
       "      <td>LOST</td>\n",
       "      <td>NaN</td>\n",
       "      <td>NaN</td>\n",
       "      <td>American</td>\n",
       "      <td>20.0</td>\n",
       "      <td>5.0</td>\n",
       "      <td>NaN</td>\n",
       "      <td>20.25</td>\n",
       "      <td>6.75</td>\n",
       "    </tr>\n",
       "    <tr>\n",
       "      <th>2</th>\n",
       "      <td>ABBOTT, Mr Rossmore Edward</td>\n",
       "      <td>1896.0</td>\n",
       "      <td>1912.0</td>\n",
       "      <td>16.0</td>\n",
       "      <td>Male</td>\n",
       "      <td>3rd Class Passenger</td>\n",
       "      <td>3rd</td>\n",
       "      <td>CA2673</td>\n",
       "      <td>£20             5s</td>\n",
       "      <td>NaN</td>\n",
       "      <td>...</td>\n",
       "      <td>Jeweller</td>\n",
       "      <td>LOST</td>\n",
       "      <td>NaN</td>\n",
       "      <td>190.0</td>\n",
       "      <td>NaN</td>\n",
       "      <td>20.0</td>\n",
       "      <td>5.0</td>\n",
       "      <td>NaN</td>\n",
       "      <td>20.25</td>\n",
       "      <td>6.75</td>\n",
       "    </tr>\n",
       "    <tr>\n",
       "      <th>3</th>\n",
       "      <td>ABBOTT, Mrs Rhoda Mary 'Rosa'</td>\n",
       "      <td>1873.0</td>\n",
       "      <td>1946.0</td>\n",
       "      <td>39.0</td>\n",
       "      <td>Female</td>\n",
       "      <td>3rd Class Passenger</td>\n",
       "      <td>3rd</td>\n",
       "      <td>CA2673</td>\n",
       "      <td>£20             5s</td>\n",
       "      <td>NaN</td>\n",
       "      <td>...</td>\n",
       "      <td>NaN</td>\n",
       "      <td>SAVED</td>\n",
       "      <td>A</td>\n",
       "      <td>NaN</td>\n",
       "      <td>English</td>\n",
       "      <td>20.0</td>\n",
       "      <td>5.0</td>\n",
       "      <td>NaN</td>\n",
       "      <td>20.25</td>\n",
       "      <td>6.75</td>\n",
       "    </tr>\n",
       "    <tr>\n",
       "      <th>4</th>\n",
       "      <td>ABELSETH, Miss Kalle (Karen) Marie Kristiane</td>\n",
       "      <td>1895.0</td>\n",
       "      <td>1969.0</td>\n",
       "      <td>16.0</td>\n",
       "      <td>Female</td>\n",
       "      <td>3rd Class Passenger</td>\n",
       "      <td>3rd</td>\n",
       "      <td>348125</td>\n",
       "      <td>£7             13s</td>\n",
       "      <td>NaN</td>\n",
       "      <td>...</td>\n",
       "      <td>NaN</td>\n",
       "      <td>SAVED</td>\n",
       "      <td>16</td>\n",
       "      <td>NaN</td>\n",
       "      <td>NaN</td>\n",
       "      <td>7.0</td>\n",
       "      <td>13.0</td>\n",
       "      <td>NaN</td>\n",
       "      <td>7.65</td>\n",
       "      <td>7.65</td>\n",
       "    </tr>\n",
       "  </tbody>\n",
       "</table>\n",
       "<p>5 rows × 21 columns</p>\n",
       "</div>"
      ],
      "text/plain": [
       "                                           Name    Born    Died   Age  Gender  \\\n",
       "0                            ABBING, Mr Anthony  1870.0  1912.0  41.0    Male   \n",
       "1                      ABBOTT, Mr Eugene Joseph  1899.0  1912.0  13.0    Male   \n",
       "2                    ABBOTT, Mr Rossmore Edward  1896.0  1912.0  16.0    Male   \n",
       "3                 ABBOTT, Mrs Rhoda Mary 'Rosa'  1873.0  1946.0  39.0  Female   \n",
       "4  ABELSETH, Miss Kalle (Karen) Marie Kristiane  1895.0  1969.0  16.0  Female   \n",
       "\n",
       "            Class.Dept Class  Ticket                Fare Cabin  ...  \\\n",
       "0  3rd Class Passenger   3rd    5547  £7             11s   NaN  ...   \n",
       "1  3rd Class Passenger   3rd  CA2673  £20             5s   NaN  ...   \n",
       "2  3rd Class Passenger   3rd  CA2673  £20             5s   NaN  ...   \n",
       "3  3rd Class Passenger   3rd  CA2673  £20             5s   NaN  ...   \n",
       "4  3rd Class Passenger   3rd  348125  £7             13s   NaN  ...   \n",
       "\n",
       "   Occupation Survived Boat   Body  Nationality Pounds  Shillings  Pence  \\\n",
       "0  Blacksmith     LOST  NaN    NaN     American    7.0       11.0    NaN   \n",
       "1     Scholar     LOST  NaN    NaN     American   20.0        5.0    NaN   \n",
       "2    Jeweller     LOST  NaN  190.0          NaN   20.0        5.0    NaN   \n",
       "3         NaN    SAVED    A    NaN      English   20.0        5.0    NaN   \n",
       "4         NaN    SAVED   16    NaN          NaN    7.0       13.0    NaN   \n",
       "\n",
       "   Price.Paid  Paidpp  \n",
       "0        7.55    7.55  \n",
       "1       20.25    6.75  \n",
       "2       20.25    6.75  \n",
       "3       20.25    6.75  \n",
       "4        7.65    7.65  \n",
       "\n",
       "[5 rows x 21 columns]"
      ]
     },
     "execution_count": 22,
     "metadata": {},
     "output_type": "execute_result"
    }
   ],
   "source": [
    "# Import data\n",
    "Titanic = pd.read_csv(\"titanic_2020.txt\", sep = \"\\t\")\n",
    "\n",
    "# Take a look at the data\n",
    "Titanic.head()"
   ]
  },
  {
   "cell_type": "code",
   "execution_count": null,
   "id": "faf86004",
   "metadata": {},
   "outputs": [],
   "source": []
  },
  {
   "cell_type": "code",
   "execution_count": 21,
   "id": "1ddd3fcf",
   "metadata": {},
   "outputs": [
    {
     "data": {
      "text/html": [
       "<div>\n",
       "<style scoped>\n",
       "    .dataframe tbody tr th:only-of-type {\n",
       "        vertical-align: middle;\n",
       "    }\n",
       "\n",
       "    .dataframe tbody tr th {\n",
       "        vertical-align: top;\n",
       "    }\n",
       "\n",
       "    .dataframe thead th {\n",
       "        text-align: right;\n",
       "    }\n",
       "</style>\n",
       "<table border=\"1\" class=\"dataframe\">\n",
       "  <thead>\n",
       "    <tr style=\"text-align: right;\">\n",
       "      <th>Survived</th>\n",
       "      <th>LOST</th>\n",
       "      <th>SAVED</th>\n",
       "      <th>All</th>\n",
       "    </tr>\n",
       "    <tr>\n",
       "      <th>Gender</th>\n",
       "      <th></th>\n",
       "      <th></th>\n",
       "      <th></th>\n",
       "    </tr>\n",
       "  </thead>\n",
       "  <tbody>\n",
       "    <tr>\n",
       "      <th>Female</th>\n",
       "      <td>130</td>\n",
       "      <td>359</td>\n",
       "      <td>489</td>\n",
       "    </tr>\n",
       "    <tr>\n",
       "      <th>Male</th>\n",
       "      <td>1366</td>\n",
       "      <td>353</td>\n",
       "      <td>1719</td>\n",
       "    </tr>\n",
       "    <tr>\n",
       "      <th>All</th>\n",
       "      <td>1496</td>\n",
       "      <td>712</td>\n",
       "      <td>2208</td>\n",
       "    </tr>\n",
       "  </tbody>\n",
       "</table>\n",
       "</div>"
      ],
      "text/plain": [
       "Survived  LOST  SAVED   All\n",
       "Gender                     \n",
       "Female     130    359   489\n",
       "Male      1366    353  1719\n",
       "All       1496    712  2208"
      ]
     },
     "execution_count": 21,
     "metadata": {},
     "output_type": "execute_result"
    }
   ],
   "source": [
    "pd.crosstab(Titanic[\"Gender\"], Titanic[\"Survived\"], margins = True)"
   ]
  },
  {
   "cell_type": "code",
   "execution_count": 18,
   "id": "5ee05878",
   "metadata": {},
   "outputs": [],
   "source": [
    "import numpy as np\n",
    "from statsmodels.stats.proportion import proportions_ztest\n",
    "count_survived = [359, 353]\n",
    "total_gender = [489, 1719]\n",
    "stat, pval = proportions_ztest(count, nobs)"
   ]
  },
  {
   "cell_type": "code",
   "execution_count": null,
   "id": "385791b3",
   "metadata": {},
   "outputs": [],
   "source": [
    "# Display the results\n",
    "print(\"p-values:\", p)\n",
    "print(\"t-test:\", stat)"
   ]
  }
 ],
 "metadata": {
  "kernelspec": {
   "display_name": "Python 3 (ipykernel)",
   "language": "python",
   "name": "python3"
  },
  "language_info": {
   "codemirror_mode": {
    "name": "ipython",
    "version": 3
   },
   "file_extension": ".py",
   "mimetype": "text/x-python",
   "name": "python",
   "nbconvert_exporter": "python",
   "pygments_lexer": "ipython3",
   "version": "3.9.12"
  }
 },
 "nbformat": 4,
 "nbformat_minor": 5
}
