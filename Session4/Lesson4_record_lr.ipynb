{
 "cells": [
  {
   "cell_type": "markdown",
   "id": "147f7d34",
   "metadata": {},
   "source": [
    "# Statistical Inference\n",
    "## Lesson overview:\n",
    "In this lesson we will go over statistical inference. We will start with one-sample tests (both for means and proportions), as well as calculating confidence intervals. Then, we will move to two-sample and paired tests. Lastly, we will also guide you to perform one-way ANOVA test, simple linear regression and multiple linear regression by using statsmodels.formula.api.\n",
    "\n",
    "By the end of this session you will be able to:\n",
    "* Use statsmodels.stats.proportion, scipy.stats, statsmodels.api and statsmodels.formula.api to perform statistical inference: one-sample tests, two-sample tests, paired data tests, one-way anova, SLR and MLR.\n",
    "* Practice creating plots for checking conditions."
   ]
  },
  {
   "cell_type": "code",
   "execution_count": 8,
   "id": "71f38516",
   "metadata": {},
   "outputs": [],
   "source": [
    "# Import libraries and functions\n",
    "import pandas as pd\n",
    "import matplotlib.pyplot as plt\n",
    "import numpy as np\n",
    "import seaborn as sns\n",
    "from matplotlib import pyplot\n",
    "from statsmodels.stats.proportion import proportions_ztest, proportion_confint, confint_proportions_2indep\n",
    "from scipy.stats import t, probplot, ttest_1samp, ttest_ind, ttest_rel, sem\n",
    "from statsmodels.api import qqplot, stats\n",
    "from statsmodels.formula.api import ols\n",
    "from math import sqrt\n",
    "\n",
    "# Read csv file\n",
    "coasters = pd.read_csv(\"Coasters_2015.csv\")"
   ]
  },
  {
   "cell_type": "code",
   "execution_count": 9,
   "id": "c668efd2",
   "metadata": {},
   "outputs": [
    {
     "data": {
      "text/html": [
       "<div>\n",
       "<style scoped>\n",
       "    .dataframe tbody tr th:only-of-type {\n",
       "        vertical-align: middle;\n",
       "    }\n",
       "\n",
       "    .dataframe tbody tr th {\n",
       "        vertical-align: top;\n",
       "    }\n",
       "\n",
       "    .dataframe thead th {\n",
       "        text-align: right;\n",
       "    }\n",
       "</style>\n",
       "<table border=\"1\" class=\"dataframe\">\n",
       "  <thead>\n",
       "    <tr style=\"text-align: right;\">\n",
       "      <th></th>\n",
       "      <th>Name</th>\n",
       "      <th>Park</th>\n",
       "      <th>Track</th>\n",
       "      <th>Speed</th>\n",
       "      <th>Height</th>\n",
       "      <th>Drop</th>\n",
       "      <th>Length</th>\n",
       "      <th>Duration</th>\n",
       "      <th>Inversions</th>\n",
       "    </tr>\n",
       "  </thead>\n",
       "  <tbody>\n",
       "    <tr>\n",
       "      <th>0</th>\n",
       "      <td>Top Thrill Dragster</td>\n",
       "      <td>Cedar Point</td>\n",
       "      <td>Steel</td>\n",
       "      <td>120.0</td>\n",
       "      <td>420.0</td>\n",
       "      <td>400.0</td>\n",
       "      <td>2800.0</td>\n",
       "      <td>NaN</td>\n",
       "      <td>0</td>\n",
       "    </tr>\n",
       "    <tr>\n",
       "      <th>1</th>\n",
       "      <td>Superman The Escap</td>\n",
       "      <td>Six Flags Magic Mountain</td>\n",
       "      <td>Steel</td>\n",
       "      <td>100.0</td>\n",
       "      <td>415.0</td>\n",
       "      <td>328.1</td>\n",
       "      <td>1235.0</td>\n",
       "      <td>NaN</td>\n",
       "      <td>0</td>\n",
       "    </tr>\n",
       "    <tr>\n",
       "      <th>2</th>\n",
       "      <td>Millennium Force</td>\n",
       "      <td>Cedar Point</td>\n",
       "      <td>Steel</td>\n",
       "      <td>93.0</td>\n",
       "      <td>310.0</td>\n",
       "      <td>300.0</td>\n",
       "      <td>6595.0</td>\n",
       "      <td>165.0</td>\n",
       "      <td>0</td>\n",
       "    </tr>\n",
       "    <tr>\n",
       "      <th>3</th>\n",
       "      <td>Goliath</td>\n",
       "      <td>Six Flags Magic Mountain</td>\n",
       "      <td>Steel</td>\n",
       "      <td>85.0</td>\n",
       "      <td>235.0</td>\n",
       "      <td>255.0</td>\n",
       "      <td>4500.0</td>\n",
       "      <td>180.0</td>\n",
       "      <td>0</td>\n",
       "    </tr>\n",
       "    <tr>\n",
       "      <th>4</th>\n",
       "      <td>Titan</td>\n",
       "      <td>Six Flags Over Texas</td>\n",
       "      <td>Steel</td>\n",
       "      <td>85.0</td>\n",
       "      <td>245.0</td>\n",
       "      <td>255.0</td>\n",
       "      <td>5312.0</td>\n",
       "      <td>210.0</td>\n",
       "      <td>0</td>\n",
       "    </tr>\n",
       "  </tbody>\n",
       "</table>\n",
       "</div>"
      ],
      "text/plain": [
       "                  Name                      Park  Track  Speed  Height   Drop  \\\n",
       "0  Top Thrill Dragster               Cedar Point  Steel  120.0   420.0  400.0   \n",
       "1   Superman The Escap  Six Flags Magic Mountain  Steel  100.0   415.0  328.1   \n",
       "2     Millennium Force               Cedar Point  Steel   93.0   310.0  300.0   \n",
       "3              Goliath  Six Flags Magic Mountain  Steel   85.0   235.0  255.0   \n",
       "4                Titan      Six Flags Over Texas  Steel   85.0   245.0  255.0   \n",
       "\n",
       "   Length  Duration  Inversions  \n",
       "0  2800.0       NaN           0  \n",
       "1  1235.0       NaN           0  \n",
       "2  6595.0     165.0           0  \n",
       "3  4500.0     180.0           0  \n",
       "4  5312.0     210.0           0  "
      ]
     },
     "execution_count": 9,
     "metadata": {},
     "output_type": "execute_result"
    }
   ],
   "source": [
    "# Take a look at the data by using head()\n",
    "coasters.head()"
   ]
  },
  {
   "cell_type": "code",
   "execution_count": 10,
   "id": "473c99cf",
   "metadata": {},
   "outputs": [
    {
     "data": {
      "text/html": [
       "<div>\n",
       "<style scoped>\n",
       "    .dataframe tbody tr th:only-of-type {\n",
       "        vertical-align: middle;\n",
       "    }\n",
       "\n",
       "    .dataframe tbody tr th {\n",
       "        vertical-align: top;\n",
       "    }\n",
       "\n",
       "    .dataframe thead th {\n",
       "        text-align: right;\n",
       "    }\n",
       "</style>\n",
       "<table border=\"1\" class=\"dataframe\">\n",
       "  <thead>\n",
       "    <tr style=\"text-align: right;\">\n",
       "      <th></th>\n",
       "      <th>Speed</th>\n",
       "      <th>Height</th>\n",
       "      <th>Drop</th>\n",
       "      <th>Length</th>\n",
       "      <th>Duration</th>\n",
       "      <th>Inversions</th>\n",
       "    </tr>\n",
       "  </thead>\n",
       "  <tbody>\n",
       "    <tr>\n",
       "      <th>count</th>\n",
       "      <td>241.000000</td>\n",
       "      <td>241.000000</td>\n",
       "      <td>118.000000</td>\n",
       "      <td>241.000000</td>\n",
       "      <td>157.000000</td>\n",
       "      <td>241.000000</td>\n",
       "    </tr>\n",
       "    <tr>\n",
       "      <th>mean</th>\n",
       "      <td>55.350622</td>\n",
       "      <td>125.096598</td>\n",
       "      <td>148.613475</td>\n",
       "      <td>2570.072365</td>\n",
       "      <td>123.019108</td>\n",
       "      <td>0.556017</td>\n",
       "    </tr>\n",
       "    <tr>\n",
       "      <th>std</th>\n",
       "      <td>18.664831</td>\n",
       "      <td>70.264668</td>\n",
       "      <td>69.136487</td>\n",
       "      <td>1614.980056</td>\n",
       "      <td>45.087447</td>\n",
       "      <td>0.497886</td>\n",
       "    </tr>\n",
       "    <tr>\n",
       "      <th>min</th>\n",
       "      <td>4.500000</td>\n",
       "      <td>8.000000</td>\n",
       "      <td>47.000000</td>\n",
       "      <td>197.500000</td>\n",
       "      <td>28.000000</td>\n",
       "      <td>0.000000</td>\n",
       "    </tr>\n",
       "    <tr>\n",
       "      <th>25%</th>\n",
       "      <td>45.000000</td>\n",
       "      <td>75.000000</td>\n",
       "      <td>95.000000</td>\n",
       "      <td>1213.900000</td>\n",
       "      <td>90.000000</td>\n",
       "      <td>0.000000</td>\n",
       "    </tr>\n",
       "    <tr>\n",
       "      <th>50%</th>\n",
       "      <td>55.000000</td>\n",
       "      <td>115.000000</td>\n",
       "      <td>141.000000</td>\n",
       "      <td>2423.000000</td>\n",
       "      <td>120.000000</td>\n",
       "      <td>1.000000</td>\n",
       "    </tr>\n",
       "    <tr>\n",
       "      <th>75%</th>\n",
       "      <td>65.300000</td>\n",
       "      <td>155.000000</td>\n",
       "      <td>193.525000</td>\n",
       "      <td>3582.700000</td>\n",
       "      <td>150.000000</td>\n",
       "      <td>1.000000</td>\n",
       "    </tr>\n",
       "    <tr>\n",
       "      <th>max</th>\n",
       "      <td>149.100000</td>\n",
       "      <td>420.000000</td>\n",
       "      <td>400.000000</td>\n",
       "      <td>8133.100000</td>\n",
       "      <td>240.000000</td>\n",
       "      <td>1.000000</td>\n",
       "    </tr>\n",
       "  </tbody>\n",
       "</table>\n",
       "</div>"
      ],
      "text/plain": [
       "            Speed      Height        Drop       Length    Duration  Inversions\n",
       "count  241.000000  241.000000  118.000000   241.000000  157.000000  241.000000\n",
       "mean    55.350622  125.096598  148.613475  2570.072365  123.019108    0.556017\n",
       "std     18.664831   70.264668   69.136487  1614.980056   45.087447    0.497886\n",
       "min      4.500000    8.000000   47.000000   197.500000   28.000000    0.000000\n",
       "25%     45.000000   75.000000   95.000000  1213.900000   90.000000    0.000000\n",
       "50%     55.000000  115.000000  141.000000  2423.000000  120.000000    1.000000\n",
       "75%     65.300000  155.000000  193.525000  3582.700000  150.000000    1.000000\n",
       "max    149.100000  420.000000  400.000000  8133.100000  240.000000    1.000000"
      ]
     },
     "execution_count": 10,
     "metadata": {},
     "output_type": "execute_result"
    }
   ],
   "source": [
    "# Take a look at the data by using describe()\n",
    "coasters.describe()"
   ]
  },
  {
   "cell_type": "markdown",
   "id": "f4ad417f",
   "metadata": {},
   "source": [
    "### One-sample proportion z-test"
   ]
  },
  {
   "cell_type": "markdown",
   "id": "b1e15b3e",
   "metadata": {},
   "source": [
    "We will begin by performing a one-sample z-test. Recall that the purpose of this parametric test is to determine if there is a significant difference between the sample proportion and the hypothesized population proportion. Let's say we were interested in learning the true propotion of steel roller coasters in this dataset. Let's begin by finding the proportion of steel roller coaster of our data."
   ]
  },
  {
   "cell_type": "code",
   "execution_count": 11,
   "id": "6e501ca9",
   "metadata": {},
   "outputs": [
    {
     "name": "stdout",
     "output_type": "stream",
     "text": [
      "Steel    0.879668\n",
      "Wood     0.120332\n",
      "Name: Track, dtype: float64\n"
     ]
    }
   ],
   "source": [
    "# Count how many rollercoasters have a steel track v/s how many have a wood track\n",
    "print(coasters[\"Track\"].value_counts(normalize = True))"
   ]
  },
  {
   "cell_type": "markdown",
   "id": "71f4181d",
   "metadata": {},
   "source": [
    "Great! The proportion of steel roller coasters is ~ 0.88.\n",
    "\n",
    "However, a rollercoasters' expert suggests that during 2022 the proportion of steel roller coasters hasn't changed. Her study shows that 320 out of 355 roller coasters have a steel track.\n",
    "\n",
    "* $H_0$: $p̂$ = 0.88 ; the proportion of steel roller coasters in 2022 is 0.88\n",
    "* $H_A$: $p̂$ ≠ 0.88 ; the proportion of steel roller coasters in 2022 is different from 0.88\n",
    "\n",
    "**Check conditions:**\n",
    "* n < 10% of total population: we can assume that 355 rollercoasters is less than 10% of all roller coasters in the world.\n",
    "* randomness: we can assume that we were given a random sample of roller coasters.\n",
    "* successes vs failures : 355 * 0.88 = 312, 241 * 0.12 = 43. Both values are greater than 10.\n",
    "\n",
    "\n",
    "To test our null hypothesis, we will make use of proportions_ztest which we imported at the beginning of the notebook.\n",
    "\n",
    "**Structure:**\n",
    "* z_test, p_value = proportions_ztest(count = #, nobs = #, value = #, alternative = \"one_or_two\")\n",
    "\n",
    "**Arguments**\n",
    "* count = # ; number of successes if Null Hypothesis is True. (total observed * hypothesized proportion)\n",
    "* nobs = # ; size of observed sample\n",
    "* value = # ; observed proportion\n",
    "* alternative = \"nameOfAlternative\" ; Type of test(two-sided or one-sided)\n",
    "\n",
    "**Note**: In this case, observed corresponds to what the roller coasters expert observed."
   ]
  },
  {
   "cell_type": "code",
   "execution_count": 12,
   "id": "64475593",
   "metadata": {},
   "outputs": [
    {
     "name": "stdout",
     "output_type": "stream",
     "text": [
      "The z test values is:  -1.220011473889561 . The p-value is:  0.22246052533158622\n"
     ]
    }
   ],
   "source": [
    "# Store z_test and p_value\n",
    "z_test , p_value = proportions_ztest(count = 312 , nobs = 355, value = 0.9, alternative = \"two-sided\")\n",
    "\n",
    "# Print results\n",
    "print(\"The z test values is: \", z_test, \". The p-value is: \", p_value)"
   ]
  },
  {
   "cell_type": "markdown",
   "id": "a2eb6a5a",
   "metadata": {},
   "source": [
    "Since the p-value is greater than 0.05 we fail to reject the null hypothesis. We do not have enough evidence to say that the proportion of steel roller coasters in 2022 has changed sinced 2015."
   ]
  },
  {
   "cell_type": "markdown",
   "id": "31b2c4bb",
   "metadata": {},
   "source": [
    "### Confidence Interval for proportions"
   ]
  },
  {
   "cell_type": "markdown",
   "id": "c4a2b74a",
   "metadata": {},
   "source": [
    "Now let's calculate our confidence interval for steel track proportion for the true population **using our 2015 data** (212 steel roller coasters/241 roller coasters in total). In order to do so, we will use proportion_confint which we imported at the beginning of the notebook.\n",
    "\n",
    "**Structure:**\n",
    "* conf_prop = proportion_confint(count = #, nobs = #, alpha = #)\n",
    "\n",
    "**Arguments:**\n",
    "* count = # ; number of successes\n",
    "* nobs = # ; size of sample\n",
    "* alpha = # ; the desired significance level (1 - confidence interval from 0 to 1)\n",
    "\n",
    "**Check conditions:**\n",
    "* n < 10% of total population: we can assume that 241 rollercoasters is less than 10% of all rollercoasters in the world.\n",
    "* randomness: we can assume that we were given a random sample of rollercoasters.\n",
    "* successes vs failures : 241 * 0.88 = 212, 241 * 0.12 = 29. Both values are greater than 10."
   ]
  },
  {
   "cell_type": "code",
   "execution_count": 13,
   "id": "b5132f1f",
   "metadata": {},
   "outputs": [
    {
     "name": "stdout",
     "output_type": "stream",
     "text": [
      "(0.8385919257601463, 0.9207441738249159)\n"
     ]
    }
   ],
   "source": [
    "# Calculate confidence interval and store in conf_prop\n",
    "conf_prop = proportion_confint(count = 212, nobs = 241, alpha = 0.05)\n",
    "\n",
    "# Print confidence interval\n",
    "print(conf_prop)"
   ]
  },
  {
   "cell_type": "markdown",
   "id": "70913665",
   "metadata": {},
   "source": [
    "We are 95% confident that between 83% and 92% of the roller coasters in the world have a steel track."
   ]
  },
  {
   "cell_type": "markdown",
   "id": "f93c66db",
   "metadata": {},
   "source": [
    "## Two-Sample z-Test\n",
    "\n",
    "If we wanted to test the difference between two proportions, we might want to conduct a two-sample z-test. A two-proportion z-test allows us to find the true difference between two proportions for two separate groups. In our example, we will use the titanic dataset to determine if there is a significant difference in the proportion of people who survived depending on their gender. \n",
    "\n",
    "$H_0$: $p_1$ - $p_2$ = 0\n",
    "\n",
    "$H_A$: $p_1$ ≠ $p_2$\n",
    "\n",
    "Let's begin by familiarizing ourselves with this new dataset, which gives us the information of ~2200 passengers. Originally, the Titanic had 2400 passengers and crew on board so we will test for its true population."
   ]
  },
  {
   "cell_type": "code",
   "execution_count": 14,
   "id": "8fca59eb",
   "metadata": {
    "scrolled": true
   },
   "outputs": [
    {
     "data": {
      "text/html": [
       "<div>\n",
       "<style scoped>\n",
       "    .dataframe tbody tr th:only-of-type {\n",
       "        vertical-align: middle;\n",
       "    }\n",
       "\n",
       "    .dataframe tbody tr th {\n",
       "        vertical-align: top;\n",
       "    }\n",
       "\n",
       "    .dataframe thead th {\n",
       "        text-align: right;\n",
       "    }\n",
       "</style>\n",
       "<table border=\"1\" class=\"dataframe\">\n",
       "  <thead>\n",
       "    <tr style=\"text-align: right;\">\n",
       "      <th></th>\n",
       "      <th>Name</th>\n",
       "      <th>Born</th>\n",
       "      <th>Died</th>\n",
       "      <th>Age</th>\n",
       "      <th>Gender</th>\n",
       "      <th>Class.Dept</th>\n",
       "      <th>Class</th>\n",
       "      <th>Ticket</th>\n",
       "      <th>Fare</th>\n",
       "      <th>Cabin</th>\n",
       "      <th>...</th>\n",
       "      <th>Occupation</th>\n",
       "      <th>Survived</th>\n",
       "      <th>Boat</th>\n",
       "      <th>Body</th>\n",
       "      <th>Nationality</th>\n",
       "      <th>Pounds</th>\n",
       "      <th>Shillings</th>\n",
       "      <th>Pence</th>\n",
       "      <th>Price.Paid</th>\n",
       "      <th>Paidpp</th>\n",
       "    </tr>\n",
       "  </thead>\n",
       "  <tbody>\n",
       "    <tr>\n",
       "      <th>0</th>\n",
       "      <td>ABBING, Mr Anthony</td>\n",
       "      <td>1870.0</td>\n",
       "      <td>1912.0</td>\n",
       "      <td>41.0</td>\n",
       "      <td>Male</td>\n",
       "      <td>3rd Class Passenger</td>\n",
       "      <td>3rd</td>\n",
       "      <td>5547</td>\n",
       "      <td>£7             11s</td>\n",
       "      <td>NaN</td>\n",
       "      <td>...</td>\n",
       "      <td>Blacksmith</td>\n",
       "      <td>LOST</td>\n",
       "      <td>NaN</td>\n",
       "      <td>NaN</td>\n",
       "      <td>American</td>\n",
       "      <td>7.0</td>\n",
       "      <td>11.0</td>\n",
       "      <td>NaN</td>\n",
       "      <td>7.55</td>\n",
       "      <td>7.55</td>\n",
       "    </tr>\n",
       "    <tr>\n",
       "      <th>1</th>\n",
       "      <td>ABBOTT, Mr Eugene Joseph</td>\n",
       "      <td>1899.0</td>\n",
       "      <td>1912.0</td>\n",
       "      <td>13.0</td>\n",
       "      <td>Male</td>\n",
       "      <td>3rd Class Passenger</td>\n",
       "      <td>3rd</td>\n",
       "      <td>CA2673</td>\n",
       "      <td>£20             5s</td>\n",
       "      <td>NaN</td>\n",
       "      <td>...</td>\n",
       "      <td>Scholar</td>\n",
       "      <td>LOST</td>\n",
       "      <td>NaN</td>\n",
       "      <td>NaN</td>\n",
       "      <td>American</td>\n",
       "      <td>20.0</td>\n",
       "      <td>5.0</td>\n",
       "      <td>NaN</td>\n",
       "      <td>20.25</td>\n",
       "      <td>6.75</td>\n",
       "    </tr>\n",
       "    <tr>\n",
       "      <th>2</th>\n",
       "      <td>ABBOTT, Mr Rossmore Edward</td>\n",
       "      <td>1896.0</td>\n",
       "      <td>1912.0</td>\n",
       "      <td>16.0</td>\n",
       "      <td>Male</td>\n",
       "      <td>3rd Class Passenger</td>\n",
       "      <td>3rd</td>\n",
       "      <td>CA2673</td>\n",
       "      <td>£20             5s</td>\n",
       "      <td>NaN</td>\n",
       "      <td>...</td>\n",
       "      <td>Jeweller</td>\n",
       "      <td>LOST</td>\n",
       "      <td>NaN</td>\n",
       "      <td>190.0</td>\n",
       "      <td>NaN</td>\n",
       "      <td>20.0</td>\n",
       "      <td>5.0</td>\n",
       "      <td>NaN</td>\n",
       "      <td>20.25</td>\n",
       "      <td>6.75</td>\n",
       "    </tr>\n",
       "    <tr>\n",
       "      <th>3</th>\n",
       "      <td>ABBOTT, Mrs Rhoda Mary 'Rosa'</td>\n",
       "      <td>1873.0</td>\n",
       "      <td>1946.0</td>\n",
       "      <td>39.0</td>\n",
       "      <td>Female</td>\n",
       "      <td>3rd Class Passenger</td>\n",
       "      <td>3rd</td>\n",
       "      <td>CA2673</td>\n",
       "      <td>£20             5s</td>\n",
       "      <td>NaN</td>\n",
       "      <td>...</td>\n",
       "      <td>NaN</td>\n",
       "      <td>SAVED</td>\n",
       "      <td>A</td>\n",
       "      <td>NaN</td>\n",
       "      <td>English</td>\n",
       "      <td>20.0</td>\n",
       "      <td>5.0</td>\n",
       "      <td>NaN</td>\n",
       "      <td>20.25</td>\n",
       "      <td>6.75</td>\n",
       "    </tr>\n",
       "    <tr>\n",
       "      <th>4</th>\n",
       "      <td>ABELSETH, Miss Kalle (Karen) Marie Kristiane</td>\n",
       "      <td>1895.0</td>\n",
       "      <td>1969.0</td>\n",
       "      <td>16.0</td>\n",
       "      <td>Female</td>\n",
       "      <td>3rd Class Passenger</td>\n",
       "      <td>3rd</td>\n",
       "      <td>348125</td>\n",
       "      <td>£7             13s</td>\n",
       "      <td>NaN</td>\n",
       "      <td>...</td>\n",
       "      <td>NaN</td>\n",
       "      <td>SAVED</td>\n",
       "      <td>16</td>\n",
       "      <td>NaN</td>\n",
       "      <td>NaN</td>\n",
       "      <td>7.0</td>\n",
       "      <td>13.0</td>\n",
       "      <td>NaN</td>\n",
       "      <td>7.65</td>\n",
       "      <td>7.65</td>\n",
       "    </tr>\n",
       "  </tbody>\n",
       "</table>\n",
       "<p>5 rows × 21 columns</p>\n",
       "</div>"
      ],
      "text/plain": [
       "                                           Name    Born    Died   Age  Gender  \\\n",
       "0                            ABBING, Mr Anthony  1870.0  1912.0  41.0    Male   \n",
       "1                      ABBOTT, Mr Eugene Joseph  1899.0  1912.0  13.0    Male   \n",
       "2                    ABBOTT, Mr Rossmore Edward  1896.0  1912.0  16.0    Male   \n",
       "3                 ABBOTT, Mrs Rhoda Mary 'Rosa'  1873.0  1946.0  39.0  Female   \n",
       "4  ABELSETH, Miss Kalle (Karen) Marie Kristiane  1895.0  1969.0  16.0  Female   \n",
       "\n",
       "            Class.Dept Class  Ticket                Fare Cabin  ...  \\\n",
       "0  3rd Class Passenger   3rd    5547  £7             11s   NaN  ...   \n",
       "1  3rd Class Passenger   3rd  CA2673  £20             5s   NaN  ...   \n",
       "2  3rd Class Passenger   3rd  CA2673  £20             5s   NaN  ...   \n",
       "3  3rd Class Passenger   3rd  CA2673  £20             5s   NaN  ...   \n",
       "4  3rd Class Passenger   3rd  348125  £7             13s   NaN  ...   \n",
       "\n",
       "   Occupation Survived Boat   Body  Nationality Pounds  Shillings  Pence  \\\n",
       "0  Blacksmith     LOST  NaN    NaN     American    7.0       11.0    NaN   \n",
       "1     Scholar     LOST  NaN    NaN     American   20.0        5.0    NaN   \n",
       "2    Jeweller     LOST  NaN  190.0          NaN   20.0        5.0    NaN   \n",
       "3         NaN    SAVED    A    NaN      English   20.0        5.0    NaN   \n",
       "4         NaN    SAVED   16    NaN          NaN    7.0       13.0    NaN   \n",
       "\n",
       "   Price.Paid  Paidpp  \n",
       "0        7.55    7.55  \n",
       "1       20.25    6.75  \n",
       "2       20.25    6.75  \n",
       "3       20.25    6.75  \n",
       "4        7.65    7.65  \n",
       "\n",
       "[5 rows x 21 columns]"
      ]
     },
     "execution_count": 14,
     "metadata": {},
     "output_type": "execute_result"
    }
   ],
   "source": [
    "# Import data\n",
    "titanic = pd.read_csv(\"titanic_2020.txt\", sep = \"\\t\")\n",
    "\n",
    "# Take a look at the data\n",
    "titanic.head()"
   ]
  },
  {
   "cell_type": "markdown",
   "id": "73736dd2",
   "metadata": {},
   "source": [
    "Before completing our two-proportion z-test, let's remember to check conditions. Recall that in this case, we must check the randomization condition, independent groups assumption, and the success/failure condition. Since we are working a dataset that describes the individuals on the titanic ship, we can say that it likely meets all conditions and proceed with caution. Let's move onto look at a contingency table, which will inform us of the proportions that we will need to put to the test. Remember that we learned how to make contingency tables in our last lesson."
   ]
  },
  {
   "cell_type": "code",
   "execution_count": 15,
   "id": "63c1e538",
   "metadata": {},
   "outputs": [
    {
     "data": {
      "text/html": [
       "<div>\n",
       "<style scoped>\n",
       "    .dataframe tbody tr th:only-of-type {\n",
       "        vertical-align: middle;\n",
       "    }\n",
       "\n",
       "    .dataframe tbody tr th {\n",
       "        vertical-align: top;\n",
       "    }\n",
       "\n",
       "    .dataframe thead th {\n",
       "        text-align: right;\n",
       "    }\n",
       "</style>\n",
       "<table border=\"1\" class=\"dataframe\">\n",
       "  <thead>\n",
       "    <tr style=\"text-align: right;\">\n",
       "      <th>Survived</th>\n",
       "      <th>LOST</th>\n",
       "      <th>SAVED</th>\n",
       "      <th>All</th>\n",
       "    </tr>\n",
       "    <tr>\n",
       "      <th>Gender</th>\n",
       "      <th></th>\n",
       "      <th></th>\n",
       "      <th></th>\n",
       "    </tr>\n",
       "  </thead>\n",
       "  <tbody>\n",
       "    <tr>\n",
       "      <th>Female</th>\n",
       "      <td>130</td>\n",
       "      <td>359</td>\n",
       "      <td>489</td>\n",
       "    </tr>\n",
       "    <tr>\n",
       "      <th>Male</th>\n",
       "      <td>1366</td>\n",
       "      <td>353</td>\n",
       "      <td>1719</td>\n",
       "    </tr>\n",
       "    <tr>\n",
       "      <th>All</th>\n",
       "      <td>1496</td>\n",
       "      <td>712</td>\n",
       "      <td>2208</td>\n",
       "    </tr>\n",
       "  </tbody>\n",
       "</table>\n",
       "</div>"
      ],
      "text/plain": [
       "Survived  LOST  SAVED   All\n",
       "Gender                     \n",
       "Female     130    359   489\n",
       "Male      1366    353  1719\n",
       "All       1496    712  2208"
      ]
     },
     "execution_count": 15,
     "metadata": {},
     "output_type": "execute_result"
    }
   ],
   "source": [
    "# Make a contingency table comparing Gender and Survived with totals\n",
    "pd.crosstab(titanic[\"Gender\"], titanic[\"Survived\"], margins = True)"
   ]
  },
  {
   "cell_type": "markdown",
   "id": "fdf429d1",
   "metadata": {},
   "source": [
    "Now that we have made our contingency table, we know what values for our proportions that we will need to test. We will use the function *proportions_ztest( )* from the statsmodels.stats.proportion library. This function requires two lists of equal length that contain the values from our contingency table. Since we are trying to determine if there is a significant difference in the proportions of people who survived depending on their gender, we will create two lists that store the values of people who surived per gender and then the total amount of people per gender."
   ]
  },
  {
   "cell_type": "code",
   "execution_count": 16,
   "id": "dc882ac9",
   "metadata": {},
   "outputs": [],
   "source": [
    "# Create a list of the amount of people who survived\n",
    "count_survived = [359, 353]\n",
    "total_gender = [489, 1719]\n",
    "stat, p = proportions_ztest(count_survived, total_gender)"
   ]
  },
  {
   "cell_type": "code",
   "execution_count": 17,
   "id": "cc35a997",
   "metadata": {},
   "outputs": [
    {
     "name": "stdout",
     "output_type": "stream",
     "text": [
      "p-values: 5.64463792626908e-108\n",
      "t-test: 22.073797112540156\n"
     ]
    }
   ],
   "source": [
    "# Display the results\n",
    "print(\"p-values:\", p)\n",
    "print(\"t-test:\", stat)"
   ]
  },
  {
   "cell_type": "markdown",
   "id": "fd66f97b",
   "metadata": {},
   "source": [
    "We can instruct Python to determine for us whether or not the P Value for our t-test is small enough to reject the null hypothesis using an if-else statement. Let's try it out!"
   ]
  },
  {
   "cell_type": "code",
   "execution_count": 18,
   "id": "91d66252",
   "metadata": {},
   "outputs": [
    {
     "name": "stdout",
     "output_type": "stream",
     "text": [
      "Reject the null hypothesis\n"
     ]
    }
   ],
   "source": [
    "# Let's use 0.05 or 5% as the significance level of alpha.\n",
    "if p < 0.05:\n",
    "    \n",
    "    print(\"Reject the null hypothesis\")\n",
    "    \n",
    "else:\n",
    "    print(\"Fail to reject the null hypothesis\")"
   ]
  },
  {
   "cell_type": "markdown",
   "id": "e4b7a9ce",
   "metadata": {},
   "source": [
    "After performing this two-sample z-test and obtaining a p-value of approximately 5.64e-108, we will reject the null hypothesis that the proportion of people who survived depending on their gender is equal. Thus, gender is likely an important variable in understanding the breakdown of people who survived the titanic shipwreck."
   ]
  },
  {
   "cell_type": "markdown",
   "id": "2e145160",
   "metadata": {},
   "source": [
    "## Two-Proportion z-interval"
   ]
  },
  {
   "cell_type": "markdown",
   "id": "753aab33",
   "metadata": {},
   "source": [
    "Now let's calculate the confidence interval for the difference between the proportion of females and males that survived in the Titanic.\n",
    "\n",
    "$H_0$: $p_1$ - $p_2$ = 0\n",
    "\n",
    "$H_A$: $p_1$ - $p_2$ ≠ 0"
   ]
  },
  {
   "cell_type": "code",
   "execution_count": 19,
   "id": "6856ad42",
   "metadata": {},
   "outputs": [
    {
     "data": {
      "text/html": [
       "<div>\n",
       "<style scoped>\n",
       "    .dataframe tbody tr th:only-of-type {\n",
       "        vertical-align: middle;\n",
       "    }\n",
       "\n",
       "    .dataframe tbody tr th {\n",
       "        vertical-align: top;\n",
       "    }\n",
       "\n",
       "    .dataframe thead th {\n",
       "        text-align: right;\n",
       "    }\n",
       "</style>\n",
       "<table border=\"1\" class=\"dataframe\">\n",
       "  <thead>\n",
       "    <tr style=\"text-align: right;\">\n",
       "      <th>Survived</th>\n",
       "      <th>LOST</th>\n",
       "      <th>SAVED</th>\n",
       "      <th>All</th>\n",
       "    </tr>\n",
       "    <tr>\n",
       "      <th>Gender</th>\n",
       "      <th></th>\n",
       "      <th></th>\n",
       "      <th></th>\n",
       "    </tr>\n",
       "  </thead>\n",
       "  <tbody>\n",
       "    <tr>\n",
       "      <th>Female</th>\n",
       "      <td>130</td>\n",
       "      <td>359</td>\n",
       "      <td>489</td>\n",
       "    </tr>\n",
       "    <tr>\n",
       "      <th>Male</th>\n",
       "      <td>1366</td>\n",
       "      <td>353</td>\n",
       "      <td>1719</td>\n",
       "    </tr>\n",
       "    <tr>\n",
       "      <th>All</th>\n",
       "      <td>1496</td>\n",
       "      <td>712</td>\n",
       "      <td>2208</td>\n",
       "    </tr>\n",
       "  </tbody>\n",
       "</table>\n",
       "</div>"
      ],
      "text/plain": [
       "Survived  LOST  SAVED   All\n",
       "Gender                     \n",
       "Female     130    359   489\n",
       "Male      1366    353  1719\n",
       "All       1496    712  2208"
      ]
     },
     "execution_count": 19,
     "metadata": {},
     "output_type": "execute_result"
    }
   ],
   "source": [
    "# Let's recall our contigency table\n",
    "pd.crosstab(titanic[\"Gender\"], titanic[\"Survived\"], margins = True)"
   ]
  },
  {
   "cell_type": "markdown",
   "id": "5a1d7c5a",
   "metadata": {},
   "source": [
    "**Conditions:**\n",
    "* Independence: We can assume that within each group, individual responses are independent from each other. We can also assume that each group is independent from each other.\n",
    "* Sample size: Saved females > 10 and Saved males > 10; thus successes/failures is satisfied."
   ]
  },
  {
   "cell_type": "markdown",
   "id": "151c175b",
   "metadata": {},
   "source": [
    "**Structure:**\n",
    "* confint_proportions_2indep(count1 = n1, nobs1 = obs1, count2 = n2, nobs2 = obs2, compare = \"diff\", alpha = 0.05)\n",
    "\n",
    "**Arguments:**\n",
    "* count1 = sample size for group 1\n",
    "* count2 = sample size for group 2\n",
    "* nobs1 = \"successes\" for group 1\n",
    "* nobs2 = \"successes\" for group 2\n",
    "* compare = \"diff\" ; null hypothesis if for checking whether they are different or not\n",
    "* alpha = # ; significance value (1 - confidence interval from 0 to 1)\n",
    "* correction = True"
   ]
  },
  {
   "cell_type": "code",
   "execution_count": 20,
   "id": "c3e1a207",
   "metadata": {},
   "outputs": [
    {
     "name": "stdout",
     "output_type": "stream",
     "text": [
      "0.4834092767839217 0.5703331209312256\n"
     ]
    }
   ],
   "source": [
    "# Perform CI by using confint_proportions_2indep\n",
    "lower , upper = confint_proportions_2indep(count1 = 359, nobs1 = 489, count2 = 353, nobs2 = 1719,  compare='diff',\n",
    "                                alpha=0.05, correction = True)\n",
    "print(lower, upper)"
   ]
  },
  {
   "cell_type": "markdown",
   "id": "c68b4c69",
   "metadata": {},
   "source": [
    "We are 95% confident that the proportion of female who survided in the titanic is between 48.34% and 57% higher than the proportion of male who survived."
   ]
  },
  {
   "cell_type": "markdown",
   "id": "1511f983",
   "metadata": {},
   "source": [
    "## One-sample t-test\n",
    "\n",
    "We will begin by performing a one-sample t-test. Recall that the purpose of this parametric test is to determine if there is a significant difference between a sample mean and the hypothesized population mean. Let's say we were interested in learning the true average speed of roller coasters in this dataset."
   ]
  },
  {
   "cell_type": "markdown",
   "id": "37fcfb20",
   "metadata": {},
   "source": [
    "Roller coaster expert, Biddy Martin, previously stated that all roller coasters in the world actually travel at an average speed of 52 mph. Lets put her word to the test and perform a one-sample t-test to determine if this is likely to be true based on our sample. \n",
    "+ $H_0$: The average speed of roller coasters is 52 mph.\n",
    "+ $H_A$: The average speed of roller coasters is not 52 mph.\n",
    "\n",
    "Before we can put this mean to the test, let's follow our typical inference procedures and check the conditions. For a one-sample t-test we need to check the independence assumption and the normal population assumption. Our data satisifies the independence assumption because the data arises from a random sample of roller coasters.\n",
    "\n",
    "To check the normal population assumption, we need to produce a histogram of the variable in question or a Normal probability plot. Since you have learned in previous lessons how to create a histogram, we will use this as an opportunity to teach you how to create a Normal probability plot, aka a Q-Q plot. \n",
    "\n",
    "The method we will use to specify create the Q-Q plot is from the *scipy.stats* plot, called *probplot( )*. We will need to specify the following options within the parentheses of this method to generate our desired plot:\n",
    "+ data = our dataset and the variable in question, e.g. dataset_name[\"variable_name\"]\n",
    "+ plot = pyplot, this instructs Python to plot the quantiles"
   ]
  },
  {
   "cell_type": "code",
   "execution_count": 21,
   "id": "394d7314",
   "metadata": {
    "scrolled": true
   },
   "outputs": [
    {
     "data": {
      "image/png": "[encoded data removed]",
      "text/plain": [
       "<Figure size 432x288 with 1 Axes>"
      ]
     },
     "metadata": {
      "needs_background": "light"
     },
     "output_type": "display_data"
    }
   ],
   "source": [
    "# Draw the Q-Q plot\n",
    "probplot(coasters[\"Speed\"], plot = pyplot)\n",
    "\n",
    "# Display the plot\n",
    "plt.show()"
   ]
  },
  {
   "cell_type": "markdown",
   "id": "49be5122",
   "metadata": {},
   "source": [
    "In the Normal probability plot above, we observe some deviation from the best fit line in the upper tail. However, given that this is a rather large sample (n > 50), we are safe to use *t* methods since the data is not extremely skewed. We will, however, still proceed with caution.\n",
    "\n",
    "Using the function *ttest_1samp( )* from the *scipy.stats* library, let's perform our one-sample t-test. Within this new function, we will need to supply information for the following options:\n",
    "+ data = our dataset and the variable in question, e.g. dataset_name[\"variable_name\"]\n",
    "+ popmean = expected value in null hypothesis"
   ]
  },
  {
   "cell_type": "code",
   "execution_count": 22,
   "id": "f689383f",
   "metadata": {
    "scrolled": true
   },
   "outputs": [
    {
     "name": "stdout",
     "output_type": "stream",
     "text": [
      "P Value: 0.005748417140227706\n",
      "t-test Value: 2.7868265618258343\n"
     ]
    }
   ],
   "source": [
    "# Assign the results of our test to two variables\n",
    "t_test_value, p_value = ttest_1samp(coasters[\"Speed\"], 52)\n",
    "\n",
    "# View the results\n",
    "print(\"P Value:\", p_value)\n",
    "print(\"t-test Value:\", t_test_value)"
   ]
  },
  {
   "cell_type": "markdown",
   "id": "20cc1c6e",
   "metadata": {},
   "source": [
    "Great work! We have just performed our first one-sample t-test. Now lets instruct Python to determine for us whether or not the P Value for our t-test is small enough to reject the null hypothesis that the average speed is 52 mph."
   ]
  },
  {
   "cell_type": "code",
   "execution_count": 23,
   "id": "138e61b7",
   "metadata": {},
   "outputs": [
    {
     "name": "stdout",
     "output_type": "stream",
     "text": [
      "Reject the null hypothesis\n"
     ]
    }
   ],
   "source": [
    "# Let's use 0.05 or 5% as the significance level of alpha.\n",
    "if p_value < 0.05:\n",
    "    \n",
    "    print(\"Reject the null hypothesis\")\n",
    "    \n",
    "else:\n",
    "    print(\"Fail to reject the null hypothesis\")"
   ]
  },
  {
   "cell_type": "markdown",
   "id": "0a9bef90",
   "metadata": {},
   "source": [
    "Unfortunately, it appears that Biddy may have been wrong, as we have to reject the null hypothesis that the average speed of a roller coaster is 52 mph at a significant level of 0.05. What a shocker! Biddy usually gets this stuff right. "
   ]
  },
  {
   "cell_type": "code",
   "execution_count": 24,
   "id": "be3c15dc",
   "metadata": {},
   "outputs": [
    {
     "data": {
      "text/plain": [
       "Ttest_1sampResult(statistic=2.7868265618258343, pvalue=0.005748417140227706)"
      ]
     },
     "execution_count": 24,
     "metadata": {},
     "output_type": "execute_result"
    }
   ],
   "source": [
    "# Note: We do not need to assign the output of the function ttest_1samp to two values.\n",
    "# Python automatically outputs our t-test value and p-value.\n",
    "# However, it is good practice to assign these values so we can reuse them later.\n",
    "\n",
    "ttest_1samp(coasters[\"Speed\"], 52)"
   ]
  },
  {
   "cell_type": "markdown",
   "id": "d2ec773d",
   "metadata": {},
   "source": [
    "If we were interested to see what the actual mean for the speed of roller coasters would be in this dataset, we already know how to calculate that. It turns out the mean speed is actually 55 mph, so Biddy was indeed incorrect. How unusual!"
   ]
  },
  {
   "cell_type": "code",
   "execution_count": 25,
   "id": "30d5c4d5",
   "metadata": {},
   "outputs": [
    {
     "name": "stdout",
     "output_type": "stream",
     "text": [
      "Mean: 55.350622406639026\n"
     ]
    }
   ],
   "source": [
    "# Find mean\n",
    "mean_value = coasters[\"Speed\"].mean()\n",
    "\n",
    "# Print the result\n",
    "print(\"Mean:\", mean_value)"
   ]
  },
  {
   "cell_type": "markdown",
   "id": "d4573110",
   "metadata": {},
   "source": [
    "### Confidence Interval for one-sample mean"
   ]
  },
  {
   "cell_type": "markdown",
   "id": "3c1a0dac",
   "metadata": {},
   "source": [
    "Now let's calculate our confidence interval for average speed of roller coasters in the world using our 2015 data. In order to do so, we will use t.interval which we imported at the beginning of the notebook.\n",
    "\n",
    "**Check conditions:**\n",
    "* n >= 30 , 241 > 30\n",
    "* independence: we can assume it is a random sample, and that the average speed of one roller coaster does not affect other roller coasters\n",
    "\n",
    "**Structure:**\n",
    "* t.interval(loc = mean, scale = sd/se, df = degrees_of_freedom, alpha = conf_value)\n",
    "\n",
    "**Arguments:**\n",
    "* loc = # ; mean value from our sample\n",
    "* scale = # ; standard deviation from our sample. if you are re-sampling use standard error.\n",
    "* df = # ; degrees of freedom (n-1)\n",
    "* alpha = confidence interval from 0 to 1"
   ]
  },
  {
   "cell_type": "code",
   "execution_count": 26,
   "id": "de1ae867",
   "metadata": {
    "scrolled": true
   },
   "outputs": [
    {
     "name": "stdout",
     "output_type": "stream",
     "text": [
      "The t-interval is:  (18.582815409951472, 92.11842940332659)\n"
     ]
    }
   ],
   "source": [
    "# Calculate standard deviation for speed\n",
    "sd_speed = coasters[\"Speed\"].std()\n",
    "\n",
    "# Calculate mean for speed\n",
    "mean_speed = coasters['Speed'].mean()\n",
    "\n",
    "# Assign the t-interval values into t_speed\n",
    "t_speed = t.interval(loc = mean_speed, scale = sd_speed,df = 240, alpha = 0.95)\n",
    "\n",
    "# Print our results\n",
    "print(\"The t-interval is: \", t_speed)"
   ]
  },
  {
   "cell_type": "markdown",
   "id": "bebe2a26",
   "metadata": {},
   "source": [
    "We are 95% confident that the average speed of rollercoasters in the world will be between 19.58 and 92 mph. Looks like a big interval, right? This could indicate that there's a lot of variability in this sample."
   ]
  },
  {
   "cell_type": "markdown",
   "id": "380316a7",
   "metadata": {},
   "source": [
    "## Two-sample t-test\n",
    "\n",
    "Recall that a two-sample t-test is used to determine if there is a significant difference between the sample means of two independent groups. This statistical inference method is also know as the independent samples t-test. Using the same dataset as before, lets see if the true mean speed is the same for roller coasters made of wood and steel.\n",
    "\n",
    "* $H_0$: $µ_{steel}$ - $µ_{wood}$ = 0\n",
    "* $H_0$: $µ_{steel}$ - $µ_{wood}$ ≠ 0\n",
    "\n",
    "As usual, we will start off by adding the libraries and functions we will need to use. Then, we will need to create two new dataframes from our original dataset, because the method for a two-sample t-test requires two dataframes."
   ]
  },
  {
   "cell_type": "code",
   "execution_count": 27,
   "id": "f419958c",
   "metadata": {
    "scrolled": true
   },
   "outputs": [
    {
     "data": {
      "text/html": [
       "<div>\n",
       "<style scoped>\n",
       "    .dataframe tbody tr th:only-of-type {\n",
       "        vertical-align: middle;\n",
       "    }\n",
       "\n",
       "    .dataframe tbody tr th {\n",
       "        vertical-align: top;\n",
       "    }\n",
       "\n",
       "    .dataframe thead th {\n",
       "        text-align: right;\n",
       "    }\n",
       "</style>\n",
       "<table border=\"1\" class=\"dataframe\">\n",
       "  <thead>\n",
       "    <tr style=\"text-align: right;\">\n",
       "      <th></th>\n",
       "      <th>Name</th>\n",
       "      <th>Park</th>\n",
       "      <th>Track</th>\n",
       "      <th>Speed</th>\n",
       "      <th>Height</th>\n",
       "      <th>Drop</th>\n",
       "      <th>Length</th>\n",
       "      <th>Duration</th>\n",
       "      <th>Inversions</th>\n",
       "    </tr>\n",
       "  </thead>\n",
       "  <tbody>\n",
       "    <tr>\n",
       "      <th>11</th>\n",
       "      <td>Son Of Beast</td>\n",
       "      <td>Paramount's Kings Island</td>\n",
       "      <td>Wood</td>\n",
       "      <td>78.4</td>\n",
       "      <td>218.0</td>\n",
       "      <td>214.0</td>\n",
       "      <td>7032.0</td>\n",
       "      <td>NaN</td>\n",
       "      <td>1</td>\n",
       "    </tr>\n",
       "    <tr>\n",
       "      <th>19</th>\n",
       "      <td>Rattler</td>\n",
       "      <td>Six Flags Fiesta Texas</td>\n",
       "      <td>Wood</td>\n",
       "      <td>73.0</td>\n",
       "      <td>179.5</td>\n",
       "      <td>166.5</td>\n",
       "      <td>5080.0</td>\n",
       "      <td>146.0</td>\n",
       "      <td>0</td>\n",
       "    </tr>\n",
       "    <tr>\n",
       "      <th>28</th>\n",
       "      <td>Boss</td>\n",
       "      <td>Six Flags St. Louis</td>\n",
       "      <td>Wood</td>\n",
       "      <td>66.3</td>\n",
       "      <td>122.0</td>\n",
       "      <td>150.0</td>\n",
       "      <td>5051.0</td>\n",
       "      <td>NaN</td>\n",
       "      <td>0</td>\n",
       "    </tr>\n",
       "    <tr>\n",
       "      <th>29</th>\n",
       "      <td>American Eagle</td>\n",
       "      <td>Six Flags Great America</td>\n",
       "      <td>Wood</td>\n",
       "      <td>66.0</td>\n",
       "      <td>127.0</td>\n",
       "      <td>147.0</td>\n",
       "      <td>4650.0</td>\n",
       "      <td>143.0</td>\n",
       "      <td>0</td>\n",
       "    </tr>\n",
       "    <tr>\n",
       "      <th>33</th>\n",
       "      <td>Hercules</td>\n",
       "      <td>Dorney Park</td>\n",
       "      <td>Wood</td>\n",
       "      <td>65.0</td>\n",
       "      <td>95.0</td>\n",
       "      <td>151.0</td>\n",
       "      <td>4000.0</td>\n",
       "      <td>135.0</td>\n",
       "      <td>0</td>\n",
       "    </tr>\n",
       "  </tbody>\n",
       "</table>\n",
       "</div>"
      ],
      "text/plain": [
       "              Name                      Park Track  Speed  Height   Drop  \\\n",
       "11    Son Of Beast  Paramount's Kings Island  Wood   78.4   218.0  214.0   \n",
       "19         Rattler    Six Flags Fiesta Texas  Wood   73.0   179.5  166.5   \n",
       "28            Boss       Six Flags St. Louis  Wood   66.3   122.0  150.0   \n",
       "29  American Eagle   Six Flags Great America  Wood   66.0   127.0  147.0   \n",
       "33        Hercules               Dorney Park  Wood   65.0    95.0  151.0   \n",
       "\n",
       "    Length  Duration  Inversions  \n",
       "11  7032.0       NaN           1  \n",
       "19  5080.0     146.0           0  \n",
       "28  5051.0       NaN           0  \n",
       "29  4650.0     143.0           0  \n",
       "33  4000.0     135.0           0  "
      ]
     },
     "execution_count": 27,
     "metadata": {},
     "output_type": "execute_result"
    }
   ],
   "source": [
    "# Separates the data into two new dataframes, where one is only Steel rollercoasters and the other is only Wood\n",
    "steel = coasters[coasters.Track == \"Steel\"]\n",
    "wood = coasters[coasters.Track == \"Wood\"]\n",
    "\n",
    "# Confirm this for yourself by looking at the first few rows of each dataframe\n",
    "steel.head()\n",
    "wood.head()"
   ]
  },
  {
   "cell_type": "markdown",
   "id": "d3726349",
   "metadata": {},
   "source": [
    "Now that we have completed our set-up, let's check the conditions for inference. For a two-sample t-test, we need to check the randomization condition, independent groups condition, and the nearly normal condition. Again, since this is a random sample of roller coasters, we can satisfy the randomization assumption. Independence is satisified because one roller coaster being made of wood does not impact another roller coaster's likelihood to be made of steel. To test the normality condition, let's produce two Q-Q plots: one for each track type."
   ]
  },
  {
   "cell_type": "code",
   "execution_count": 28,
   "id": "fd941efc",
   "metadata": {
    "scrolled": true
   },
   "outputs": [
    {
     "data": {
      "image/png": "[encoded data removed]",
      "text/plain": [
       "<Figure size 432x288 with 1 Axes>"
      ]
     },
     "metadata": {
      "needs_background": "light"
     },
     "output_type": "display_data"
    }
   ],
   "source": [
    "# Draw the Q-Q plot\n",
    "probplot(steel[\"Speed\"], plot = pyplot)\n",
    "\n",
    "# Display the plot\n",
    "plt.show()"
   ]
  },
  {
   "cell_type": "code",
   "execution_count": 29,
   "id": "dc042122",
   "metadata": {},
   "outputs": [
    {
     "data": {
      "image/png": "[encoded data removed]",
      "text/plain": [
       "<Figure size 432x288 with 1 Axes>"
      ]
     },
     "metadata": {
      "needs_background": "light"
     },
     "output_type": "display_data"
    }
   ],
   "source": [
    "# Draw the Q-Q plot\n",
    "probplot(wood[\"Speed\"], plot = pyplot)\n",
    "\n",
    "# Display the plot\n",
    "plt.show()"
   ]
  },
  {
   "cell_type": "markdown",
   "id": "b7ae759d",
   "metadata": {},
   "source": [
    "The Q-Q plot for steel rollercoasters satisfies the normality condition, even through there is some slight deviation in the upper tail. Additionally, the sample size is large enough so that this deviation would not be a major issue. The Q-Q plot for wood rollercoasters visualizes substantially less roller coasters that are made from wood, but none of the roller coasters deviate dramatically from the line of best fit. Given these observations, we can proceed to complete our statistical inference.\n",
    "\n",
    "Using the function *ttest_ind( )* from the scipy.stats library, let's perform our one-sample t-test. Within this new function, we will need to supply information for the following options:\n",
    "\n",
    "+ data = our first dataset and the variable in question, e.g. dataset_name[\"variable_name\"]\n",
    "+ data = our second dataset and the variable in question, e.g. dataset_name[\"variable_name\"]"
   ]
  },
  {
   "cell_type": "code",
   "execution_count": 30,
   "id": "c761c7e9",
   "metadata": {
    "scrolled": true
   },
   "outputs": [
    {
     "name": "stdout",
     "output_type": "stream",
     "text": [
      "p-values: 0.42908098032852415\n",
      "t-test: -0.7921118189812297\n"
     ]
    }
   ],
   "source": [
    "# Assign the results of our test to two variables\n",
    "# IMPORTANT, \"ttest_ind\" requires you to specify a variable within your dataset\n",
    "stat, p = ttest_ind(steel[\"Speed\"], wood[\"Speed\"])\n",
    "\n",
    "# Display the results\n",
    "print(\"p-values:\", p)\n",
    "print(\"t-test:\", stat)"
   ]
  },
  {
   "cell_type": "code",
   "execution_count": 31,
   "id": "439d10ae",
   "metadata": {},
   "outputs": [
    {
     "name": "stdout",
     "output_type": "stream",
     "text": [
      "Fail to reject the null hypothesis\n"
     ]
    }
   ],
   "source": [
    "# Let's use 0.05 or 5% as the significance level of alpha.\n",
    "if p < 0.05:\n",
    "    \n",
    "    print(\"Reject the null hypothesis\")\n",
    "    \n",
    "else:\n",
    "    print(\"Fail to reject the null hypothesis\")"
   ]
  },
  {
   "cell_type": "markdown",
   "id": "487f6cb9",
   "metadata": {},
   "source": [
    "At a significance level of 0.05, we fail to reject the null hypothesis that the true mean speed of the two different track types of roller coasters are the same. Let's take a look at the actual means of our data and see what we think."
   ]
  },
  {
   "cell_type": "code",
   "execution_count": 32,
   "id": "f0560efd",
   "metadata": {
    "scrolled": true
   },
   "outputs": [
    {
     "name": "stdout",
     "output_type": "stream",
     "text": [
      "54.99811320754719\n"
     ]
    }
   ],
   "source": [
    "# Find the mean speed for steel tracks\n",
    "speed_steel = steel[\"Speed\"].mean()\n",
    "print(speed_steel)"
   ]
  },
  {
   "cell_type": "code",
   "execution_count": 33,
   "id": "e8d89f60",
   "metadata": {},
   "outputs": [
    {
     "name": "stdout",
     "output_type": "stream",
     "text": [
      "57.92758620689655\n"
     ]
    }
   ],
   "source": [
    "# Find the mean speed for wooden tracks\n",
    "speed_wood = wood[\"Speed\"].mean()\n",
    "print(speed_wood)"
   ]
  },
  {
   "cell_type": "markdown",
   "id": "d1a67c16",
   "metadata": {},
   "source": [
    "Some might argue that the difference between the mean speeds is substantial. However, according to our test, we lack sufficient evidence to reject the null hypothesis and state that speed changes depending on track type. Oh well. Maybe with a different sample dataset!"
   ]
  },
  {
   "cell_type": "markdown",
   "id": "3695f082",
   "metadata": {},
   "source": [
    "## Two-sample t-interval"
   ]
  },
  {
   "cell_type": "markdown",
   "id": "71ebe54c",
   "metadata": {},
   "source": [
    "Let's go ahead and calculate a confidence interval for the previous example!\n",
    "\n",
    "* $H_0$: $µ_{steel}$ - $µ_{wood}$ = 0\n",
    "* $H_0$: $µ_{steel}$ - $µ_{wood}$ ≠ 0"
   ]
  },
  {
   "cell_type": "code",
   "execution_count": 34,
   "id": "15fb0305",
   "metadata": {},
   "outputs": [
    {
     "data": {
      "text/plain": [
       "Steel    212\n",
       "Wood      29\n",
       "Name: Track, dtype: int64"
      ]
     },
     "execution_count": 34,
     "metadata": {},
     "output_type": "execute_result"
    }
   ],
   "source": [
    "# Check the total counts for steel v/s wood rollercoasters\n",
    "coasters[\"Track\"].value_counts()"
   ]
  },
  {
   "cell_type": "markdown",
   "id": "5f6cfb19",
   "metadata": {},
   "source": [
    "**Conditions:**\n",
    "* Independence: We can assume that within each group, individual responses are independent from each other. We can also assume that each group is independent from each other.\n",
    "* Normal populations: steel has a large enough size and wood should be checked with a graph.\n",
    "\n",
    "Let's go ahead and create histograms to check the normal population assumption!"
   ]
  },
  {
   "cell_type": "code",
   "execution_count": 35,
   "id": "3f46e906",
   "metadata": {},
   "outputs": [
    {
     "data": {
      "image/png": "[encoded data removed]",
      "text/plain": [
       "<Figure size 432x216 with 2 Axes>"
      ]
     },
     "metadata": {
      "needs_background": "light"
     },
     "output_type": "display_data"
    }
   ],
   "source": [
    "# Create faceted histogram with seaborn. \n",
    "g = sns.FacetGrid(data = coasters, col = \"Track\", hue = \"Track\")\n",
    "g.map(sns.histplot, \"Speed\")\n",
    "plt.show()"
   ]
  },
  {
   "cell_type": "markdown",
   "id": "2ffa3d69",
   "metadata": {},
   "source": [
    "Awesome! Both populations seem to follow roughly normal distributions. We do have to be careful since there are some apparent outliers for steel roller coasters."
   ]
  },
  {
   "cell_type": "code",
   "execution_count": 36,
   "id": "dc48dd0b",
   "metadata": {},
   "outputs": [],
   "source": [
    "# Store the counts in different variables. One for steel, one for wood and one for total\n",
    "n_s = 212\n",
    "n_w = 29\n",
    "n = n_s + n_w\n",
    "\n",
    "# Calculate the difference in average speed for wood and steel\n",
    "avg_diff =  speed_wood - speed_steel\n",
    "\n",
    "# Difference in standard errors\n",
    "  # First calculate standard deviation for steel and wood separately \n",
    "sd_s = steel[\"Speed\"].std()\n",
    "sd_w = wood[\"Speed\"].std()\n",
    "\n",
    "  # Standard error. Refer to formula at the bottom.\n",
    "se_s = sd_s ** 2 / 212\n",
    "se_w = sd_w ** 2 / 29\n",
    "\n",
    "# Difference of standard error. Refer to formula at the bottom.\n",
    "se_diff = sqrt(se_s + se_w)"
   ]
  },
  {
   "cell_type": "markdown",
   "id": "e34df99c",
   "metadata": {},
   "source": [
    "#### Standard Error Formula:\n",
    "\n",
    "## $\\sqrt{\\frac{σ_1^2}{n_1} + \\frac{σ_2^2}{n_2}}$ "
   ]
  },
  {
   "cell_type": "markdown",
   "id": "922e0c7a",
   "metadata": {},
   "source": [
    "Great! Now that we have all these values we will go ahead and put them as parameters in the t.interval formula.\n",
    "\n",
    "**Structure:**\n",
    "* t.interval(loc = avg_diff, scale = se_diff, df = degrees_of_freedom, alpha = conf_value)\n",
    "\n",
    "**Arguments:**\n",
    "* loc = # ; difference between means\n",
    "* scale = # ; standard erorr difference.\n",
    "* df = # ; degrees of freedom (n1 + n2 - 2 if pooled data or use function degreesOfFreedom for non-pooled data)\n",
    "* alpha = confidence interval from 0 to 1"
   ]
  },
  {
   "cell_type": "code",
   "execution_count": 37,
   "id": "894e4b72",
   "metadata": {},
   "outputs": [],
   "source": [
    "def degreesOfFreedom(m_1, m_2, sd_1, sd_2, n_1, n_2):\n",
    "    df = (((sd_1**2)/n_1 + (sd_2**2)/n_2)**2)/ (((sd_1**2)/n_1)**2/(n_1-1) + ((sd_2**2)/n_2)**2/(n_2-1))\n",
    "    return df"
   ]
  },
  {
   "cell_type": "code",
   "execution_count": 38,
   "id": "e177d189",
   "metadata": {},
   "outputs": [
    {
     "data": {
      "text/plain": [
       "71.06074348199017"
      ]
     },
     "execution_count": 38,
     "metadata": {},
     "output_type": "execute_result"
    }
   ],
   "source": [
    "degreesOfFreedom(speed_wood, speed_steel, sd_s, sd_w, n_s, n_w)"
   ]
  },
  {
   "cell_type": "code",
   "execution_count": 39,
   "id": "9e2c894b",
   "metadata": {
    "scrolled": true
   },
   "outputs": [
    {
     "name": "stdout",
     "output_type": "stream",
     "text": [
      "-1.3776124441472275 7.236558442845943\n"
     ]
    }
   ],
   "source": [
    "# Store lower and upper boundaries.\n",
    "lower, upper = t.interval(loc = avg_diff, scale = se_diff, df = 71, alpha = 0.95)\n",
    "print(lower, upper)"
   ]
  },
  {
   "cell_type": "markdown",
   "id": "52fb30c8",
   "metadata": {},
   "source": [
    "Since *zero is included in the confidence interval*, the true population of wood roller coasters could be either slower, faster or have the same speed as steel roller coasters, but we do not have enough evidence to determine which one of these alternatives is the right case."
   ]
  },
  {
   "cell_type": "markdown",
   "id": "d161b4f1",
   "metadata": {},
   "source": [
    "## Paired sample t-test\n",
    "Our next statistical inference task is to complete a paired sample t-test, or a dependent sample t-test, on our coasters dataset. Remind yourselves that a paired sample t-test checks if the mean difference between two observations of the same group is 0. These tests are particularly useful to determine the impact of a treatment in an experiment.\n",
    "\n",
    "In this example, the data comes from Dr. Chico’s introductory statistics class. Students in the class take two tests over the course of the semester. Dr. Chico gives notoriously difficult exams with the intention of motivating her students to work hard in the class and thus learn as much as possible. Dr. Chico’s theory is that the first test will serve as a “wake up call” for her students, such that when they realize how difficult the class actually is they will be motivated to study harder and earn a higher grade on the second test than they got on the first test.\n",
    "\n",
    "To determine if Dr. Chico's \"wake up call\" truly works for the true population, let's perform a paired sample t-test to determine whether or not a student's performance on the second exam is significantly different from their performance on the first exam.\n",
    "+ $H_0$: The average scores for each test will be the same.\n",
    "+ $H_A$: The average scores for each test are not the same."
   ]
  },
  {
   "cell_type": "markdown",
   "id": "cd39ad46",
   "metadata": {},
   "source": [
    "Let's begin by importing the data and taking a look at its format."
   ]
  },
  {
   "cell_type": "code",
   "execution_count": 40,
   "id": "5c2663eb",
   "metadata": {},
   "outputs": [
    {
     "data": {
      "text/html": [
       "<div>\n",
       "<style scoped>\n",
       "    .dataframe tbody tr th:only-of-type {\n",
       "        vertical-align: middle;\n",
       "    }\n",
       "\n",
       "    .dataframe tbody tr th {\n",
       "        vertical-align: top;\n",
       "    }\n",
       "\n",
       "    .dataframe thead th {\n",
       "        text-align: right;\n",
       "    }\n",
       "</style>\n",
       "<table border=\"1\" class=\"dataframe\">\n",
       "  <thead>\n",
       "    <tr style=\"text-align: right;\">\n",
       "      <th></th>\n",
       "      <th>id</th>\n",
       "      <th>grade_test1</th>\n",
       "      <th>grade_test2</th>\n",
       "    </tr>\n",
       "  </thead>\n",
       "  <tbody>\n",
       "    <tr>\n",
       "      <th>15</th>\n",
       "      <td>student16</td>\n",
       "      <td>58.7</td>\n",
       "      <td>60.1</td>\n",
       "    </tr>\n",
       "    <tr>\n",
       "      <th>16</th>\n",
       "      <td>student17</td>\n",
       "      <td>50.1</td>\n",
       "      <td>51.7</td>\n",
       "    </tr>\n",
       "    <tr>\n",
       "      <th>17</th>\n",
       "      <td>student18</td>\n",
       "      <td>64.2</td>\n",
       "      <td>65.6</td>\n",
       "    </tr>\n",
       "    <tr>\n",
       "      <th>18</th>\n",
       "      <td>student19</td>\n",
       "      <td>57.4</td>\n",
       "      <td>58.3</td>\n",
       "    </tr>\n",
       "    <tr>\n",
       "      <th>19</th>\n",
       "      <td>student20</td>\n",
       "      <td>57.1</td>\n",
       "      <td>60.1</td>\n",
       "    </tr>\n",
       "  </tbody>\n",
       "</table>\n",
       "</div>"
      ],
      "text/plain": [
       "           id  grade_test1  grade_test2\n",
       "15  student16         58.7         60.1\n",
       "16  student17         50.1         51.7\n",
       "17  student18         64.2         65.6\n",
       "18  student19         57.4         58.3\n",
       "19  student20         57.1         60.1"
      ]
     },
     "execution_count": 40,
     "metadata": {},
     "output_type": "execute_result"
    }
   ],
   "source": [
    "# Import data \n",
    "Chico = pd.read_csv(\"chico_wide.csv\")\n",
    "\n",
    "# Glimpse data\n",
    "Chico.tail()"
   ]
  },
  {
   "cell_type": "markdown",
   "id": "e07e9982",
   "metadata": {},
   "source": [
    "Before we can begin our test, we will need to create two separate sets of data: one with the scores from the first exam and one with the scores from the second exam."
   ]
  },
  {
   "cell_type": "code",
   "execution_count": 41,
   "id": "0defa373",
   "metadata": {},
   "outputs": [],
   "source": [
    "# Scores on the first exam\n",
    "exam1 = Chico['grade_test1']\n",
    "\n",
    "# Scores on the second exam\n",
    "exam2 = Chico['grade_test2']"
   ]
  },
  {
   "cell_type": "markdown",
   "id": "b2fbf20e",
   "metadata": {},
   "source": [
    "Recall that in a paired sample t-test, the conditions for inference are the paired data condition, independence, and normality. We know that the data satisfy the paired data condition because these two exam scores are dependent on a single student. Given that the data is paired, the groups are not independent, thus, here we are looking for pairwise differences. We can be certain that this data is independent because the observed differences are a representative sample from a population of interest. Additionally, one student's performance does not impact another student's performance on an exam. To check the normality condition, we can again produce our Q-Q plots to check."
   ]
  },
  {
   "cell_type": "code",
   "execution_count": 42,
   "id": "c55f7ae2",
   "metadata": {
    "scrolled": true
   },
   "outputs": [
    {
     "data": {
      "image/png": "[encoded data removed]",
      "text/plain": [
       "<Figure size 432x288 with 1 Axes>"
      ]
     },
     "metadata": {
      "needs_background": "light"
     },
     "output_type": "display_data"
    }
   ],
   "source": [
    "# Draw the Q-Q plot\n",
    "probplot(exam1, plot = pyplot)\n",
    "\n",
    "# Display the plot\n",
    "plt.show()"
   ]
  },
  {
   "cell_type": "code",
   "execution_count": 43,
   "id": "97010c3a",
   "metadata": {
    "scrolled": true
   },
   "outputs": [
    {
     "data": {
      "image/png": "[encoded data removed]",
      "text/plain": [
       "<Figure size 432x288 with 1 Axes>"
      ]
     },
     "metadata": {
      "needs_background": "light"
     },
     "output_type": "display_data"
    }
   ],
   "source": [
    "# Draw the Q-Q plot\n",
    "probplot(exam2, plot = pyplot)\n",
    "\n",
    "# Display the plot\n",
    "plt.show()"
   ]
  },
  {
   "cell_type": "markdown",
   "id": "b68de076",
   "metadata": {},
   "source": [
    "Seeing as all of the datapoints roughly follow the line of best fit, we can assume that our data follows the normality condition. We will proceed to test our null hypothesis that Dr. Chico's theory produces no significant difference in students' performance."
   ]
  },
  {
   "cell_type": "code",
   "execution_count": 44,
   "id": "5329e86f",
   "metadata": {},
   "outputs": [
    {
     "name": "stdout",
     "output_type": "stream",
     "text": [
      "p-values: 3.320670056126948e-06\n",
      "t-test: -6.475436088339379\n"
     ]
    }
   ],
   "source": [
    "# Assign the results of our test to two variables\n",
    "stat, p = ttest_rel(exam1, exam2)\n",
    "\n",
    "# Display the results\n",
    "print(\"p-values:\", p)\n",
    "print(\"t-test:\", stat)"
   ]
  },
  {
   "cell_type": "code",
   "execution_count": 45,
   "id": "f41acc80",
   "metadata": {},
   "outputs": [
    {
     "name": "stdout",
     "output_type": "stream",
     "text": [
      "Reject the null hypothesis\n"
     ]
    }
   ],
   "source": [
    "# Let's use 0.05 or 5% as the significance level of alpha.\n",
    "if p < 0.05:\n",
    "    \n",
    "    print(\"Reject the null hypothesis\")\n",
    "    \n",
    "else:\n",
    "    print(\"Fail to reject the null hypothesis\")"
   ]
  },
  {
   "cell_type": "markdown",
   "id": "50f76443",
   "metadata": {},
   "source": [
    "When alpha is equal to 0.05, we reject the null hypothesis that Dr. Chico's theory produces no significant difference in students' performance. Rather, it appears that students performed significantly better on the second exam, which may be a result of Dr. Chico making the first exam particularly challenging. Thus, Dr. Chico's could be applied to other student populations and produce and improvement in their scores as well."
   ]
  },
  {
   "cell_type": "markdown",
   "id": "85d94098",
   "metadata": {},
   "source": [
    "## One-way ANOVA\n",
    "\n",
    "In the case where we have two or multiple groups that we would like to compare at the same time, we will want to use ANOVA as our statistical inference test. ANOVA checks for a signficant difference between and within multiple groups, and it can test multiple hypotheses at once. \n",
    "\n",
    "In our example, we will analyze the backpack weight to body weight ratios of students in their first through third years of their undergraduate studies. \n",
    "+ $H_0$: There is no significant difference between the ratios of these year groups.\n",
    "+ $H_A$: There is a significant difference between the ratios of these year groups.\n",
    "\n",
    "Let's begin by familiarizing ourselves with the data."
   ]
  },
  {
   "cell_type": "code",
   "execution_count": 46,
   "id": "a26a656f",
   "metadata": {},
   "outputs": [
    {
     "data": {
      "text/html": [
       "<div>\n",
       "<style scoped>\n",
       "    .dataframe tbody tr th:only-of-type {\n",
       "        vertical-align: middle;\n",
       "    }\n",
       "\n",
       "    .dataframe tbody tr th {\n",
       "        vertical-align: top;\n",
       "    }\n",
       "\n",
       "    .dataframe thead th {\n",
       "        text-align: right;\n",
       "    }\n",
       "</style>\n",
       "<table border=\"1\" class=\"dataframe\">\n",
       "  <thead>\n",
       "    <tr style=\"text-align: right;\">\n",
       "      <th></th>\n",
       "      <th>BackpackWeight</th>\n",
       "      <th>BodyWeight</th>\n",
       "      <th>Ratio</th>\n",
       "      <th>BackProblems</th>\n",
       "      <th>Major</th>\n",
       "      <th>Year</th>\n",
       "      <th>Sex</th>\n",
       "      <th>Status</th>\n",
       "      <th>Units</th>\n",
       "    </tr>\n",
       "  </thead>\n",
       "  <tbody>\n",
       "    <tr>\n",
       "      <th>0</th>\n",
       "      <td>9</td>\n",
       "      <td>125</td>\n",
       "      <td>0.072000</td>\n",
       "      <td>1</td>\n",
       "      <td>Bio</td>\n",
       "      <td>3</td>\n",
       "      <td>Female</td>\n",
       "      <td>U</td>\n",
       "      <td>13</td>\n",
       "    </tr>\n",
       "    <tr>\n",
       "      <th>1</th>\n",
       "      <td>8</td>\n",
       "      <td>180</td>\n",
       "      <td>0.044444</td>\n",
       "      <td>0</td>\n",
       "      <td>EE</td>\n",
       "      <td>2</td>\n",
       "      <td>Female</td>\n",
       "      <td>U</td>\n",
       "      <td>14</td>\n",
       "    </tr>\n",
       "    <tr>\n",
       "      <th>2</th>\n",
       "      <td>8</td>\n",
       "      <td>170</td>\n",
       "      <td>0.047059</td>\n",
       "      <td>0</td>\n",
       "      <td>CM</td>\n",
       "      <td>3</td>\n",
       "      <td>Male</td>\n",
       "      <td>U</td>\n",
       "      <td>15</td>\n",
       "    </tr>\n",
       "    <tr>\n",
       "      <th>3</th>\n",
       "      <td>8</td>\n",
       "      <td>135</td>\n",
       "      <td>0.059259</td>\n",
       "      <td>0</td>\n",
       "      <td>Bus</td>\n",
       "      <td>3</td>\n",
       "      <td>Female</td>\n",
       "      <td>U</td>\n",
       "      <td>15</td>\n",
       "    </tr>\n",
       "    <tr>\n",
       "      <th>4</th>\n",
       "      <td>12</td>\n",
       "      <td>125</td>\n",
       "      <td>0.096000</td>\n",
       "      <td>1</td>\n",
       "      <td>CS</td>\n",
       "      <td>3</td>\n",
       "      <td>Female</td>\n",
       "      <td>U</td>\n",
       "      <td>12</td>\n",
       "    </tr>\n",
       "  </tbody>\n",
       "</table>\n",
       "</div>"
      ],
      "text/plain": [
       "   BackpackWeight  BodyWeight     Ratio  BackProblems Major  Year     Sex  \\\n",
       "0               9         125  0.072000             1   Bio     3  Female   \n",
       "1               8         180  0.044444             0    EE     2  Female   \n",
       "2               8         170  0.047059             0    CM     3    Male   \n",
       "3               8         135  0.059259             0   Bus     3  Female   \n",
       "4              12         125  0.096000             1    CS     3  Female   \n",
       "\n",
       "  Status  Units  \n",
       "0      U     13  \n",
       "1      U     14  \n",
       "2      U     15  \n",
       "3      U     15  \n",
       "4      U     12  "
      ]
     },
     "execution_count": 46,
     "metadata": {},
     "output_type": "execute_result"
    }
   ],
   "source": [
    "# Import data \n",
    "bp = pd.read_csv(\"Backpack.csv\")\n",
    "\n",
    "# Glimpse the data\n",
    "bp.head()"
   ]
  },
  {
   "cell_type": "markdown",
   "id": "ddba93e7",
   "metadata": {},
   "source": [
    "Let's check the conditions for inference for one-way ANOVA which are linearity, independence, equal variance, and normality. Our data satisfies the independence condition because one student's backpack to bodyweight ratio does not impact another student's ratio. We will produce a Normal Q-Q plot to check normality, and now we will also teach you how to create a Residuals vs. Fitted plot to check linearity and equal variance."
   ]
  },
  {
   "cell_type": "code",
   "execution_count": 47,
   "id": "55fb81ed",
   "metadata": {
    "scrolled": false
   },
   "outputs": [
    {
     "data": {
      "image/png": "[encoded data removed]",
      "text/plain": [
       "<Figure size 432x288 with 1 Axes>"
      ]
     },
     "metadata": {
      "needs_background": "light"
     },
     "output_type": "display_data"
    }
   ],
   "source": [
    "# Draw the Q-Q plot\n",
    "probplot(bp[\"Ratio\"], plot = pyplot)\n",
    "\n",
    "# Display the figure\n",
    "plt.show()"
   ]
  },
  {
   "cell_type": "markdown",
   "id": "1a210b9d",
   "metadata": {},
   "source": [
    "Based on the probability plot above, the data looks to be pretty normal with the exception of some slight deviation in the upper and lower tails. We will proceed to create the Residuals vs. Fitted plot with caution.\n",
    "\n",
    "To produce the following plot, we will need to create the model for our one-way ANOVA. In this case, we will need to articulate to Python that we are trying to understand the relationship between backpack ratios and a student's year. After fitting the model, we will then need to direct Python to calculate the fitted and residual values. After that, we will be using matplotlib.pyplot to create a scatterplot of the residuals vs. fitted points.\n",
    "\n",
    "When fitting a linear model, we will be using a new method called *ols( )* from the *statsmodels.formul.api* library. As good practice, we will assign the output to a variable. Within the parentheses, we must specify the following options:\n",
    "+ data = our dataset\n",
    "+ formula = \"dependent_variable ~ explanatory_variable\"\n",
    "+ .fit() = function written after the parentheses that instructs Python to fit the model"
   ]
  },
  {
   "cell_type": "code",
   "execution_count": 48,
   "id": "4d52f847",
   "metadata": {},
   "outputs": [
    {
     "data": {
      "image/png": "[encoded data removed]",
      "text/plain": [
       "<Figure size 432x288 with 1 Axes>"
      ]
     },
     "metadata": {
      "needs_background": "light"
     },
     "output_type": "display_data"
    }
   ],
   "source": [
    "# Fitting linear model\n",
    "anova_mod = ols(data = bp, formula = \"Ratio ~ C(Year)\").fit()\n",
    "\n",
    "# Fitted values that predict the backpack ratio\n",
    "fitted = anova_mod.predict()\n",
    "\n",
    "# Observed ratios - fitted values = residuals\n",
    "# .resid finds the residuals\n",
    "residuals = anova_mod.resid\n",
    "\n",
    "# Residuals vs. fitted values\n",
    "plt.scatter(fitted, residuals)\n",
    "\n",
    "# Adds a line to more clearly see variance from 0\n",
    "plt.axhline(y = 0, color = \"black\", linestyle = \":\")\n",
    "\n",
    "# Add labels\n",
    "plt.xlabel(\"Fitted Values\")\n",
    "plt.ylabel(\"Residuals\")\n",
    "plt.title(\"Fitted vs. Residuals\")\n",
    "\n",
    "# Display the graph\n",
    "plt.show()"
   ]
  },
  {
   "cell_type": "markdown",
   "id": "f2c5316c",
   "metadata": {},
   "source": [
    "The fitted vs. residuals plot demonstrates that the conditions for linearity and equal variance are not satisifed by this dataset. The data points are showing clear patterns and do not fall around the zero line. For the sake of learning how to do ANOVA, we will continue without taking the results of the test to mean much.\n",
    "\n",
    "Since our data is set-up and we have checked conditions, we can begin our one-way ANOVA test to see if backpack to bodyweight ratio changes depending on a student's year. We will generate a one-way ANOVA table using the function *stats.anova_lm* from the *statsmodels.api* library. As good practice, we will assign our table to a variable, and within the parentheses, specify the following options:\n",
    "+ model = the model name assigned when we fit the model above\n",
    "+ typ = the type of ANOVA test to perform, e.g. \"1\" for one-way ANOVA, \"2\" for two-way ANOVA, and so forth."
   ]
  },
  {
   "cell_type": "code",
   "execution_count": 49,
   "id": "858403d6",
   "metadata": {},
   "outputs": [
    {
     "name": "stdout",
     "output_type": "stream",
     "text": [
      "            df    sum_sq   mean_sq         F    PR(>F)\n",
      "C(Year)    2.0  0.001727  0.000863  0.763551  0.470884\n",
      "Residual  55.0  0.062186  0.001131       NaN       NaN\n"
     ]
    }
   ],
   "source": [
    "# Create ANOVA table\n",
    "anova_table = stats.anova_lm(anova_mod, typ = 1)\n",
    "\n",
    "# Display the ANOVA table\n",
    "print(anova_table)"
   ]
  },
  {
   "cell_type": "markdown",
   "id": "0daba04f",
   "metadata": {},
   "source": [
    "Just now, we have tested the hypothesis that there is no difference between the mean backpack ratio for students of different years in their undergraduate studies. Our results show us that we fail to reject the null hypothesis at a significance level of 0.05, because the p-value for our F-statistic is 0.47. Meaning, there is no significant difference between the backpack to bodyweight ratios for students of different class years. However, given that our data fails the conditions for one-way ANOVA's inference, we should not take these results as fact and try again with a better dataset."
   ]
  },
  {
   "cell_type": "markdown",
   "id": "d84fe578",
   "metadata": {},
   "source": [
    "## Inference for Linear Regression\n",
    "Let's learn how to perform inference with linear regression! We will use a dataset from the world health organization."
   ]
  },
  {
   "cell_type": "code",
   "execution_count": 50,
   "id": "8caa528c",
   "metadata": {},
   "outputs": [],
   "source": [
    "# Read data set\n",
    "who = pd.read_csv(\"world_health.csv\")"
   ]
  },
  {
   "cell_type": "code",
   "execution_count": 52,
   "id": "2774e782",
   "metadata": {},
   "outputs": [
    {
     "data": {
      "text/html": [
       "<div>\n",
       "<style scoped>\n",
       "    .dataframe tbody tr th:only-of-type {\n",
       "        vertical-align: middle;\n",
       "    }\n",
       "\n",
       "    .dataframe tbody tr th {\n",
       "        vertical-align: top;\n",
       "    }\n",
       "\n",
       "    .dataframe thead th {\n",
       "        text-align: right;\n",
       "    }\n",
       "</style>\n",
       "<table border=\"1\" class=\"dataframe\">\n",
       "  <thead>\n",
       "    <tr style=\"text-align: right;\">\n",
       "      <th></th>\n",
       "      <th>Country</th>\n",
       "      <th>Year</th>\n",
       "      <th>Status</th>\n",
       "      <th>life_exp</th>\n",
       "      <th>adult_mort</th>\n",
       "      <th>inf_deaths</th>\n",
       "      <th>alcohol</th>\n",
       "      <th>percentage_expenditure</th>\n",
       "      <th>hepatitisb</th>\n",
       "      <th>measles</th>\n",
       "      <th>...</th>\n",
       "      <th>polio</th>\n",
       "      <th>total_expenditure</th>\n",
       "      <th>diphteria</th>\n",
       "      <th>hiv_aids</th>\n",
       "      <th>gdp</th>\n",
       "      <th>population</th>\n",
       "      <th>thinness_1_19_years</th>\n",
       "      <th>thinness_5_9_years</th>\n",
       "      <th>income_comp_of_resources</th>\n",
       "      <th>schooling</th>\n",
       "    </tr>\n",
       "  </thead>\n",
       "  <tbody>\n",
       "    <tr>\n",
       "      <th>0</th>\n",
       "      <td>Afghanistan</td>\n",
       "      <td>2015</td>\n",
       "      <td>Developing</td>\n",
       "      <td>65.0</td>\n",
       "      <td>263.0</td>\n",
       "      <td>62</td>\n",
       "      <td>0.01</td>\n",
       "      <td>71.279624</td>\n",
       "      <td>65.0</td>\n",
       "      <td>1154</td>\n",
       "      <td>...</td>\n",
       "      <td>6.0</td>\n",
       "      <td>8.16</td>\n",
       "      <td>65.0</td>\n",
       "      <td>0.1</td>\n",
       "      <td>584.259210</td>\n",
       "      <td>33736494.0</td>\n",
       "      <td>17.2</td>\n",
       "      <td>17.3</td>\n",
       "      <td>0.479</td>\n",
       "      <td>10.1</td>\n",
       "    </tr>\n",
       "    <tr>\n",
       "      <th>1</th>\n",
       "      <td>Afghanistan</td>\n",
       "      <td>2014</td>\n",
       "      <td>Developing</td>\n",
       "      <td>59.9</td>\n",
       "      <td>271.0</td>\n",
       "      <td>64</td>\n",
       "      <td>0.01</td>\n",
       "      <td>73.523582</td>\n",
       "      <td>62.0</td>\n",
       "      <td>492</td>\n",
       "      <td>...</td>\n",
       "      <td>58.0</td>\n",
       "      <td>8.18</td>\n",
       "      <td>62.0</td>\n",
       "      <td>0.1</td>\n",
       "      <td>612.696514</td>\n",
       "      <td>327582.0</td>\n",
       "      <td>17.5</td>\n",
       "      <td>17.5</td>\n",
       "      <td>0.476</td>\n",
       "      <td>10.0</td>\n",
       "    </tr>\n",
       "    <tr>\n",
       "      <th>2</th>\n",
       "      <td>Afghanistan</td>\n",
       "      <td>2013</td>\n",
       "      <td>Developing</td>\n",
       "      <td>59.9</td>\n",
       "      <td>268.0</td>\n",
       "      <td>66</td>\n",
       "      <td>0.01</td>\n",
       "      <td>73.219243</td>\n",
       "      <td>64.0</td>\n",
       "      <td>430</td>\n",
       "      <td>...</td>\n",
       "      <td>62.0</td>\n",
       "      <td>8.13</td>\n",
       "      <td>64.0</td>\n",
       "      <td>0.1</td>\n",
       "      <td>631.744976</td>\n",
       "      <td>31731688.0</td>\n",
       "      <td>17.7</td>\n",
       "      <td>17.7</td>\n",
       "      <td>0.470</td>\n",
       "      <td>9.9</td>\n",
       "    </tr>\n",
       "    <tr>\n",
       "      <th>3</th>\n",
       "      <td>Afghanistan</td>\n",
       "      <td>2012</td>\n",
       "      <td>Developing</td>\n",
       "      <td>59.5</td>\n",
       "      <td>272.0</td>\n",
       "      <td>69</td>\n",
       "      <td>0.01</td>\n",
       "      <td>78.184215</td>\n",
       "      <td>67.0</td>\n",
       "      <td>2787</td>\n",
       "      <td>...</td>\n",
       "      <td>67.0</td>\n",
       "      <td>8.52</td>\n",
       "      <td>67.0</td>\n",
       "      <td>0.1</td>\n",
       "      <td>669.959000</td>\n",
       "      <td>3696958.0</td>\n",
       "      <td>17.9</td>\n",
       "      <td>18.0</td>\n",
       "      <td>0.463</td>\n",
       "      <td>9.8</td>\n",
       "    </tr>\n",
       "    <tr>\n",
       "      <th>4</th>\n",
       "      <td>Afghanistan</td>\n",
       "      <td>2011</td>\n",
       "      <td>Developing</td>\n",
       "      <td>59.2</td>\n",
       "      <td>275.0</td>\n",
       "      <td>71</td>\n",
       "      <td>0.01</td>\n",
       "      <td>7.097109</td>\n",
       "      <td>68.0</td>\n",
       "      <td>3013</td>\n",
       "      <td>...</td>\n",
       "      <td>68.0</td>\n",
       "      <td>7.87</td>\n",
       "      <td>68.0</td>\n",
       "      <td>0.1</td>\n",
       "      <td>63.537231</td>\n",
       "      <td>2978599.0</td>\n",
       "      <td>18.2</td>\n",
       "      <td>18.2</td>\n",
       "      <td>0.454</td>\n",
       "      <td>9.5</td>\n",
       "    </tr>\n",
       "  </tbody>\n",
       "</table>\n",
       "<p>5 rows × 22 columns</p>\n",
       "</div>"
      ],
      "text/plain": [
       "       Country  Year      Status  life_exp  adult_mort  inf_deaths  alcohol  \\\n",
       "0  Afghanistan  2015  Developing      65.0       263.0          62     0.01   \n",
       "1  Afghanistan  2014  Developing      59.9       271.0          64     0.01   \n",
       "2  Afghanistan  2013  Developing      59.9       268.0          66     0.01   \n",
       "3  Afghanistan  2012  Developing      59.5       272.0          69     0.01   \n",
       "4  Afghanistan  2011  Developing      59.2       275.0          71     0.01   \n",
       "\n",
       "   percentage_expenditure  hepatitisb  measles  ...  polio  total_expenditure  \\\n",
       "0               71.279624        65.0     1154  ...    6.0               8.16   \n",
       "1               73.523582        62.0      492  ...   58.0               8.18   \n",
       "2               73.219243        64.0      430  ...   62.0               8.13   \n",
       "3               78.184215        67.0     2787  ...   67.0               8.52   \n",
       "4                7.097109        68.0     3013  ...   68.0               7.87   \n",
       "\n",
       "   diphteria  hiv_aids         gdp  population  thinness_1_19_years  \\\n",
       "0       65.0       0.1  584.259210  33736494.0                 17.2   \n",
       "1       62.0       0.1  612.696514    327582.0                 17.5   \n",
       "2       64.0       0.1  631.744976  31731688.0                 17.7   \n",
       "3       67.0       0.1  669.959000   3696958.0                 17.9   \n",
       "4       68.0       0.1   63.537231   2978599.0                 18.2   \n",
       "\n",
       "   thinness_5_9_years  income_comp_of_resources  schooling  \n",
       "0                17.3                     0.479       10.1  \n",
       "1                17.5                     0.476       10.0  \n",
       "2                17.7                     0.470        9.9  \n",
       "3                18.0                     0.463        9.8  \n",
       "4                18.2                     0.454        9.5  \n",
       "\n",
       "[5 rows x 22 columns]"
      ]
     },
     "execution_count": 52,
     "metadata": {},
     "output_type": "execute_result"
    }
   ],
   "source": [
    "# Take a look at the data set\n",
    "who.head()"
   ]
  },
  {
   "cell_type": "markdown",
   "id": "ed6cf6c5",
   "metadata": {},
   "source": [
    "Is there an association between schooling and life expectancy after adjusting for relevant confounders?\n",
    "* $H_0$: there's no association between schooling and life expectancy\n",
    "* $H_A$: there's an association between schooling and life expectancy"
   ]
  },
  {
   "cell_type": "markdown",
   "id": "8321b52c",
   "metadata": {},
   "source": [
    "To plot some of the graphs for checking conditions and asummptions, we must fit our data into our linear model. We will use ols which we imported at the beginning of the notebook.\n",
    "\n",
    "**Arguments:**\n",
    "* data = dataframe\n",
    "* formula = \"dependent ~ independent\" \n",
    "\n",
    "After writing our arguments, we will type .fit()\n",
    "\n",
    "**Structure:**\n",
    "* model_name = ols(data = dataframe, formula = \"dependent ~ independent\").fit()"
   ]
  },
  {
   "cell_type": "code",
   "execution_count": 53,
   "id": "afaf9af3",
   "metadata": {},
   "outputs": [],
   "source": [
    "# Fit model\n",
    "model1 = ols(data = who, formula = \"life_exp ~ schooling\").fit()"
   ]
  },
  {
   "cell_type": "markdown",
   "id": "cd577046",
   "metadata": {},
   "source": [
    "### Linearity\n",
    "There are different ways of checking linearity. In order to put in practice what we've previously learned we will use a scatterplot to check if the relationship between life_exp and schooling is truly linear or not."
   ]
  },
  {
   "cell_type": "code",
   "execution_count": 55,
   "id": "195b3c86",
   "metadata": {},
   "outputs": [
    {
     "data": {
      "image/png": "[encoded data removed]",
      "text/plain": [
       "<Figure size 360x360 with 1 Axes>"
      ]
     },
     "metadata": {
      "needs_background": "light"
     },
     "output_type": "display_data"
    }
   ],
   "source": [
    "# Create scatterplot using lmplot from seaborn.\n",
    "sns.lmplot(data = who, x = \"schooling\", y = \"life_exp\", fit_reg=False)\n",
    "\n",
    "plt.show()"
   ]
  },
  {
   "cell_type": "markdown",
   "id": "7f0e6ff1",
   "metadata": {},
   "source": [
    "We can say that the scatterplot follows a moderately weak, positive linear associaiton."
   ]
  },
  {
   "cell_type": "markdown",
   "id": "18ca3e15",
   "metadata": {},
   "source": [
    "### Independence and Equal Variance\n",
    "To check independence and equal variance we will use a scatterplot. More specifically, we will plot the fitted and residual values.\n",
    "\n",
    "* fitted = modelName.predict()\n",
    "* residuals = modelName.resid\n",
    "\n",
    "**Structure:**\n",
    "* plt.scatter(fitted, residuals)"
   ]
  },
  {
   "cell_type": "code",
   "execution_count": 56,
   "id": "7b66a5c1",
   "metadata": {},
   "outputs": [],
   "source": [
    "# Use the fitted model to store fitted and residual values\n",
    "fitted = model1.predict()\n",
    "residuals = model1.resid"
   ]
  },
  {
   "cell_type": "code",
   "execution_count": 60,
   "id": "e240911d",
   "metadata": {},
   "outputs": [
    {
     "data": {
      "image/png": "[encoded data removed]",
      "text/plain": [
       "<Figure size 432x288 with 1 Axes>"
      ]
     },
     "metadata": {
      "needs_background": "light"
     },
     "output_type": "display_data"
    }
   ],
   "source": [
    "# Plot scatterplot using fitted and residual values\n",
    "plt.scatter(fitted, residuals)\n",
    "\n",
    "# Add horizontal line\n",
    "plt.axhline(y=0, color=\"black\", linestyle=\":\")\n",
    "\n",
    "# Show plot\n",
    "plt.show()"
   ]
  },
  {
   "cell_type": "markdown",
   "id": "19316320",
   "metadata": {},
   "source": [
    "Awesome! we can see that the values seem to be randomly scattered around the 0 axis."
   ]
  },
  {
   "cell_type": "markdown",
   "id": "e859e358",
   "metadata": {},
   "source": [
    "### Normality \n",
    "To check normality we will use qqplot, which we imported at the beginning.\n",
    "\n",
    "**Structure:**\n",
    "* qqplot(data = modelName.resid, line = \"s\");\n",
    "\n",
    "**Arguments:**\n",
    "* data = modelName.resid \n",
    "* line = \"s\" ; standardized line"
   ]
  },
  {
   "cell_type": "code",
   "execution_count": 61,
   "id": "ad78d1f1",
   "metadata": {},
   "outputs": [
    {
     "data": {
      "image/png": "[encoded data removed]",
      "text/plain": [
       "<Figure size 432x288 with 1 Axes>"
      ]
     },
     "metadata": {
      "needs_background": "light"
     },
     "output_type": "display_data"
    }
   ],
   "source": [
    "# Plot the qqplot. Note that there's a semi-colon at the end, which is to avoid jupyternotebook from returning  \n",
    "qqplot(data = model1.resid, line = \"s\");\n",
    "\n",
    "# Show plot\n",
    "plt.show()"
   ]
  },
  {
   "cell_type": "markdown",
   "id": "6899bdf5",
   "metadata": {},
   "source": [
    "The end and beginning of the line seem to fall out of the red line, so we will proceed with caution.\n",
    "Great! our conditions have been satisfied. Let's look at the summary of the linear model."
   ]
  },
  {
   "cell_type": "code",
   "execution_count": 62,
   "id": "6029f7e2",
   "metadata": {},
   "outputs": [
    {
     "name": "stdout",
     "output_type": "stream",
     "text": [
      "                            OLS Regression Results                            \n",
      "==============================================================================\n",
      "Dep. Variable:               life_exp   R-squared:                       0.565\n",
      "Model:                            OLS   Adj. R-squared:                  0.565\n",
      "Method:                 Least Squares   F-statistic:                     3599.\n",
      "Date:                Fri, 05 Aug 2022   Prob (F-statistic):               0.00\n",
      "Time:                        15:02:42   Log-Likelihood:                -8964.3\n",
      "No. Observations:                2768   AIC:                         1.793e+04\n",
      "Df Residuals:                    2766   BIC:                         1.794e+04\n",
      "Df Model:                           1                                         \n",
      "Covariance Type:            nonrobust                                         \n",
      "==============================================================================\n",
      "                 coef    std err          t      P>|t|      [0.025      0.975]\n",
      "------------------------------------------------------------------------------\n",
      "Intercept     44.1089      0.437    100.992      0.000      43.252      44.965\n",
      "schooling      2.1035      0.035     59.995      0.000       2.035       2.172\n",
      "==============================================================================\n",
      "Omnibus:                      283.391   Durbin-Watson:                   0.267\n",
      "Prob(Omnibus):                  0.000   Jarque-Bera (JB):             1122.013\n",
      "Skew:                          -0.445   Prob(JB):                    2.28e-244\n",
      "Kurtosis:                       5.989   Cond. No.                         46.7\n",
      "==============================================================================\n",
      "\n",
      "Notes:\n",
      "[1] Standard Errors assume that the covariance matrix of the errors is correctly specified.\n"
     ]
    }
   ],
   "source": [
    "print(model1.summary())"
   ]
  },
  {
   "cell_type": "markdown",
   "id": "c89a05a6",
   "metadata": {},
   "source": [
    "Schooling has a positive association of 2.1, with a standard error of 0.034 , with a t-ratio of 60 which gives a p-value < 0.05, corresponding to a 95% confident interval for the beta coefficient between 2.035 and 2.172.\n",
    "\n",
    "We can reject the null hypothesis, since we have enough evidence to say that there is a positive association between schooling and life expectancy."
   ]
  },
  {
   "cell_type": "markdown",
   "id": "5e9322cb",
   "metadata": {},
   "source": [
    "## Multiple Linear Regression"
   ]
  },
  {
   "cell_type": "markdown",
   "id": "e76520d5",
   "metadata": {},
   "source": [
    "Now, what if we consider a third variable?\n",
    "\n",
    "* $H_0$ : there's no difference between country status and country's life expectancy, when adjusting for schooling\n",
    "* $H_A$ : there's a difference between country status in country's life expectancy, when adjusting for schooling"
   ]
  },
  {
   "cell_type": "markdown",
   "id": "226421c7",
   "metadata": {},
   "source": [
    "First, we will fit the model. We added a second independent variable, status. As this variable is categorical, we must add a C before its name.\n",
    "\n",
    "**Arguments:**\n",
    "* data = dataframe\n",
    "* formula = \"dependent ~ independent\" \n",
    "\n",
    "After writing our arguments, we will type .fit()\n",
    "\n",
    "**Structure:**\n",
    "* ols(data = dataframe, formula = \"dependent ~ independent_one + C(independentCat_two)\").fit()"
   ]
  },
  {
   "cell_type": "code",
   "execution_count": 63,
   "id": "a06826d8",
   "metadata": {},
   "outputs": [],
   "source": [
    "model2 = ols(data = who, formula = \"life_exp ~ schooling + C(Status)\").fit()"
   ]
  },
  {
   "cell_type": "markdown",
   "id": "c87743b0",
   "metadata": {},
   "source": [
    "Now, let's check conditions. This is pretty much the same process we did before."
   ]
  },
  {
   "cell_type": "markdown",
   "id": "e4ac31d5",
   "metadata": {},
   "source": [
    "### Linearity"
   ]
  },
  {
   "cell_type": "code",
   "execution_count": 65,
   "id": "5099d770",
   "metadata": {},
   "outputs": [
    {
     "data": {
      "image/png": "[encoded data removed]",
      "text/plain": [
       "<Figure size 452.625x360 with 1 Axes>"
      ]
     },
     "metadata": {
      "needs_background": "light"
     },
     "output_type": "display_data"
    }
   ],
   "source": [
    "# Plot lmplot with schooling and life_exp. We will add the parameter hue to see how it changes by status.\n",
    "sns.lmplot(data = who, x = \"schooling\", y = \"life_exp\", hue = \"Status\", fit_reg = False)\n",
    "\n",
    "# Show plot\n",
    "plt.show()"
   ]
  },
  {
   "cell_type": "markdown",
   "id": "6cf8505e",
   "metadata": {},
   "source": [
    "Great! Both groups seem to follow a moderately weak, positive, linear association."
   ]
  },
  {
   "cell_type": "markdown",
   "id": "98a4aaa2",
   "metadata": {},
   "source": [
    "### Independence and Equal Variance"
   ]
  },
  {
   "cell_type": "code",
   "execution_count": 66,
   "id": "3b5032c7",
   "metadata": {},
   "outputs": [
    {
     "data": {
      "image/png": "[encoded data removed]",
      "text/plain": [
       "<Figure size 432x216 with 2 Axes>"
      ]
     },
     "metadata": {
      "needs_background": "light"
     },
     "output_type": "display_data"
    }
   ],
   "source": [
    "# Create two grids: one for developing and one for developed. \n",
    "g = sns.FacetGrid(data = who, col = \"Status\", hue = \"Status\")\n",
    "\n",
    "# Map the residual plots onto the grids.\n",
    "g.map(sns.residplot, \"schooling\", \"life_exp\")\n",
    "\n",
    "# Set labels.\n",
    "g.axes[0,0].set_xlabel(\"residuals\")\n",
    "g.axes[0,1].set_xlabel(\"residuals\")\n",
    "g.axes[0,0].set_ylabel(\"fitted\")\n",
    "\n",
    "# Show plot\n",
    "plt.show()"
   ]
  },
  {
   "cell_type": "markdown",
   "id": "12ee61e9",
   "metadata": {},
   "source": [
    "Awesome! Both graphs seem to be randomly scattered around the 0 axis."
   ]
  },
  {
   "cell_type": "markdown",
   "id": "75708966",
   "metadata": {},
   "source": [
    "### Normal Population\n",
    "**Structure:**\n",
    "* qqplot(data = modelName.resid, line = \"s\");\n",
    "\n",
    "**Arguments:**\n",
    "* data = modelName.resid \n",
    "* line = \"s\" ; standardized line"
   ]
  },
  {
   "cell_type": "code",
   "execution_count": 67,
   "id": "b1372366",
   "metadata": {},
   "outputs": [
    {
     "data": {
      "image/png": "[encoded data removed]",
      "text/plain": [
       "<Figure size 432x288 with 1 Axes>"
      ]
     },
     "metadata": {
      "needs_background": "light"
     },
     "output_type": "display_data"
    }
   ],
   "source": [
    "# Graph qqplot by using model2.resid\n",
    "qqplot(data = model2.resid, line = \"s\");\n",
    "\n",
    "# Show graph\n",
    "plt.show()"
   ]
  },
  {
   "cell_type": "markdown",
   "id": "a35b703b",
   "metadata": {},
   "source": [
    "As also seen in the simple linear regression example, the end and beginning of the line seem to fall out of the red line, so we will proceed with caution. Now, let's look at the summary"
   ]
  },
  {
   "cell_type": "code",
   "execution_count": 68,
   "id": "4f0c3afc",
   "metadata": {},
   "outputs": [
    {
     "name": "stdout",
     "output_type": "stream",
     "text": [
      "                            OLS Regression Results                            \n",
      "==============================================================================\n",
      "Dep. Variable:               life_exp   R-squared:                       0.576\n",
      "Model:                            OLS   Adj. R-squared:                  0.576\n",
      "Method:                 Least Squares   F-statistic:                     1877.\n",
      "Date:                Fri, 05 Aug 2022   Prob (F-statistic):               0.00\n",
      "Time:                        15:07:30   Log-Likelihood:                -8930.6\n",
      "No. Observations:                2768   AIC:                         1.787e+04\n",
      "Df Residuals:                    2765   BIC:                         1.788e+04\n",
      "Df Model:                           2                                         \n",
      "Covariance Type:            nonrobust                                         \n",
      "===========================================================================================\n",
      "                              coef    std err          t      P>|t|      [0.025      0.975]\n",
      "-------------------------------------------------------------------------------------------\n",
      "Intercept                  48.6640      0.700     69.471      0.000      47.290      50.038\n",
      "C(Status)[T.Developing]    -2.9901      0.362     -8.255      0.000      -3.700      -2.280\n",
      "schooling                   1.9313      0.040     47.760      0.000       1.852       2.011\n",
      "==============================================================================\n",
      "Omnibus:                      287.506   Durbin-Watson:                   0.263\n",
      "Prob(Omnibus):                  0.000   Jarque-Bera (JB):              915.507\n",
      "Skew:                          -0.523   Prob(JB):                    1.59e-199\n",
      "Kurtosis:                       5.616   Cond. No.                         82.3\n",
      "==============================================================================\n",
      "\n",
      "Notes:\n",
      "[1] Standard Errors assume that the covariance matrix of the errors is correctly specified.\n"
     ]
    }
   ],
   "source": [
    "# Show model2 summary\n",
    "print(model2.summary())"
   ]
  },
  {
   "cell_type": "markdown",
   "id": "585755c0",
   "metadata": {},
   "source": [
    "Since the p-value < 0.05 we can reject the null hypothesis. Compared to developed countries, countries in development have a lower life expectancy average. In conclusion, there's an association between schooling and life expectency when considering both developed and in development countries."
   ]
  },
  {
   "cell_type": "markdown",
   "id": "ed13211a",
   "metadata": {},
   "source": [
    "Let's predict the life expectancy for a new country. Let's say that this country has an average of 12 years of schooling and it's a developed country."
   ]
  },
  {
   "cell_type": "code",
   "execution_count": 69,
   "id": "7b439fef",
   "metadata": {},
   "outputs": [
    {
     "name": "stdout",
     "output_type": "stream",
     "text": [
      "The life expenctancy is:  71.82  years.\n"
     ]
    }
   ],
   "source": [
    "# Get values from the table\n",
    "intercept = 48.66\n",
    "st_coef = -3\n",
    "sc_coef = 1.93\n",
    "exp = intercept + sc_coef * 12 - 3 * 0\n",
    "\n",
    "# Print results\n",
    "print(\"The life expenctancy is: \" , exp, \" years.\")"
   ]
  },
  {
   "cell_type": "markdown",
   "id": "8697d3f4",
   "metadata": {},
   "source": [
    "We could also create a function to make this process easier and faster!"
   ]
  },
  {
   "cell_type": "code",
   "execution_count": 71,
   "id": "125a8e15",
   "metadata": {},
   "outputs": [
    {
     "name": "stdout",
     "output_type": "stream",
     "text": [
      "The life expectancy is:  71.82  years.\n"
     ]
    }
   ],
   "source": [
    "# Define function and specify our arguments (the values that change)\n",
    "def life_expectancy(schooling , status):\n",
    "    exp = 48.66 + 1.93 * schooling - 3 * status\n",
    "    print(\"The life expectancy is: \" , exp, \" years.\")\n",
    "\n",
    "# Call function\n",
    "life_expectancy(12, 0)"
   ]
  },
  {
   "cell_type": "markdown",
   "id": "07543ef5",
   "metadata": {},
   "source": [
    "If we recall our scatterplot, we can see that the obtained value makes sense! "
   ]
  },
  {
   "cell_type": "code",
   "execution_count": 120,
   "id": "b3862901",
   "metadata": {
    "scrolled": true
   },
   "outputs": [
    {
     "data": {
      "image/png": "[encoded data removed]",
      "text/plain": [
       "<Figure size 452.625x360 with 1 Axes>"
      ]
     },
     "metadata": {
      "needs_background": "light"
     },
     "output_type": "display_data"
    }
   ],
   "source": [
    "sns.lmplot(data = who, x = \"schooling\", y = \"life_exp\", hue = \"Status\")\n",
    "plt.show()"
   ]
  },
  {
   "cell_type": "markdown",
   "id": "d9fe3b3c",
   "metadata": {},
   "source": [
    "## Tips\n",
    "* Fit the linear regression model first! You will need it to create some of the graphs.\n",
    "* Assign models and variables to clear and concise names.\n",
    "* Keep your code organized. \n",
    "* Don't forget to import functions and libraries!"
   ]
  },
  {
   "cell_type": "markdown",
   "id": "a832bc12",
   "metadata": {},
   "source": [
    "## References\n",
    "* https://www.sfu.ca/~mjbrydon/tutorials/BAinPy/09_regression.html\n",
    "* https://research.library.gsu.edu/c.php?g=844869&p=7657842\n",
    "* https://sphweb.bumc.bu.edu/otlt/mph-modules/bs/bs704-ep713_multivariablemethods/bs704-ep713_multivariablemethods2.html\n",
    "+ https://brendanhcullen.github.io/psy611/labs/lab-9.html#data\n",
    "+ https://www.reneshbedre.com/blog/anova.html\n",
    "+ Python Data Analysis - Third Edition. (2019) 2022. Jupyter Notebook. Packt. https://github.com/PacktPublishing/Python-Data-Analysis-Third-Edition/blob/e1cd8029a1830fe5ecc86379ab361d215e71f036/Chapter05/HR_comma_sep.csv.\n",
    "+ Agresti, Alan, and Maria Kateri. 2021. Foundations of Statistics for Data Scientists: With R and Python. CRC Press.\n",
    "+ De Veaux, Richard D., Paul F. Velleman, and David E. Bock. 2022. Intro Stats. Sixth Edition. Pearson Education, Inc.\n",
    "+ “STAT 2: Modeling with Regression and ANOVA 2E | Student Resources.” n.d. Accessed July 22, 2022. https://www.macmillanlearning.com/studentresources/college/collegebridgepage/stat22e.html.\n",
    "+ Sunel, Khuzema. 2020. “Statistical Inference in Python Using Pandas, NumPy — Part I.” Medium. August 11, 2020. https://towardsdatascience.com/statistical-inference-in-pyhton-using-pandas-numpy-part-i-c2ac0320dffe.\n"
   ]
  }
 ],
 "metadata": {
  "kernelspec": {
   "display_name": "Python 3 (ipykernel)",
   "language": "python",
   "name": "python3"
  },
  "language_info": {
   "codemirror_mode": {
    "name": "ipython",
    "version": 3
   },
   "file_extension": ".py",
   "mimetype": "text/x-python",
   "name": "python",
   "nbconvert_exporter": "python",
   "pygments_lexer": "ipython3",
   "version": "3.9.12"
  }
 },
 "nbformat": 4,
 "nbformat_minor": 5
}
