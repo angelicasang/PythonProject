{
 "cells": [
  {
   "cell_type": "markdown",
   "id": "aa8a8849",
   "metadata": {},
   "source": [
    "Now that we know what our data looks like, let's restructure it so that we can analyze the ratios of only first years, second years, and third years."
   ]
  },
  {
   "cell_type": "code",
   "execution_count": 107,
   "id": "1c9db722",
   "metadata": {},
   "outputs": [],
   "source": [
    "# Save the data for first years\n",
    "first = bp[bp.Year == 1].filter([\"Ratio\"])\n",
    "\n",
    "# Now for second years\n",
    "second = bp[bp.Year == 2].filter(['Ratio'])\n",
    "\n",
    "# And now for third years\n",
    "third = bp[bp.Year == 3].filter(['Ratio'])"
   ]
  },
  {
   "cell_type": "code",
   "execution_count": 104,
   "id": "664a45fc",
   "metadata": {},
   "outputs": [
    {
     "name": "stdout",
     "output_type": "stream",
     "text": [
      "p-values: [0.47088435]\n",
      "ANOVA: [0.76355072]\n"
     ]
    }
   ],
   "source": [
    "# Add methods\n",
    "from scipy.stats import f_oneway\n",
    "\n",
    "# Assign the results of our test to two variables\n",
    "stat, p = f_oneway(first, second, third)\n",
    "\n",
    "# Print the results\n",
    "print(\"p-values:\", p)\n",
    "print(\"ANOVA:\", stat)"
   ]
  },
  {
   "cell_type": "code",
   "execution_count": null,
   "id": "f2f4a4d4",
   "metadata": {},
   "outputs": [],
   "source": [
    "# Let's use 0.05 or 5% as the significance level of alpha.\n",
    "if p < 0.05:\n",
    "    \n",
    "    print(\"Reject the null hypothesis\")\n",
    "    \n",
    "else:\n",
    "    print(\"Fail to reject the null hypothesis\")"
   ]
  },
  {
   "cell_type": "code",
   "execution_count": null,
   "id": "f7392090",
   "metadata": {},
   "outputs": [],
   "source": []
  }
 ],
 "metadata": {
  "kernelspec": {
   "display_name": "Python 3 (ipykernel)",
   "language": "python",
   "name": "python3"
  },
  "language_info": {
   "codemirror_mode": {
    "name": "ipython",
    "version": 3
   },
   "file_extension": ".py",
   "mimetype": "text/x-python",
   "name": "python",
   "nbconvert_exporter": "python",
   "pygments_lexer": "ipython3",
   "version": "3.9.12"
  }
 },
 "nbformat": 4,
 "nbformat_minor": 5
}
