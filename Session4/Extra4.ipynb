{
 "cells": [
  {
   "cell_type": "markdown",
   "id": "366e1cfb",
   "metadata": {},
   "source": [
    "# Extra Material for Lesson 4\n",
    "Congratulations on completing the fourth lesson in our series about Python for Introductory Statistics. We hope that you were able to learn a lot through our materials, and within this Jupyter notebook you will find even more information about how Python can help you perform statistical inference. Kudos to you for going the extra mile to take on new challenges in this coding language. As always, please refer back to the techniques for getting help that we introduced you to in Lessone One if you get stuck. Happy learning!"
   ]
  },
  {
   "cell_type": "code",
   "execution_count": 1,
   "id": "0567f47e",
   "metadata": {},
   "outputs": [],
   "source": [
    "# Add libraries and functions\n",
    "import pandas as pd\n",
    "from scipy.stats import f_oneway"
   ]
  },
  {
   "cell_type": "markdown",
   "id": "aa8a8849",
   "metadata": {},
   "source": [
    "## Another method for One-Way ANOVA\n",
    "Here is another way to find the statistic and p-value for a one-way ANOVA using the function f_oneway from the library scipy.stats. This method does not provide you with the ANOVA table, rather it extracts just these two important values. We will return the backpack data to show you this example. In our example, we will analyze the backpack weight to body weight ratios of students in their first through third years of their undergraduate studies.\n",
    "\n",
    "+ $H_0$ : There is no significant difference between the ratios of these year groups.\n",
    "+ $H_A$ : There is a significant difference between the ratios of these year groups.\n",
    "\n",
    "Let's begin by importing our data and taking a look."
   ]
  },
  {
   "cell_type": "code",
   "execution_count": 10,
   "id": "9d8c6b09",
   "metadata": {},
   "outputs": [
    {
     "data": {
      "text/html": [
       "<div>\n",
       "<style scoped>\n",
       "    .dataframe tbody tr th:only-of-type {\n",
       "        vertical-align: middle;\n",
       "    }\n",
       "\n",
       "    .dataframe tbody tr th {\n",
       "        vertical-align: top;\n",
       "    }\n",
       "\n",
       "    .dataframe thead th {\n",
       "        text-align: right;\n",
       "    }\n",
       "</style>\n",
       "<table border=\"1\" class=\"dataframe\">\n",
       "  <thead>\n",
       "    <tr style=\"text-align: right;\">\n",
       "      <th></th>\n",
       "      <th>BackpackWeight</th>\n",
       "      <th>BodyWeight</th>\n",
       "      <th>Ratio</th>\n",
       "      <th>BackProblems</th>\n",
       "      <th>Major</th>\n",
       "      <th>Year</th>\n",
       "      <th>Sex</th>\n",
       "      <th>Status</th>\n",
       "      <th>Units</th>\n",
       "    </tr>\n",
       "  </thead>\n",
       "  <tbody>\n",
       "    <tr>\n",
       "      <th>0</th>\n",
       "      <td>9</td>\n",
       "      <td>125</td>\n",
       "      <td>0.072000</td>\n",
       "      <td>1</td>\n",
       "      <td>Bio</td>\n",
       "      <td>3</td>\n",
       "      <td>Female</td>\n",
       "      <td>U</td>\n",
       "      <td>13</td>\n",
       "    </tr>\n",
       "    <tr>\n",
       "      <th>1</th>\n",
       "      <td>8</td>\n",
       "      <td>180</td>\n",
       "      <td>0.044444</td>\n",
       "      <td>0</td>\n",
       "      <td>EE</td>\n",
       "      <td>2</td>\n",
       "      <td>Female</td>\n",
       "      <td>U</td>\n",
       "      <td>14</td>\n",
       "    </tr>\n",
       "    <tr>\n",
       "      <th>2</th>\n",
       "      <td>8</td>\n",
       "      <td>170</td>\n",
       "      <td>0.047059</td>\n",
       "      <td>0</td>\n",
       "      <td>CM</td>\n",
       "      <td>3</td>\n",
       "      <td>Male</td>\n",
       "      <td>U</td>\n",
       "      <td>15</td>\n",
       "    </tr>\n",
       "    <tr>\n",
       "      <th>3</th>\n",
       "      <td>8</td>\n",
       "      <td>135</td>\n",
       "      <td>0.059259</td>\n",
       "      <td>0</td>\n",
       "      <td>Bus</td>\n",
       "      <td>3</td>\n",
       "      <td>Female</td>\n",
       "      <td>U</td>\n",
       "      <td>15</td>\n",
       "    </tr>\n",
       "    <tr>\n",
       "      <th>4</th>\n",
       "      <td>12</td>\n",
       "      <td>125</td>\n",
       "      <td>0.096000</td>\n",
       "      <td>1</td>\n",
       "      <td>CS</td>\n",
       "      <td>3</td>\n",
       "      <td>Female</td>\n",
       "      <td>U</td>\n",
       "      <td>12</td>\n",
       "    </tr>\n",
       "  </tbody>\n",
       "</table>\n",
       "</div>"
      ],
      "text/plain": [
       "   BackpackWeight  BodyWeight     Ratio  BackProblems Major  Year     Sex  \\\n",
       "0               9         125  0.072000             1   Bio     3  Female   \n",
       "1               8         180  0.044444             0    EE     2  Female   \n",
       "2               8         170  0.047059             0    CM     3    Male   \n",
       "3               8         135  0.059259             0   Bus     3  Female   \n",
       "4              12         125  0.096000             1    CS     3  Female   \n",
       "\n",
       "  Status  Units  \n",
       "0      U     13  \n",
       "1      U     14  \n",
       "2      U     15  \n",
       "3      U     15  \n",
       "4      U     12  "
      ]
     },
     "execution_count": 10,
     "metadata": {},
     "output_type": "execute_result"
    }
   ],
   "source": [
    "bp = pd.read_csv(\"backpack.csv\")\n",
    "bp.head()"
   ]
  },
  {
   "cell_type": "markdown",
   "id": "af851e56",
   "metadata": {},
   "source": [
    "Now that we know what our data looks like, let's restructure it so that we can analyze the ratios of only first years, second years, and third years. The reason for this next step is because the method requires that we specify each group that we are comparing. Do not worry if you do not understand the contents of the following code chunk, this is data wrangling which is a topic that is not covered in Introductory Statistics."
   ]
  },
  {
   "cell_type": "code",
   "execution_count": 11,
   "id": "1c9db722",
   "metadata": {},
   "outputs": [],
   "source": [
    "# Save the data for first years\n",
    "first = bp[bp.Year == 1].filter([\"Ratio\"])\n",
    "\n",
    "# Now for second years\n",
    "second = bp[bp.Year == 2].filter(['Ratio'])\n",
    "\n",
    "# And now for third years\n",
    "third = bp[bp.Year == 3].filter(['Ratio'])"
   ]
  },
  {
   "cell_type": "code",
   "execution_count": 12,
   "id": "664a45fc",
   "metadata": {},
   "outputs": [
    {
     "name": "stdout",
     "output_type": "stream",
     "text": [
      "p-values: [0.47088435]\n",
      "ANOVA: [0.76355072]\n"
     ]
    }
   ],
   "source": [
    "# Assign the results of our test to two variables\n",
    "stat, p = f_oneway(first, second, third)\n",
    "\n",
    "# Print the results\n",
    "print(\"p-values:\", p)\n",
    "print(\"ANOVA:\", stat)"
   ]
  },
  {
   "cell_type": "code",
   "execution_count": 13,
   "id": "f2f4a4d4",
   "metadata": {},
   "outputs": [
    {
     "name": "stdout",
     "output_type": "stream",
     "text": [
      "Fail to reject the null hypothesis\n"
     ]
    }
   ],
   "source": [
    "# Let's use 0.05 or 5% as the significance level of alpha.\n",
    "if p < 0.05:\n",
    "    \n",
    "    print(\"Reject the null hypothesis\")\n",
    "    \n",
    "else:\n",
    "    print(\"Fail to reject the null hypothesis\")"
   ]
  },
  {
   "cell_type": "markdown",
   "id": "a814e855",
   "metadata": {},
   "source": [
    "At a significance level of alpha = 0.05, we fail to reject the null hypothesis that there is no significant difference between the backpack to bodyweight ratios of students in different years of their undergraduate degrees. In other words, we have insufficient evidence to say that there is a significant difference between the ratios of these year groups."
   ]
  },
  {
   "cell_type": "markdown",
   "id": "8ee3154f",
   "metadata": {},
   "source": [
    "# Tips\n",
    "+ Make sure you feel comfortable with the content you learned in Lesson 4 before this extra material.\n",
    "+ Always remember to load the necessary libraries.\n",
    "+ Name your variables, dataframes, and labels helpful and informative titles.\n",
    "+ If you get stuck, use the help documentation that you learned in our previous lecture to help you troubleshoot!"
   ]
  },
  {
   "cell_type": "markdown",
   "id": "ac666967",
   "metadata": {},
   "source": [
    "# References\n",
    "\n",
    "* De Veaux, Richard D., Paul F. Velleman, and David E. Bock. 2022. Intro Stats. Sixth Edition. Pearson Education, Inc.\n",
    "\n",
    "* Python Data Analysis - Third Edition. (2019). Jupyter Notebook. Packt. https://github.com/PacktPublishing/Python-Data-Analysis-Third-Edition/blob/e1cd8029a1830fe5ecc86379ab361d215e71f036/Chapter05/HR_comma_sep.csv. Accessed July 7, 2022."
   ]
  }
 ],
 "metadata": {
  "kernelspec": {
   "display_name": "Python 3 (ipykernel)",
   "language": "python",
   "name": "python3"
  },
  "language_info": {
   "codemirror_mode": {
    "name": "ipython",
    "version": 3
   },
   "file_extension": ".py",
   "mimetype": "text/x-python",
   "name": "python",
   "nbconvert_exporter": "python",
   "pygments_lexer": "ipython3",
   "version": "3.9.12"
  }
 },
 "nbformat": 4,
 "nbformat_minor": 5
}
