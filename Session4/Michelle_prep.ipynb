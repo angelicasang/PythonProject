{
 "cells": [
  {
   "cell_type": "code",
   "execution_count": 84,
   "id": "71f38516",
   "metadata": {},
   "outputs": [],
   "source": [
    "# Import libraries and functions\n",
    "import pandas as pd\n",
    "from statsmodels.stats.proportion import proportions_ztest, proportion_confint\n",
    "from scipy.stats import t, probplot\n",
    "from statsmodels.api import qqplot\n",
    "from statsmodels.formula.api import ols\n",
    "\n",
    "\n",
    "# Read csv file\n",
    "coasters = pd.read_csv(\"Coasters_2015.csv\")"
   ]
  },
  {
   "cell_type": "code",
   "execution_count": 62,
   "id": "c668efd2",
   "metadata": {},
   "outputs": [
    {
     "data": {
      "text/html": [
       "<div>\n",
       "<style scoped>\n",
       "    .dataframe tbody tr th:only-of-type {\n",
       "        vertical-align: middle;\n",
       "    }\n",
       "\n",
       "    .dataframe tbody tr th {\n",
       "        vertical-align: top;\n",
       "    }\n",
       "\n",
       "    .dataframe thead th {\n",
       "        text-align: right;\n",
       "    }\n",
       "</style>\n",
       "<table border=\"1\" class=\"dataframe\">\n",
       "  <thead>\n",
       "    <tr style=\"text-align: right;\">\n",
       "      <th></th>\n",
       "      <th>Name</th>\n",
       "      <th>Park</th>\n",
       "      <th>Track</th>\n",
       "      <th>Speed</th>\n",
       "      <th>Height</th>\n",
       "      <th>Drop</th>\n",
       "      <th>Length</th>\n",
       "      <th>Duration</th>\n",
       "      <th>Inversions</th>\n",
       "    </tr>\n",
       "  </thead>\n",
       "  <tbody>\n",
       "    <tr>\n",
       "      <th>0</th>\n",
       "      <td>Top Thrill Dragster</td>\n",
       "      <td>Cedar Point</td>\n",
       "      <td>Steel</td>\n",
       "      <td>120.0</td>\n",
       "      <td>420.0</td>\n",
       "      <td>400.0</td>\n",
       "      <td>2800.0</td>\n",
       "      <td>NaN</td>\n",
       "      <td>0</td>\n",
       "    </tr>\n",
       "    <tr>\n",
       "      <th>1</th>\n",
       "      <td>Superman The Escap</td>\n",
       "      <td>Six Flags Magic Mountain</td>\n",
       "      <td>Steel</td>\n",
       "      <td>100.0</td>\n",
       "      <td>415.0</td>\n",
       "      <td>328.1</td>\n",
       "      <td>1235.0</td>\n",
       "      <td>NaN</td>\n",
       "      <td>0</td>\n",
       "    </tr>\n",
       "    <tr>\n",
       "      <th>2</th>\n",
       "      <td>Millennium Force</td>\n",
       "      <td>Cedar Point</td>\n",
       "      <td>Steel</td>\n",
       "      <td>93.0</td>\n",
       "      <td>310.0</td>\n",
       "      <td>300.0</td>\n",
       "      <td>6595.0</td>\n",
       "      <td>165.0</td>\n",
       "      <td>0</td>\n",
       "    </tr>\n",
       "    <tr>\n",
       "      <th>3</th>\n",
       "      <td>Goliath</td>\n",
       "      <td>Six Flags Magic Mountain</td>\n",
       "      <td>Steel</td>\n",
       "      <td>85.0</td>\n",
       "      <td>235.0</td>\n",
       "      <td>255.0</td>\n",
       "      <td>4500.0</td>\n",
       "      <td>180.0</td>\n",
       "      <td>0</td>\n",
       "    </tr>\n",
       "    <tr>\n",
       "      <th>4</th>\n",
       "      <td>Titan</td>\n",
       "      <td>Six Flags Over Texas</td>\n",
       "      <td>Steel</td>\n",
       "      <td>85.0</td>\n",
       "      <td>245.0</td>\n",
       "      <td>255.0</td>\n",
       "      <td>5312.0</td>\n",
       "      <td>210.0</td>\n",
       "      <td>0</td>\n",
       "    </tr>\n",
       "  </tbody>\n",
       "</table>\n",
       "</div>"
      ],
      "text/plain": [
       "                  Name                      Park  Track  Speed  Height   Drop  \\\n",
       "0  Top Thrill Dragster               Cedar Point  Steel  120.0   420.0  400.0   \n",
       "1   Superman The Escap  Six Flags Magic Mountain  Steel  100.0   415.0  328.1   \n",
       "2     Millennium Force               Cedar Point  Steel   93.0   310.0  300.0   \n",
       "3              Goliath  Six Flags Magic Mountain  Steel   85.0   235.0  255.0   \n",
       "4                Titan      Six Flags Over Texas  Steel   85.0   245.0  255.0   \n",
       "\n",
       "   Length  Duration  Inversions  \n",
       "0  2800.0       NaN           0  \n",
       "1  1235.0       NaN           0  \n",
       "2  6595.0     165.0           0  \n",
       "3  4500.0     180.0           0  \n",
       "4  5312.0     210.0           0  "
      ]
     },
     "execution_count": 62,
     "metadata": {},
     "output_type": "execute_result"
    }
   ],
   "source": [
    "# Take a look at the data\n",
    "coasters.head()"
   ]
  },
  {
   "cell_type": "code",
   "execution_count": 63,
   "id": "473c99cf",
   "metadata": {},
   "outputs": [
    {
     "data": {
      "text/html": [
       "<div>\n",
       "<style scoped>\n",
       "    .dataframe tbody tr th:only-of-type {\n",
       "        vertical-align: middle;\n",
       "    }\n",
       "\n",
       "    .dataframe tbody tr th {\n",
       "        vertical-align: top;\n",
       "    }\n",
       "\n",
       "    .dataframe thead th {\n",
       "        text-align: right;\n",
       "    }\n",
       "</style>\n",
       "<table border=\"1\" class=\"dataframe\">\n",
       "  <thead>\n",
       "    <tr style=\"text-align: right;\">\n",
       "      <th></th>\n",
       "      <th>Speed</th>\n",
       "      <th>Height</th>\n",
       "      <th>Drop</th>\n",
       "      <th>Length</th>\n",
       "      <th>Duration</th>\n",
       "      <th>Inversions</th>\n",
       "    </tr>\n",
       "  </thead>\n",
       "  <tbody>\n",
       "    <tr>\n",
       "      <th>count</th>\n",
       "      <td>241.000000</td>\n",
       "      <td>241.000000</td>\n",
       "      <td>118.000000</td>\n",
       "      <td>241.000000</td>\n",
       "      <td>157.000000</td>\n",
       "      <td>241.000000</td>\n",
       "    </tr>\n",
       "    <tr>\n",
       "      <th>mean</th>\n",
       "      <td>55.350622</td>\n",
       "      <td>125.096598</td>\n",
       "      <td>148.613475</td>\n",
       "      <td>2570.072365</td>\n",
       "      <td>123.019108</td>\n",
       "      <td>0.556017</td>\n",
       "    </tr>\n",
       "    <tr>\n",
       "      <th>std</th>\n",
       "      <td>18.664831</td>\n",
       "      <td>70.264668</td>\n",
       "      <td>69.136487</td>\n",
       "      <td>1614.980056</td>\n",
       "      <td>45.087447</td>\n",
       "      <td>0.497886</td>\n",
       "    </tr>\n",
       "    <tr>\n",
       "      <th>min</th>\n",
       "      <td>4.500000</td>\n",
       "      <td>8.000000</td>\n",
       "      <td>47.000000</td>\n",
       "      <td>197.500000</td>\n",
       "      <td>28.000000</td>\n",
       "      <td>0.000000</td>\n",
       "    </tr>\n",
       "    <tr>\n",
       "      <th>25%</th>\n",
       "      <td>45.000000</td>\n",
       "      <td>75.000000</td>\n",
       "      <td>95.000000</td>\n",
       "      <td>1213.900000</td>\n",
       "      <td>90.000000</td>\n",
       "      <td>0.000000</td>\n",
       "    </tr>\n",
       "    <tr>\n",
       "      <th>50%</th>\n",
       "      <td>55.000000</td>\n",
       "      <td>115.000000</td>\n",
       "      <td>141.000000</td>\n",
       "      <td>2423.000000</td>\n",
       "      <td>120.000000</td>\n",
       "      <td>1.000000</td>\n",
       "    </tr>\n",
       "    <tr>\n",
       "      <th>75%</th>\n",
       "      <td>65.300000</td>\n",
       "      <td>155.000000</td>\n",
       "      <td>193.525000</td>\n",
       "      <td>3582.700000</td>\n",
       "      <td>150.000000</td>\n",
       "      <td>1.000000</td>\n",
       "    </tr>\n",
       "    <tr>\n",
       "      <th>max</th>\n",
       "      <td>149.100000</td>\n",
       "      <td>420.000000</td>\n",
       "      <td>400.000000</td>\n",
       "      <td>8133.100000</td>\n",
       "      <td>240.000000</td>\n",
       "      <td>1.000000</td>\n",
       "    </tr>\n",
       "  </tbody>\n",
       "</table>\n",
       "</div>"
      ],
      "text/plain": [
       "            Speed      Height        Drop       Length    Duration  Inversions\n",
       "count  241.000000  241.000000  118.000000   241.000000  157.000000  241.000000\n",
       "mean    55.350622  125.096598  148.613475  2570.072365  123.019108    0.556017\n",
       "std     18.664831   70.264668   69.136487  1614.980056   45.087447    0.497886\n",
       "min      4.500000    8.000000   47.000000   197.500000   28.000000    0.000000\n",
       "25%     45.000000   75.000000   95.000000  1213.900000   90.000000    0.000000\n",
       "50%     55.000000  115.000000  141.000000  2423.000000  120.000000    1.000000\n",
       "75%     65.300000  155.000000  193.525000  3582.700000  150.000000    1.000000\n",
       "max    149.100000  420.000000  400.000000  8133.100000  240.000000    1.000000"
      ]
     },
     "execution_count": 63,
     "metadata": {},
     "output_type": "execute_result"
    }
   ],
   "source": [
    "coasters.describe()"
   ]
  },
  {
   "cell_type": "markdown",
   "id": "f4ad417f",
   "metadata": {},
   "source": [
    "### One-sample proportion z-test"
   ]
  },
  {
   "cell_type": "code",
   "execution_count": 89,
   "id": "6e501ca9",
   "metadata": {},
   "outputs": [
    {
     "name": "stdout",
     "output_type": "stream",
     "text": [
      "Steel    212\n",
      "Wood      29\n",
      "Name: Track, dtype: int64\n"
     ]
    }
   ],
   "source": [
    "# Count how many rollercoasters have a steel track v/s how many have a wood track\n",
    "print(coasters[\"Track\"].value_counts())"
   ]
  },
  {
   "cell_type": "code",
   "execution_count": 88,
   "id": "102b91f4",
   "metadata": {},
   "outputs": [
    {
     "name": "stdout",
     "output_type": "stream",
     "text": [
      "The proportion of steel coasters in 2015 is equal to:  0.8796680497925311\n"
     ]
    }
   ],
   "source": [
    "# Calculate the roportion of steel rollercoasters\n",
    "steel_p = 212 / (212+29)\n",
    "\n",
    "# Print the proportion\n",
    "print(\"The proportion of steel coasters in 2015 is equal to: \", steel_p)             "
   ]
  },
  {
   "cell_type": "markdown",
   "id": "c3a98924",
   "metadata": {},
   "source": [
    "**Check conditions:**\n",
    "* n < 10% of total population. We can assume that 241 rollercoasters is less than 10% of all rollercoasters in the world.\n",
    "* random: we can assume that we were given a random sample of rollercoasters.\n",
    "* successes vs failures : 241 * 0.88 = 212, 241 * 0.12 = 29. Both values are greater than 10."
   ]
  },
  {
   "cell_type": "markdown",
   "id": "b4da303d",
   "metadata": {},
   "source": [
    "However, a rollercoasters' expert suggests that during 2022 the proportion of steel rollercoasters has changed. Her study shows that 320 out of 355 coasters have a steel track."
   ]
  },
  {
   "cell_type": "markdown",
   "id": "3917590c",
   "metadata": {},
   "source": [
    "* h0 : p̂ = steel_p -> the proportion of steel coasters in 2022 is 0.88\n",
    "* ha : p̂ ≠ steel_p -> the proportion of steel coasters in 2022 is different from 0.88"
   ]
  },
  {
   "cell_type": "markdown",
   "id": "46f32799",
   "metadata": {},
   "source": [
    "To test our null hypothesis, we will make use of proportions_ztest which we imported at the beginning of the notebook."
   ]
  },
  {
   "cell_type": "markdown",
   "id": "ffb16cb8",
   "metadata": {},
   "source": [
    "**Arguments**\n",
    "* count = # ; number of successes if Null Hypothesis is True. (total observed * hypothesized proportion)\n",
    "* nobs = # ; size of observed sample\n",
    "* value = # ; observed proportion\n",
    "* alternative = \"nameOfAlternative\" ; Type of test(two-sided or one-sided)"
   ]
  },
  {
   "cell_type": "code",
   "execution_count": 11,
   "id": "64475593",
   "metadata": {},
   "outputs": [
    {
     "name": "stdout",
     "output_type": "stream",
     "text": [
      "The z test values is:  -1.220011473889561 . The p-value is:  0.22246052533158622\n"
     ]
    }
   ],
   "source": [
    "# Store z_test and p_value\n",
    "z_test , p_value = proportions_ztest(count = 312 , nobs = 355, value = 0.9, alternative = \"two-sided\")\n",
    "\n",
    "# Print results\n",
    "print(\"The z test values is: \", z_test, \". The p-value is: \", p_value)"
   ]
  },
  {
   "cell_type": "markdown",
   "id": "a2eb6a5a",
   "metadata": {},
   "source": [
    "Since the p-value is greater than 0.05 we fail to reject the null hypothesis. We do not have enough evidence to say that the proportion of steel rollercoasters in 2022 has changed sinced 2015."
   ]
  },
  {
   "cell_type": "markdown",
   "id": "31b2c4bb",
   "metadata": {},
   "source": [
    "### Confidence Interval for proportions"
   ]
  },
  {
   "cell_type": "markdown",
   "id": "c4a2b74a",
   "metadata": {},
   "source": [
    "Now let's calculate our confidence interval for steel track proportion using our 2015 data. In order to do so, we will use proportion_confint which we imported at the beginning of the notebook.\n",
    "\n",
    "**Arguments:**\n",
    "* count = # ; number of successes\n",
    "* nobs = # ; size of observed sample\n",
    "* alpha = # ; the desired significance level"
   ]
  },
  {
   "cell_type": "markdown",
   "id": "6d70cf70",
   "metadata": {},
   "source": [
    "**Check conditions:**\n",
    "* n < 10% of total population. We can assume that 241 rollercoasters is less than 10% of all rollercoasters in the world.\n",
    "* random: we can assume that we were given a random sample of rollercoasters.\n",
    "* successes vs failures : 241 * 0.88 = 212, 241 * 0.12 = 29. Both values are greater than 10."
   ]
  },
  {
   "cell_type": "code",
   "execution_count": null,
   "id": "b5132f1f",
   "metadata": {},
   "outputs": [],
   "source": [
    "# Caclulate confidence interval and store in conf_prop\n",
    "conf_prop = proportion_confint(count = 212, nobs = 241, alpha = 0.05)\n",
    "print(conf_prop)"
   ]
  },
  {
   "cell_type": "markdown",
   "id": "70913665",
   "metadata": {},
   "source": [
    "We are 95% confident that between 83% and 92% of the roller coasters in the world have a steel track."
   ]
  },
  {
   "cell_type": "markdown",
   "id": "d4573110",
   "metadata": {},
   "source": [
    "### Confidence Interval for means"
   ]
  },
  {
   "cell_type": "markdown",
   "id": "3c1a0dac",
   "metadata": {},
   "source": [
    "Now let's calculate our confidence interval for averaged speed using our 2015 data. In order to do so, we will use t.interval which we imported at the beginning of the notebook.\n",
    "\n",
    "**Check conditions:**\n",
    "* n >= 30 , 241 > 30\n",
    "* independence: we can assume it is a random sample, and that the average speed of one rollecoaster does not affect the rest.\n",
    "\n",
    "**Arguments:**\n",
    "* loc = # ; mean value from our sample\n",
    "* scale = # ; standard deviation from our sample\n",
    "* df = # ; degrees of freedom (n-1)\n",
    "* alpha = desired significance value"
   ]
  },
  {
   "cell_type": "code",
   "execution_count": 91,
   "id": "de1ae867",
   "metadata": {
    "scrolled": true
   },
   "outputs": [
    {
     "name": "stdout",
     "output_type": "stream",
     "text": [
      "The t-interval is:  (54.17898635866439, 56.52225845461366)\n"
     ]
    }
   ],
   "source": [
    "# Calculate standard deviation for speed\n",
    "sd_speed = coasters[\"Speed\"].std()\n",
    "\n",
    "# Calculate mean for speed\n",
    "mean_speed = coasters['Speed'].mean()\n",
    "\n",
    "# Assign the t-interval values into t_speed\n",
    "t_speed = t.interval(loc = mean_speed, scale = sd_speed,df = 240, alpha = 0.05)\n",
    "\n",
    "# Print our results\n",
    "print(\"The t-interval is: \", t_speed)"
   ]
  },
  {
   "cell_type": "markdown",
   "id": "bebe2a26",
   "metadata": {},
   "source": [
    "We are 95% confident that the average speed of rollercoasters in the world will be between 54 and 56 mph."
   ]
  },
  {
   "cell_type": "markdown",
   "id": "d84fe578",
   "metadata": {},
   "source": [
    "## Inference for Linear Regression using statsmodels.api\n",
    "Let's learn how to perform inference with linear regression! We will use a dataset from the world health organization."
   ]
  },
  {
   "cell_type": "code",
   "execution_count": 18,
   "id": "8caa528c",
   "metadata": {},
   "outputs": [],
   "source": [
    "# Read data set\n",
    "who = pd.read_csv(\"world_health.csv\")"
   ]
  },
  {
   "cell_type": "code",
   "execution_count": 19,
   "id": "2774e782",
   "metadata": {},
   "outputs": [
    {
     "data": {
      "text/html": [
       "<div>\n",
       "<style scoped>\n",
       "    .dataframe tbody tr th:only-of-type {\n",
       "        vertical-align: middle;\n",
       "    }\n",
       "\n",
       "    .dataframe tbody tr th {\n",
       "        vertical-align: top;\n",
       "    }\n",
       "\n",
       "    .dataframe thead th {\n",
       "        text-align: right;\n",
       "    }\n",
       "</style>\n",
       "<table border=\"1\" class=\"dataframe\">\n",
       "  <thead>\n",
       "    <tr style=\"text-align: right;\">\n",
       "      <th></th>\n",
       "      <th>Country</th>\n",
       "      <th>Year</th>\n",
       "      <th>Status</th>\n",
       "      <th>life_exp</th>\n",
       "      <th>adult_mort</th>\n",
       "      <th>inf_deaths</th>\n",
       "      <th>alcohol</th>\n",
       "      <th>percentage_expenditure</th>\n",
       "      <th>hepatitisb</th>\n",
       "      <th>measles</th>\n",
       "      <th>...</th>\n",
       "      <th>polio</th>\n",
       "      <th>total_expenditure</th>\n",
       "      <th>diphteria</th>\n",
       "      <th>hiv_aids</th>\n",
       "      <th>gdp</th>\n",
       "      <th>population</th>\n",
       "      <th>thinness_1_19_years</th>\n",
       "      <th>thinness_5_9_years</th>\n",
       "      <th>income_comp_of_resources</th>\n",
       "      <th>schooling</th>\n",
       "    </tr>\n",
       "  </thead>\n",
       "  <tbody>\n",
       "    <tr>\n",
       "      <th>0</th>\n",
       "      <td>Afghanistan</td>\n",
       "      <td>2015</td>\n",
       "      <td>Developing</td>\n",
       "      <td>65.0</td>\n",
       "      <td>263.0</td>\n",
       "      <td>62</td>\n",
       "      <td>0.01</td>\n",
       "      <td>71.279624</td>\n",
       "      <td>65.0</td>\n",
       "      <td>1154</td>\n",
       "      <td>...</td>\n",
       "      <td>6.0</td>\n",
       "      <td>8.16</td>\n",
       "      <td>65.0</td>\n",
       "      <td>0.1</td>\n",
       "      <td>584.259210</td>\n",
       "      <td>33736494.0</td>\n",
       "      <td>17.2</td>\n",
       "      <td>17.3</td>\n",
       "      <td>0.479</td>\n",
       "      <td>10.1</td>\n",
       "    </tr>\n",
       "    <tr>\n",
       "      <th>1</th>\n",
       "      <td>Afghanistan</td>\n",
       "      <td>2014</td>\n",
       "      <td>Developing</td>\n",
       "      <td>59.9</td>\n",
       "      <td>271.0</td>\n",
       "      <td>64</td>\n",
       "      <td>0.01</td>\n",
       "      <td>73.523582</td>\n",
       "      <td>62.0</td>\n",
       "      <td>492</td>\n",
       "      <td>...</td>\n",
       "      <td>58.0</td>\n",
       "      <td>8.18</td>\n",
       "      <td>62.0</td>\n",
       "      <td>0.1</td>\n",
       "      <td>612.696514</td>\n",
       "      <td>327582.0</td>\n",
       "      <td>17.5</td>\n",
       "      <td>17.5</td>\n",
       "      <td>0.476</td>\n",
       "      <td>10.0</td>\n",
       "    </tr>\n",
       "    <tr>\n",
       "      <th>2</th>\n",
       "      <td>Afghanistan</td>\n",
       "      <td>2013</td>\n",
       "      <td>Developing</td>\n",
       "      <td>59.9</td>\n",
       "      <td>268.0</td>\n",
       "      <td>66</td>\n",
       "      <td>0.01</td>\n",
       "      <td>73.219243</td>\n",
       "      <td>64.0</td>\n",
       "      <td>430</td>\n",
       "      <td>...</td>\n",
       "      <td>62.0</td>\n",
       "      <td>8.13</td>\n",
       "      <td>64.0</td>\n",
       "      <td>0.1</td>\n",
       "      <td>631.744976</td>\n",
       "      <td>31731688.0</td>\n",
       "      <td>17.7</td>\n",
       "      <td>17.7</td>\n",
       "      <td>0.470</td>\n",
       "      <td>9.9</td>\n",
       "    </tr>\n",
       "    <tr>\n",
       "      <th>3</th>\n",
       "      <td>Afghanistan</td>\n",
       "      <td>2012</td>\n",
       "      <td>Developing</td>\n",
       "      <td>59.5</td>\n",
       "      <td>272.0</td>\n",
       "      <td>69</td>\n",
       "      <td>0.01</td>\n",
       "      <td>78.184215</td>\n",
       "      <td>67.0</td>\n",
       "      <td>2787</td>\n",
       "      <td>...</td>\n",
       "      <td>67.0</td>\n",
       "      <td>8.52</td>\n",
       "      <td>67.0</td>\n",
       "      <td>0.1</td>\n",
       "      <td>669.959000</td>\n",
       "      <td>3696958.0</td>\n",
       "      <td>17.9</td>\n",
       "      <td>18.0</td>\n",
       "      <td>0.463</td>\n",
       "      <td>9.8</td>\n",
       "    </tr>\n",
       "    <tr>\n",
       "      <th>4</th>\n",
       "      <td>Afghanistan</td>\n",
       "      <td>2011</td>\n",
       "      <td>Developing</td>\n",
       "      <td>59.2</td>\n",
       "      <td>275.0</td>\n",
       "      <td>71</td>\n",
       "      <td>0.01</td>\n",
       "      <td>7.097109</td>\n",
       "      <td>68.0</td>\n",
       "      <td>3013</td>\n",
       "      <td>...</td>\n",
       "      <td>68.0</td>\n",
       "      <td>7.87</td>\n",
       "      <td>68.0</td>\n",
       "      <td>0.1</td>\n",
       "      <td>63.537231</td>\n",
       "      <td>2978599.0</td>\n",
       "      <td>18.2</td>\n",
       "      <td>18.2</td>\n",
       "      <td>0.454</td>\n",
       "      <td>9.5</td>\n",
       "    </tr>\n",
       "  </tbody>\n",
       "</table>\n",
       "<p>5 rows × 22 columns</p>\n",
       "</div>"
      ],
      "text/plain": [
       "       Country  Year      Status  life_exp  adult_mort  inf_deaths  alcohol  \\\n",
       "0  Afghanistan  2015  Developing      65.0       263.0          62     0.01   \n",
       "1  Afghanistan  2014  Developing      59.9       271.0          64     0.01   \n",
       "2  Afghanistan  2013  Developing      59.9       268.0          66     0.01   \n",
       "3  Afghanistan  2012  Developing      59.5       272.0          69     0.01   \n",
       "4  Afghanistan  2011  Developing      59.2       275.0          71     0.01   \n",
       "\n",
       "   percentage_expenditure  hepatitisb  measles  ...  polio  total_expenditure  \\\n",
       "0               71.279624        65.0     1154  ...    6.0               8.16   \n",
       "1               73.523582        62.0      492  ...   58.0               8.18   \n",
       "2               73.219243        64.0      430  ...   62.0               8.13   \n",
       "3               78.184215        67.0     2787  ...   67.0               8.52   \n",
       "4                7.097109        68.0     3013  ...   68.0               7.87   \n",
       "\n",
       "   diphteria  hiv_aids         gdp  population  thinness_1_19_years  \\\n",
       "0       65.0       0.1  584.259210  33736494.0                 17.2   \n",
       "1       62.0       0.1  612.696514    327582.0                 17.5   \n",
       "2       64.0       0.1  631.744976  31731688.0                 17.7   \n",
       "3       67.0       0.1  669.959000   3696958.0                 17.9   \n",
       "4       68.0       0.1   63.537231   2978599.0                 18.2   \n",
       "\n",
       "   thinness_5_9_years  income_comp_of_resources  schooling  \n",
       "0                17.3                     0.479       10.1  \n",
       "1                17.5                     0.476       10.0  \n",
       "2                17.7                     0.470        9.9  \n",
       "3                18.0                     0.463        9.8  \n",
       "4                18.2                     0.454        9.5  \n",
       "\n",
       "[5 rows x 22 columns]"
      ]
     },
     "execution_count": 19,
     "metadata": {},
     "output_type": "execute_result"
    }
   ],
   "source": [
    "# Take a look at the data set\n",
    "who.head()"
   ]
  },
  {
   "cell_type": "markdown",
   "id": "ed6cf6c5",
   "metadata": {},
   "source": [
    "Is there an association between schooling and life expectancy after adjusting for relevant confounders?\n",
    "* h0 : there's no association between schooling and life expectancy\n",
    "* ha : there's an association between schooling and life expectancy"
   ]
  },
  {
   "cell_type": "markdown",
   "id": "8321b52c",
   "metadata": {},
   "source": [
    "To plot some of the graphs for checking conditions and asummptions, we must fit our data into our linear model. We will use ols which we imported at the beginning of the notebook.\n",
    "\n",
    "**Arguments:**\n",
    "* data = dataframe\n",
    "* formula = \"dependent ~ independent\" \n",
    "\n",
    "After writing our arguments, we will type .fit()\n",
    "\n",
    "* smf.ols(data = dataframe, formula = \"dependent ~ independent\").fit()"
   ]
  },
  {
   "cell_type": "code",
   "execution_count": 23,
   "id": "afaf9af3",
   "metadata": {},
   "outputs": [],
   "source": [
    "# Import libraries\n",
    "import seaborn as sns\n",
    "import matplotlib.pyplot as plt\n",
    "\n",
    "# Fit model\n",
    "model1 = ols(data =  who, formula = \"life_exp ~ schooling\").fit()"
   ]
  },
  {
   "cell_type": "markdown",
   "id": "cd577046",
   "metadata": {},
   "source": [
    "### Linearity\n",
    "There are different ways of checking linearity. In order to put in practice what we've previously learned we will use a scatterplot to check if the relationship between life_exp and schooling is truly linear or not."
   ]
  },
  {
   "cell_type": "code",
   "execution_count": 24,
   "id": "195b3c86",
   "metadata": {},
   "outputs": [
    {
     "data": {
      "image/png": "[encoded data removed]",
      "text/plain": [
       "<Figure size 360x360 with 1 Axes>"
      ]
     },
     "metadata": {
      "needs_background": "light"
     },
     "output_type": "display_data"
    }
   ],
   "source": [
    "# Create scatterplot using lmplot from seaborn.\n",
    "sns.lmplot(data = who, x = \"schooling\", y = \"life_exp\")\n",
    "plt.show()"
   ]
  },
  {
   "cell_type": "markdown",
   "id": "7f0e6ff1",
   "metadata": {},
   "source": [
    "We can say that the scatterplot follows a moderately weak, positive linear associaiton."
   ]
  },
  {
   "cell_type": "markdown",
   "id": "18ca3e15",
   "metadata": {},
   "source": [
    "### Independence and Equal Variance\n",
    "To check independence and equal variance we will use a scatterplot. More specifically, we will plot the fitted and residual values."
   ]
  },
  {
   "cell_type": "code",
   "execution_count": 82,
   "id": "7b66a5c1",
   "metadata": {},
   "outputs": [],
   "source": [
    "# Use the fitted model to store fitted and residual values\n",
    "fitted = model1.predict()\n",
    "residuals = model1.resid"
   ]
  },
  {
   "cell_type": "code",
   "execution_count": 83,
   "id": "e240911d",
   "metadata": {},
   "outputs": [
    {
     "data": {
      "image/png": "[encoded data removed]",
      "text/plain": [
       "<Figure size 432x288 with 1 Axes>"
      ]
     },
     "metadata": {
      "needs_background": "light"
     },
     "output_type": "display_data"
    }
   ],
   "source": [
    "# Plot scatterplot using fitted and residual values\n",
    "plt.scatter(fitted, residuals)\n",
    "\n",
    "# Add horizontal line\n",
    "plt.axhline(y=0, color=\"black\", linestyle=\":\")\n",
    "\n",
    "# Show plot\n",
    "plt.show()"
   ]
  },
  {
   "cell_type": "markdown",
   "id": "19316320",
   "metadata": {},
   "source": [
    "Awesome! we can see that the values seem to be randomly scattered around the 0 axis."
   ]
  },
  {
   "cell_type": "markdown",
   "id": "e859e358",
   "metadata": {},
   "source": [
    "### Normality \n",
    "To check normality we will use qqplot, which we imported at the beginning.\n",
    "\n",
    "**Arguments for qqplot:**\n",
    "* data = modelName.resid \n",
    "* line = \"s\" ; standardized line"
   ]
  },
  {
   "cell_type": "code",
   "execution_count": 31,
   "id": "ad78d1f1",
   "metadata": {},
   "outputs": [
    {
     "data": {
      "image/png": "[encoded data removed]",
      "text/plain": [
       "<Figure size 432x288 with 1 Axes>"
      ]
     },
     "metadata": {
      "needs_background": "light"
     },
     "output_type": "display_data"
    }
   ],
   "source": [
    "# Plot the qqplot. Note that there's a semi-colon at the end, which is to avoid jupyternotebook from returning  \n",
    "qqplot(data = model1.resid, line = \"s\");\n",
    "\n",
    "# Show plot\n",
    "plt.show()"
   ]
  },
  {
   "cell_type": "markdown",
   "id": "6899bdf5",
   "metadata": {},
   "source": [
    "The end and beginning of the line seem to fall out of the red line, so we will proceed with caution."
   ]
  },
  {
   "cell_type": "markdown",
   "id": "92aba7b9",
   "metadata": {},
   "source": [
    "Great! our conditions have been satisfied. Let's look at the summary of the linear model."
   ]
  },
  {
   "cell_type": "code",
   "execution_count": 434,
   "id": "6029f7e2",
   "metadata": {},
   "outputs": [
    {
     "name": "stdout",
     "output_type": "stream",
     "text": [
      "                            OLS Regression Results                            \n",
      "==============================================================================\n",
      "Dep. Variable:               life_exp   R-squared:                       0.565\n",
      "Model:                            OLS   Adj. R-squared:                  0.565\n",
      "Method:                 Least Squares   F-statistic:                     3599.\n",
      "Date:                Thu, 21 Jul 2022   Prob (F-statistic):               0.00\n",
      "Time:                        14:00:22   Log-Likelihood:                -8964.3\n",
      "No. Observations:                2768   AIC:                         1.793e+04\n",
      "Df Residuals:                    2766   BIC:                         1.794e+04\n",
      "Df Model:                           1                                         \n",
      "Covariance Type:            nonrobust                                         \n",
      "==============================================================================\n",
      "                 coef    std err          t      P>|t|      [0.025      0.975]\n",
      "------------------------------------------------------------------------------\n",
      "Intercept     44.1089      0.437    100.992      0.000      43.252      44.965\n",
      "schooling      2.1035      0.035     59.995      0.000       2.035       2.172\n",
      "==============================================================================\n",
      "Omnibus:                      283.391   Durbin-Watson:                   0.267\n",
      "Prob(Omnibus):                  0.000   Jarque-Bera (JB):             1122.013\n",
      "Skew:                          -0.445   Prob(JB):                    2.28e-244\n",
      "Kurtosis:                       5.989   Cond. No.                         46.7\n",
      "==============================================================================\n",
      "\n",
      "Notes:\n",
      "[1] Standard Errors assume that the covariance matrix of the errors is correctly specified.\n"
     ]
    }
   ],
   "source": [
    "print(model1.summary())"
   ]
  },
  {
   "cell_type": "markdown",
   "id": "c89a05a6",
   "metadata": {},
   "source": [
    "Schooling has a positive association of 2.1, with a standard error of 0.034 , with a t-ratio of 60 which gives a p-value < 0.05, corresponding to a 95% confident interval for the beta coefficient between 2.035 and 2.172.\n",
    "\n",
    "We can reject the null hypothesis, since we have enough evidence to say that there's a positive association between schooling and life expectancy."
   ]
  },
  {
   "cell_type": "markdown",
   "id": "5e9322cb",
   "metadata": {},
   "source": [
    "## Multiple Linear Regression"
   ]
  },
  {
   "cell_type": "markdown",
   "id": "e76520d5",
   "metadata": {},
   "source": [
    "Now, what if we consider a third variable?\n",
    "\n",
    "* h0 : there's no difference between country status and country's life expectancy, when adjusting for schooling\n",
    "* ha : there's a difference between country status in country's life expectancy, when adjusting for schooling"
   ]
  },
  {
   "cell_type": "code",
   "execution_count": 39,
   "id": "a06826d8",
   "metadata": {},
   "outputs": [],
   "source": [
    "# First, we will fit the model. We added a second independent variable, status. As this variable is categorical,\n",
    "# we must add a C before its name.\n",
    "\n",
    "# formula = \"dep_var ~ ind_var1 + C(ind_var2)\"\n",
    "\n",
    "model2 = smf.ols(data=who, formula='life_exp ~ schooling + C(Status)').fit()"
   ]
  },
  {
   "cell_type": "markdown",
   "id": "c87743b0",
   "metadata": {},
   "source": [
    "Now, let's check conditions. This is pretty much the same process we did before."
   ]
  },
  {
   "cell_type": "markdown",
   "id": "e4ac31d5",
   "metadata": {},
   "source": [
    "### Linearity"
   ]
  },
  {
   "cell_type": "code",
   "execution_count": 96,
   "id": "5099d770",
   "metadata": {},
   "outputs": [
    {
     "data": {
      "image/png": "[encoded data removed]",
      "text/plain": [
       "<Figure size 452.625x360 with 1 Axes>"
      ]
     },
     "metadata": {
      "needs_background": "light"
     },
     "output_type": "display_data"
    }
   ],
   "source": [
    "# Plot lmplot with schooling and life_exp. We will add the parameter hue to see how it changes by status.\n",
    "sns.lmplot(data = who, x = \"schooling\", y = \"life_exp\", hue = \"Status\")\n",
    "\n",
    "# Show plot\n",
    "plt.show()"
   ]
  },
  {
   "cell_type": "markdown",
   "id": "6cf8505e",
   "metadata": {},
   "source": [
    "Great! Both groups seem to follow a moderately weak, positive, linear association."
   ]
  },
  {
   "cell_type": "markdown",
   "id": "98a4aaa2",
   "metadata": {},
   "source": [
    "### Independence and Equal Variance"
   ]
  },
  {
   "cell_type": "code",
   "execution_count": 65,
   "id": "3b5032c7",
   "metadata": {},
   "outputs": [
    {
     "data": {
      "image/png": "[encoded data removed]",
      "text/plain": [
       "<Figure size 432x216 with 2 Axes>"
      ]
     },
     "metadata": {
      "needs_background": "light"
     },
     "output_type": "display_data"
    }
   ],
   "source": [
    "# Create two grids: one for developing and one for developed. \n",
    "g = sns.FacetGrid(data = who, col = \"Status\", hue = \"Status\")\n",
    "\n",
    "# Map the residual plots onto the grids.\n",
    "g.map(sns.residplot, \"schooling\", \"life_exp\")\n",
    "\n",
    "# Set labels. See extra material for a more thorough explanation of this step.\n",
    "g.axes[0,0].set_xlabel('residuals')\n",
    "g.axes[0,1].set_xlabel('residuals')\n",
    "g.axes[0,0].set_ylabel('fitted')\n",
    "\n",
    "# Show plot\n",
    "plt.show()"
   ]
  },
  {
   "cell_type": "markdown",
   "id": "12ee61e9",
   "metadata": {},
   "source": [
    "Awesome! Both graphs seem to be randomly scattered around the 0 axis."
   ]
  },
  {
   "cell_type": "markdown",
   "id": "75708966",
   "metadata": {},
   "source": [
    "### Normal Population"
   ]
  },
  {
   "cell_type": "code",
   "execution_count": 41,
   "id": "b1372366",
   "metadata": {},
   "outputs": [
    {
     "data": {
      "image/png": "[encoded data removed]",
      "text/plain": [
       "<Figure size 432x288 with 1 Axes>"
      ]
     },
     "metadata": {
      "needs_background": "light"
     },
     "output_type": "display_data"
    }
   ],
   "source": [
    "# Graph qqplot by using model2.resid\n",
    "sma.qqplot(model2.resid, line = \"s\");\n",
    "\n",
    "# Show graph\n",
    "plt.show()"
   ]
  },
  {
   "cell_type": "markdown",
   "id": "a35b703b",
   "metadata": {},
   "source": [
    "As also seen in the simple linear regression example, the end and beginning of the line seem to fall out of the red line, so we will proceed with caution. Now, let's look at the summary"
   ]
  },
  {
   "cell_type": "code",
   "execution_count": 93,
   "id": "4f0c3afc",
   "metadata": {},
   "outputs": [
    {
     "name": "stdout",
     "output_type": "stream",
     "text": [
      "                            OLS Regression Results                            \n",
      "==============================================================================\n",
      "Dep. Variable:               life_exp   R-squared:                       0.576\n",
      "Model:                            OLS   Adj. R-squared:                  0.576\n",
      "Method:                 Least Squares   F-statistic:                     1877.\n",
      "Date:                Fri, 22 Jul 2022   Prob (F-statistic):               0.00\n",
      "Time:                        14:06:52   Log-Likelihood:                -8930.6\n",
      "No. Observations:                2768   AIC:                         1.787e+04\n",
      "Df Residuals:                    2765   BIC:                         1.788e+04\n",
      "Df Model:                           2                                         \n",
      "Covariance Type:            nonrobust                                         \n",
      "===========================================================================================\n",
      "                              coef    std err          t      P>|t|      [0.025      0.975]\n",
      "-------------------------------------------------------------------------------------------\n",
      "Intercept                  48.6640      0.700     69.471      0.000      47.290      50.038\n",
      "C(Status)[T.Developing]    -2.9901      0.362     -8.255      0.000      -3.700      -2.280\n",
      "schooling                   1.9313      0.040     47.760      0.000       1.852       2.011\n",
      "==============================================================================\n",
      "Omnibus:                      287.506   Durbin-Watson:                   0.263\n",
      "Prob(Omnibus):                  0.000   Jarque-Bera (JB):              915.507\n",
      "Skew:                          -0.523   Prob(JB):                    1.59e-199\n",
      "Kurtosis:                       5.616   Cond. No.                         82.3\n",
      "==============================================================================\n",
      "\n",
      "Notes:\n",
      "[1] Standard Errors assume that the covariance matrix of the errors is correctly specified.\n"
     ]
    }
   ],
   "source": [
    "# Show model2 summary\n",
    "print(model2.summary())"
   ]
  },
  {
   "cell_type": "markdown",
   "id": "585755c0",
   "metadata": {},
   "source": [
    "Since the p-value < 0.05 we can reject the null hypothesis. Compared to developed countries, countries in development have a lower life expectancy average. In conclusion, there's an association between schooling and life expectency when considering both developed and in development countries."
   ]
  },
  {
   "cell_type": "markdown",
   "id": "ed13211a",
   "metadata": {},
   "source": [
    "Let's predict the life expectancy for a new country. Let's say that this country has an average of 12 years of schooling and it's a developed country."
   ]
  },
  {
   "cell_type": "code",
   "execution_count": 55,
   "id": "7b439fef",
   "metadata": {},
   "outputs": [
    {
     "name": "stdout",
     "output_type": "stream",
     "text": [
      "The life expenctancy is:  71.82  years.\n"
     ]
    }
   ],
   "source": [
    "# Get values from the table\n",
    "intercept = 48.66\n",
    "st_coef = -3\n",
    "sc_coef = 1.93 \n",
    "exp = intercept + sc_coef * 12 - 3 * 0\n",
    "\n",
    "# Print results\n",
    "print(\"The life expenctancy is: \" , exp, \" years.\")"
   ]
  },
  {
   "cell_type": "markdown",
   "id": "8697d3f4",
   "metadata": {},
   "source": [
    "We could also create a function to make this process easier and faster!"
   ]
  },
  {
   "cell_type": "code",
   "execution_count": 94,
   "id": "125a8e15",
   "metadata": {},
   "outputs": [
    {
     "name": "stdout",
     "output_type": "stream",
     "text": [
      "The life expectancy is:  71.82  years.\n"
     ]
    }
   ],
   "source": [
    "# Define function and specify our arguments (the values that change)\n",
    "def life_expectancy(schooling , status):\n",
    "    exp = 48.66 + 1.93 * schooling - 3 * status\n",
    "    print(\"The life expectancy is: \" , exp, \" years.\")\n",
    "\n",
    "# Call function\n",
    "life_expectancy(12, 0)"
   ]
  },
  {
   "cell_type": "code",
   "execution_count": null,
   "id": "9e4ddbcc",
   "metadata": {},
   "outputs": [],
   "source": [
    "If we recall our scatterplot, we can see that the obtained value makes sense! "
   ]
  },
  {
   "cell_type": "code",
   "execution_count": 95,
   "id": "b3862901",
   "metadata": {},
   "outputs": [
    {
     "data": {
      "text/plain": [
       "<seaborn.axisgrid.FacetGrid at 0x7fd5585d2340>"
      ]
     },
     "execution_count": 95,
     "metadata": {},
     "output_type": "execute_result"
    },
    {
     "data": {
      "image/png": "[encoded data removed]",
      "text/plain": [
       "<Figure size 452.625x360 with 1 Axes>"
      ]
     },
     "metadata": {
      "needs_background": "light"
     },
     "output_type": "display_data"
    }
   ],
   "source": [
    "sns.lmplot(data = who, x = \"schooling\", y = \"life_exp\", hue = \"Status\")\n",
    "plt.show()"
   ]
  },
  {
   "cell_type": "markdown",
   "id": "d9fe3b3c",
   "metadata": {},
   "source": [
    "## Tips\n",
    "* Fit the linear regression model first! You will need it to create some of the graphs."
   ]
  },
  {
   "cell_type": "markdown",
   "id": "a832bc12",
   "metadata": {},
   "source": [
    "## References\n",
    "* https://www.sfu.ca/~mjbrydon/tutorials/BAinPy/09_regression.html\n",
    "* https://research.library.gsu.edu/c.php?g=844869&p=7657842\n",
    "* https://sphweb.bumc.bu.edu/otlt/mph-modules/bs/bs704-ep713_multivariablemethods/bs704-ep713_multivariablemethods2.html"
   ]
  },
  {
   "cell_type": "code",
   "execution_count": null,
   "id": "05674bb5",
   "metadata": {},
   "outputs": [],
   "source": []
  }
 ],
 "metadata": {
  "kernelspec": {
   "display_name": "Python 3 (ipykernel)",
   "language": "python",
   "name": "python3"
  },
  "language_info": {
   "codemirror_mode": {
    "name": "ipython",
    "version": 3
   },
   "file_extension": ".py",
   "mimetype": "text/x-python",
   "name": "python",
   "nbconvert_exporter": "python",
   "pygments_lexer": "ipython3",
   "version": "3.9.12"
  }
 },
 "nbformat": 4,
 "nbformat_minor": 5
}
