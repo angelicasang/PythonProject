{
 "cells": [
  {
   "cell_type": "code",
   "execution_count": 50,
   "id": "0807fc3f",
   "metadata": {},
   "outputs": [
    {
     "name": "stdout",
     "output_type": "stream",
     "text": [
      "0.01199154662477283\n"
     ]
    }
   ],
   "source": [
    "import pandas as pd\n",
    "import matplotlib.pyplot as plt\n",
    "import numpy as np\n",
    "from matplotlib import pyplot\n",
    "from statsmodels.stats.proportion import proportions_ztest, proportion_confint, confint_proportions_2indep\n",
    "from scipy.stats import t, probplot, ttest_1samp, ttest_ind, ttest_rel, sem\n",
    "from statsmodels.api import qqplot, stats\n",
    "from statsmodels.formula.api import ols\n",
    "from math import sqrt\n",
    "from statsmodels.stats.weightstats import _tstat_generic\n",
    "\n",
    "n_f = 4208\n",
    "n_m = 2763\n",
    "yes_f = 2777\n",
    "yes_m = 1363\n",
    "prop_f = yes_f / n_f\n",
    "prop_m = yes_m / n_m\n",
    "\n",
    "se_f = prop_f * (1 - prop_f)/ n_f\n",
    "se_m = prop_m * (1 - prop_m)/ n_m\n",
    "se_combined = sqrt(se_f + se_m)\n",
    "print(se_combined)"
   ]
  },
  {
   "cell_type": "code",
   "execution_count": 37,
   "id": "47e7c514",
   "metadata": {},
   "outputs": [
    {
     "name": "stdout",
     "output_type": "stream",
     "text": [
      "0.14304339032179628 0.19002232634835703\n"
     ]
    }
   ],
   "source": [
    "v , a = confint_proportions_2indep(count1 = yes_f, nobs1 = n_f, count2 = yes_m, nobs2 = n_m,  compare='diff',\n",
    "                                alpha=0.05, correction = True)\n",
    "print(v, a)"
   ]
  },
  {
   "cell_type": "markdown",
   "id": "acb18f67",
   "metadata": {},
   "source": [
    "## Two-Proportion z-interval"
   ]
  },
  {
   "cell_type": "code",
   "execution_count": 39,
   "id": "88f49322",
   "metadata": {},
   "outputs": [],
   "source": [
    "# Import the data\n",
    "titanic = pd.read_csv(\"titanic_2020.txt\", sep = \"\\t\")"
   ]
  },
  {
   "cell_type": "code",
   "execution_count": 40,
   "id": "ef55d9d2",
   "metadata": {},
   "outputs": [
    {
     "data": {
      "text/html": [
       "<div>\n",
       "<style scoped>\n",
       "    .dataframe tbody tr th:only-of-type {\n",
       "        vertical-align: middle;\n",
       "    }\n",
       "\n",
       "    .dataframe tbody tr th {\n",
       "        vertical-align: top;\n",
       "    }\n",
       "\n",
       "    .dataframe thead th {\n",
       "        text-align: right;\n",
       "    }\n",
       "</style>\n",
       "<table border=\"1\" class=\"dataframe\">\n",
       "  <thead>\n",
       "    <tr style=\"text-align: right;\">\n",
       "      <th></th>\n",
       "      <th>Name</th>\n",
       "      <th>Born</th>\n",
       "      <th>Died</th>\n",
       "      <th>Age</th>\n",
       "      <th>Gender</th>\n",
       "      <th>Class.Dept</th>\n",
       "      <th>Class</th>\n",
       "      <th>Ticket</th>\n",
       "      <th>Fare</th>\n",
       "      <th>Cabin</th>\n",
       "      <th>...</th>\n",
       "      <th>Occupation</th>\n",
       "      <th>Survived</th>\n",
       "      <th>Boat</th>\n",
       "      <th>Body</th>\n",
       "      <th>Nationality</th>\n",
       "      <th>Pounds</th>\n",
       "      <th>Shillings</th>\n",
       "      <th>Pence</th>\n",
       "      <th>Price.Paid</th>\n",
       "      <th>Paidpp</th>\n",
       "    </tr>\n",
       "  </thead>\n",
       "  <tbody>\n",
       "    <tr>\n",
       "      <th>0</th>\n",
       "      <td>ABBING, Mr Anthony</td>\n",
       "      <td>1870.0</td>\n",
       "      <td>1912.0</td>\n",
       "      <td>41.0</td>\n",
       "      <td>Male</td>\n",
       "      <td>3rd Class Passenger</td>\n",
       "      <td>3rd</td>\n",
       "      <td>5547</td>\n",
       "      <td>£7             11s</td>\n",
       "      <td>NaN</td>\n",
       "      <td>...</td>\n",
       "      <td>Blacksmith</td>\n",
       "      <td>LOST</td>\n",
       "      <td>NaN</td>\n",
       "      <td>NaN</td>\n",
       "      <td>American</td>\n",
       "      <td>7.0</td>\n",
       "      <td>11.0</td>\n",
       "      <td>NaN</td>\n",
       "      <td>7.55</td>\n",
       "      <td>7.55</td>\n",
       "    </tr>\n",
       "    <tr>\n",
       "      <th>1</th>\n",
       "      <td>ABBOTT, Mr Eugene Joseph</td>\n",
       "      <td>1899.0</td>\n",
       "      <td>1912.0</td>\n",
       "      <td>13.0</td>\n",
       "      <td>Male</td>\n",
       "      <td>3rd Class Passenger</td>\n",
       "      <td>3rd</td>\n",
       "      <td>CA2673</td>\n",
       "      <td>£20             5s</td>\n",
       "      <td>NaN</td>\n",
       "      <td>...</td>\n",
       "      <td>Scholar</td>\n",
       "      <td>LOST</td>\n",
       "      <td>NaN</td>\n",
       "      <td>NaN</td>\n",
       "      <td>American</td>\n",
       "      <td>20.0</td>\n",
       "      <td>5.0</td>\n",
       "      <td>NaN</td>\n",
       "      <td>20.25</td>\n",
       "      <td>6.75</td>\n",
       "    </tr>\n",
       "    <tr>\n",
       "      <th>2</th>\n",
       "      <td>ABBOTT, Mr Rossmore Edward</td>\n",
       "      <td>1896.0</td>\n",
       "      <td>1912.0</td>\n",
       "      <td>16.0</td>\n",
       "      <td>Male</td>\n",
       "      <td>3rd Class Passenger</td>\n",
       "      <td>3rd</td>\n",
       "      <td>CA2673</td>\n",
       "      <td>£20             5s</td>\n",
       "      <td>NaN</td>\n",
       "      <td>...</td>\n",
       "      <td>Jeweller</td>\n",
       "      <td>LOST</td>\n",
       "      <td>NaN</td>\n",
       "      <td>190.0</td>\n",
       "      <td>NaN</td>\n",
       "      <td>20.0</td>\n",
       "      <td>5.0</td>\n",
       "      <td>NaN</td>\n",
       "      <td>20.25</td>\n",
       "      <td>6.75</td>\n",
       "    </tr>\n",
       "    <tr>\n",
       "      <th>3</th>\n",
       "      <td>ABBOTT, Mrs Rhoda Mary 'Rosa'</td>\n",
       "      <td>1873.0</td>\n",
       "      <td>1946.0</td>\n",
       "      <td>39.0</td>\n",
       "      <td>Female</td>\n",
       "      <td>3rd Class Passenger</td>\n",
       "      <td>3rd</td>\n",
       "      <td>CA2673</td>\n",
       "      <td>£20             5s</td>\n",
       "      <td>NaN</td>\n",
       "      <td>...</td>\n",
       "      <td>NaN</td>\n",
       "      <td>SAVED</td>\n",
       "      <td>A</td>\n",
       "      <td>NaN</td>\n",
       "      <td>English</td>\n",
       "      <td>20.0</td>\n",
       "      <td>5.0</td>\n",
       "      <td>NaN</td>\n",
       "      <td>20.25</td>\n",
       "      <td>6.75</td>\n",
       "    </tr>\n",
       "    <tr>\n",
       "      <th>4</th>\n",
       "      <td>ABELSETH, Miss Kalle (Karen) Marie Kristiane</td>\n",
       "      <td>1895.0</td>\n",
       "      <td>1969.0</td>\n",
       "      <td>16.0</td>\n",
       "      <td>Female</td>\n",
       "      <td>3rd Class Passenger</td>\n",
       "      <td>3rd</td>\n",
       "      <td>348125</td>\n",
       "      <td>£7             13s</td>\n",
       "      <td>NaN</td>\n",
       "      <td>...</td>\n",
       "      <td>NaN</td>\n",
       "      <td>SAVED</td>\n",
       "      <td>16</td>\n",
       "      <td>NaN</td>\n",
       "      <td>NaN</td>\n",
       "      <td>7.0</td>\n",
       "      <td>13.0</td>\n",
       "      <td>NaN</td>\n",
       "      <td>7.65</td>\n",
       "      <td>7.65</td>\n",
       "    </tr>\n",
       "  </tbody>\n",
       "</table>\n",
       "<p>5 rows × 21 columns</p>\n",
       "</div>"
      ],
      "text/plain": [
       "                                           Name    Born    Died   Age  Gender  \\\n",
       "0                            ABBING, Mr Anthony  1870.0  1912.0  41.0    Male   \n",
       "1                      ABBOTT, Mr Eugene Joseph  1899.0  1912.0  13.0    Male   \n",
       "2                    ABBOTT, Mr Rossmore Edward  1896.0  1912.0  16.0    Male   \n",
       "3                 ABBOTT, Mrs Rhoda Mary 'Rosa'  1873.0  1946.0  39.0  Female   \n",
       "4  ABELSETH, Miss Kalle (Karen) Marie Kristiane  1895.0  1969.0  16.0  Female   \n",
       "\n",
       "            Class.Dept Class  Ticket                Fare Cabin  ...  \\\n",
       "0  3rd Class Passenger   3rd    5547  £7             11s   NaN  ...   \n",
       "1  3rd Class Passenger   3rd  CA2673  £20             5s   NaN  ...   \n",
       "2  3rd Class Passenger   3rd  CA2673  £20             5s   NaN  ...   \n",
       "3  3rd Class Passenger   3rd  CA2673  £20             5s   NaN  ...   \n",
       "4  3rd Class Passenger   3rd  348125  £7             13s   NaN  ...   \n",
       "\n",
       "   Occupation Survived Boat   Body  Nationality Pounds  Shillings  Pence  \\\n",
       "0  Blacksmith     LOST  NaN    NaN     American    7.0       11.0    NaN   \n",
       "1     Scholar     LOST  NaN    NaN     American   20.0        5.0    NaN   \n",
       "2    Jeweller     LOST  NaN  190.0          NaN   20.0        5.0    NaN   \n",
       "3         NaN    SAVED    A    NaN      English   20.0        5.0    NaN   \n",
       "4         NaN    SAVED   16    NaN          NaN    7.0       13.0    NaN   \n",
       "\n",
       "   Price.Paid  Paidpp  \n",
       "0        7.55    7.55  \n",
       "1       20.25    6.75  \n",
       "2       20.25    6.75  \n",
       "3       20.25    6.75  \n",
       "4        7.65    7.65  \n",
       "\n",
       "[5 rows x 21 columns]"
      ]
     },
     "execution_count": 40,
     "metadata": {},
     "output_type": "execute_result"
    }
   ],
   "source": [
    "# Look at the first few rows\n",
    "titanic.head()"
   ]
  },
  {
   "cell_type": "code",
   "execution_count": 44,
   "id": "4a86a23d",
   "metadata": {},
   "outputs": [
    {
     "data": {
      "text/html": [
       "<div>\n",
       "<style scoped>\n",
       "    .dataframe tbody tr th:only-of-type {\n",
       "        vertical-align: middle;\n",
       "    }\n",
       "\n",
       "    .dataframe tbody tr th {\n",
       "        vertical-align: top;\n",
       "    }\n",
       "\n",
       "    .dataframe thead th {\n",
       "        text-align: right;\n",
       "    }\n",
       "</style>\n",
       "<table border=\"1\" class=\"dataframe\">\n",
       "  <thead>\n",
       "    <tr style=\"text-align: right;\">\n",
       "      <th>Survived</th>\n",
       "      <th>LOST</th>\n",
       "      <th>SAVED</th>\n",
       "      <th>All</th>\n",
       "    </tr>\n",
       "    <tr>\n",
       "      <th>Gender</th>\n",
       "      <th></th>\n",
       "      <th></th>\n",
       "      <th></th>\n",
       "    </tr>\n",
       "  </thead>\n",
       "  <tbody>\n",
       "    <tr>\n",
       "      <th>Female</th>\n",
       "      <td>130</td>\n",
       "      <td>359</td>\n",
       "      <td>489</td>\n",
       "    </tr>\n",
       "    <tr>\n",
       "      <th>Male</th>\n",
       "      <td>1366</td>\n",
       "      <td>353</td>\n",
       "      <td>1719</td>\n",
       "    </tr>\n",
       "    <tr>\n",
       "      <th>All</th>\n",
       "      <td>1496</td>\n",
       "      <td>712</td>\n",
       "      <td>2208</td>\n",
       "    </tr>\n",
       "  </tbody>\n",
       "</table>\n",
       "</div>"
      ],
      "text/plain": [
       "Survived  LOST  SAVED   All\n",
       "Gender                     \n",
       "Female     130    359   489\n",
       "Male      1366    353  1719\n",
       "All       1496    712  2208"
      ]
     },
     "execution_count": 44,
     "metadata": {},
     "output_type": "execute_result"
    }
   ],
   "source": [
    "pd.crosstab(titanic[\"Gender\"], titanic[\"Survived\"], margins = True)"
   ]
  },
  {
   "cell_type": "code",
   "execution_count": 47,
   "id": "9923084b",
   "metadata": {},
   "outputs": [
    {
     "name": "stdout",
     "output_type": "stream",
     "text": [
      "0.4834092767839217 0.5703331209312256\n"
     ]
    }
   ],
   "source": [
    "lower , upper = confint_proportions_2indep(count1 = 359, nobs1 = 489, count2 = 353, nobs2 = 1719,  compare='diff',\n",
    "                                alpha=0.05, correction = True)\n",
    "print(lower, upper)"
   ]
  },
  {
   "cell_type": "markdown",
   "id": "3d28c185",
   "metadata": {},
   "source": [
    "We are 95% confident that the proportion of female who survided in the Titanic is between 48.34% and 57% higher than the proportion of male who survived."
   ]
  },
  {
   "cell_type": "code",
   "execution_count": 52,
   "id": "f72f9550",
   "metadata": {},
   "outputs": [],
   "source": [
    "female = 39667.2\n",
    "male =  46484.0\n"
   ]
  },
  {
   "cell_type": "code",
   "execution_count": 54,
   "id": "23333637",
   "metadata": {},
   "outputs": [
    {
     "data": {
      "text/plain": [
       "(4.331151915623612, 1.566296274045779e-05)"
      ]
     },
     "execution_count": 54,
     "metadata": {},
     "output_type": "execute_result"
    }
   ],
   "source": [
    "_tstat_generic(female, male, -1573.9, 1773, alternative = \"two-sided\")"
   ]
  },
  {
   "cell_type": "code",
   "execution_count": null,
   "id": "1c7e4ed8",
   "metadata": {},
   "outputs": [],
   "source": []
  }
 ],
 "metadata": {
  "kernelspec": {
   "display_name": "Python 3 (ipykernel)",
   "language": "python",
   "name": "python3"
  },
  "language_info": {
   "codemirror_mode": {
    "name": "ipython",
    "version": 3
   },
   "file_extension": ".py",
   "mimetype": "text/x-python",
   "name": "python",
   "nbconvert_exporter": "python",
   "pygments_lexer": "ipython3",
   "version": "3.9.12"
  }
 },
 "nbformat": 4,
 "nbformat_minor": 5
}
