{
 "cells": [
  {
   "cell_type": "code",
   "execution_count": 36,
   "id": "b9dcc99b",
   "metadata": {},
   "outputs": [
    {
     "name": "stdout",
     "output_type": "stream",
     "text": [
      "0.01199154662477283\n"
     ]
    }
   ],
   "source": [
    "import pandas as pd\n",
    "import matplotlib.pyplot as plt\n",
    "import numpy as np\n",
    "from matplotlib import pyplot\n",
    "from statsmodels.stats.proportion import proportions_ztest, proportion_confint, confint_proportions_2indep\n",
    "from scipy.stats import t, probplot, ttest_1samp, ttest_ind, ttest_rel, sem\n",
    "from statsmodels.api import qqplot, stats\n",
    "from statsmodels.formula.api import ols\n",
    "from math import sqrt\n",
    "\n",
    "n_f = 4208\n",
    "n_m = 2763\n",
    "yes_f = 2777\n",
    "yes_m = 1363\n",
    "prop_f = yes_f / n_f\n",
    "prop_m = yes_m / n_m\n",
    "\n",
    "se_f = prop_f * (1 - prop_f)/ n_f\n",
    "se_m = prop_m * (1 - prop_m)/ n_m\n",
    "se_combined = sqrt(se_f + se_m)\n",
    "print(se_combined)"
   ]
  },
  {
   "cell_type": "code",
   "execution_count": 37,
   "id": "9cf7900f",
   "metadata": {},
   "outputs": [
    {
     "name": "stdout",
     "output_type": "stream",
     "text": [
      "0.14304339032179628 0.19002232634835703\n"
     ]
    }
   ],
   "source": [
    "v , a = confint_proportions_2indep(count1 = yes_f, nobs1 = n_f, count2 = yes_m, nobs2 = n_m,  compare='diff',\n",
    "                                alpha=0.05, correction = True)\n",
    "print(v, a)"
   ]
  },
  {
   "cell_type": "code",
   "execution_count": null,
   "id": "5eed2746",
   "metadata": {},
   "outputs": [],
   "source": []
  },
  {
   "cell_type": "code",
   "execution_count": null,
   "id": "d08e8b17",
   "metadata": {},
   "outputs": [],
   "source": []
  }
 ],
 "metadata": {
  "kernelspec": {
   "display_name": "Python 3 (ipykernel)",
   "language": "python",
   "name": "python3"
  },
  "language_info": {
   "codemirror_mode": {
    "name": "ipython",
    "version": 3
   },
   "file_extension": ".py",
   "mimetype": "text/x-python",
   "name": "python",
   "nbconvert_exporter": "python",
   "pygments_lexer": "ipython3",
   "version": "3.9.12"
  }
 },
 "nbformat": 4,
 "nbformat_minor": 5
}
