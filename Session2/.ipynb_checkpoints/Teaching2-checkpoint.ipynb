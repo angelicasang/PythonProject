{
 "cells": [
  {
   "cell_type": "markdown",
   "id": "b0223080",
   "metadata": {},
   "source": [
    "# Exploratory Data Analysis in Python\n",
    "\n",
    "## Lesson Overview \n",
    "Welcome to lesson two! Today, we will dive into creating, describing, and visualizing dataframes by using the Matplotlib, Pandas, and Seaborn (All Python libraries).\n",
    "\n",
    "By the end of this lesson you will be able to:\n",
    "* Create your own dataframes\n",
    "* Load csv files as dataframes\n",
    "* Describe dataframes using Pandas\n",
    "* Visualize dataframes using Pandas, Seaborn and Matplotlib"
   ]
  },
  {
   "cell_type": "markdown",
   "id": "a9218fd7",
   "metadata": {},
   "source": [
    "## Importing a dataframe from a csv file\n",
    "\n",
    "We can import a .csv file to work with external data. Importing data is an important skill, seeing as it allows us to work with greater quantities of data. In order to import a .csv file, we need to use the *read_csv( )* funtion from the pandas library. IMPORTANT, your .csv file must be stored in the same folder as this jupyter notebook, or else you will encounter an error because Python thinks your file does not exist.\n",
    "\n",
    "**Structure:** \n",
    "+ dataset_name = pd.read_csv(\"nameOfFile.csv\")"
   ]
  },
  {
   "cell_type": "code",
   "execution_count": 27,
   "id": "deccc2aa",
   "metadata": {},
   "outputs": [],
   "source": [
    "# Add library\n",
    "import pandas as pd\n",
    "\n",
    "# Read in .csv file\n",
    "penguins = pd.read_csv(\"penguins_wrangled.csv\")"
   ]
  },
  {
   "cell_type": "markdown",
   "id": "b6959464",
   "metadata": {},
   "source": [
    "We can look at the first few rows using the *head( )* function, or the last few rows by using the *tail( )* function.\n",
    "\n",
    "**Structure:**\n",
    "+ dataframe.head() = displays the first five rows\n",
    "+ dataframe.tail() = displays the last five rows"
   ]
  },
  {
   "cell_type": "code",
   "execution_count": 28,
   "id": "40483077",
   "metadata": {
    "scrolled": true
   },
   "outputs": [
    {
     "data": {
      "text/html": [
       "<div>\n",
       "<style scoped>\n",
       "    .dataframe tbody tr th:only-of-type {\n",
       "        vertical-align: middle;\n",
       "    }\n",
       "\n",
       "    .dataframe tbody tr th {\n",
       "        vertical-align: top;\n",
       "    }\n",
       "\n",
       "    .dataframe thead th {\n",
       "        text-align: right;\n",
       "    }\n",
       "</style>\n",
       "<table border=\"1\" class=\"dataframe\">\n",
       "  <thead>\n",
       "    <tr style=\"text-align: right;\">\n",
       "      <th></th>\n",
       "      <th>Unnamed: 0</th>\n",
       "      <th>studyName</th>\n",
       "      <th>Sample Number</th>\n",
       "      <th>Species</th>\n",
       "      <th>Region</th>\n",
       "      <th>Island</th>\n",
       "      <th>Stage</th>\n",
       "      <th>Individual ID</th>\n",
       "      <th>Clutch Completion</th>\n",
       "      <th>Date Egg</th>\n",
       "      <th>Culmen Length (mm)</th>\n",
       "      <th>Culmen Depth (mm)</th>\n",
       "      <th>Flipper Length (mm)</th>\n",
       "      <th>Body Mass (g)</th>\n",
       "      <th>Sex</th>\n",
       "      <th>Delta 15 N (o/oo)</th>\n",
       "      <th>Delta 13 C (o/oo)</th>\n",
       "      <th>Comments</th>\n",
       "    </tr>\n",
       "  </thead>\n",
       "  <tbody>\n",
       "    <tr>\n",
       "      <th>0</th>\n",
       "      <td>0</td>\n",
       "      <td>PAL0708</td>\n",
       "      <td>1</td>\n",
       "      <td>Adelie</td>\n",
       "      <td>Anvers</td>\n",
       "      <td>Torgersen</td>\n",
       "      <td>Adult, 1 Egg Stage</td>\n",
       "      <td>N1A1</td>\n",
       "      <td>Yes</td>\n",
       "      <td>11/11/07</td>\n",
       "      <td>39.1</td>\n",
       "      <td>18.7</td>\n",
       "      <td>181.0</td>\n",
       "      <td>3750.0</td>\n",
       "      <td>MALE</td>\n",
       "      <td>NaN</td>\n",
       "      <td>NaN</td>\n",
       "      <td>Not enough blood for isotopes.</td>\n",
       "    </tr>\n",
       "    <tr>\n",
       "      <th>1</th>\n",
       "      <td>1</td>\n",
       "      <td>PAL0708</td>\n",
       "      <td>2</td>\n",
       "      <td>Adelie</td>\n",
       "      <td>Anvers</td>\n",
       "      <td>Torgersen</td>\n",
       "      <td>Adult, 1 Egg Stage</td>\n",
       "      <td>N1A2</td>\n",
       "      <td>Yes</td>\n",
       "      <td>11/11/07</td>\n",
       "      <td>39.5</td>\n",
       "      <td>17.4</td>\n",
       "      <td>186.0</td>\n",
       "      <td>3800.0</td>\n",
       "      <td>FEMALE</td>\n",
       "      <td>8.94956</td>\n",
       "      <td>-24.69454</td>\n",
       "      <td>NaN</td>\n",
       "    </tr>\n",
       "    <tr>\n",
       "      <th>2</th>\n",
       "      <td>2</td>\n",
       "      <td>PAL0708</td>\n",
       "      <td>3</td>\n",
       "      <td>Adelie</td>\n",
       "      <td>Anvers</td>\n",
       "      <td>Torgersen</td>\n",
       "      <td>Adult, 1 Egg Stage</td>\n",
       "      <td>N2A1</td>\n",
       "      <td>Yes</td>\n",
       "      <td>11/16/07</td>\n",
       "      <td>40.3</td>\n",
       "      <td>18.0</td>\n",
       "      <td>195.0</td>\n",
       "      <td>3250.0</td>\n",
       "      <td>FEMALE</td>\n",
       "      <td>8.36821</td>\n",
       "      <td>-25.33302</td>\n",
       "      <td>NaN</td>\n",
       "    </tr>\n",
       "    <tr>\n",
       "      <th>3</th>\n",
       "      <td>4</td>\n",
       "      <td>PAL0708</td>\n",
       "      <td>5</td>\n",
       "      <td>Adelie</td>\n",
       "      <td>Anvers</td>\n",
       "      <td>Torgersen</td>\n",
       "      <td>Adult, 1 Egg Stage</td>\n",
       "      <td>N3A1</td>\n",
       "      <td>Yes</td>\n",
       "      <td>11/16/07</td>\n",
       "      <td>36.7</td>\n",
       "      <td>19.3</td>\n",
       "      <td>193.0</td>\n",
       "      <td>3450.0</td>\n",
       "      <td>FEMALE</td>\n",
       "      <td>8.76651</td>\n",
       "      <td>-25.32426</td>\n",
       "      <td>NaN</td>\n",
       "    </tr>\n",
       "    <tr>\n",
       "      <th>4</th>\n",
       "      <td>5</td>\n",
       "      <td>PAL0708</td>\n",
       "      <td>6</td>\n",
       "      <td>Adelie</td>\n",
       "      <td>Anvers</td>\n",
       "      <td>Torgersen</td>\n",
       "      <td>Adult, 1 Egg Stage</td>\n",
       "      <td>N3A2</td>\n",
       "      <td>Yes</td>\n",
       "      <td>11/16/07</td>\n",
       "      <td>39.3</td>\n",
       "      <td>20.6</td>\n",
       "      <td>190.0</td>\n",
       "      <td>3650.0</td>\n",
       "      <td>MALE</td>\n",
       "      <td>8.66496</td>\n",
       "      <td>-25.29805</td>\n",
       "      <td>NaN</td>\n",
       "    </tr>\n",
       "  </tbody>\n",
       "</table>\n",
       "</div>"
      ],
      "text/plain": [
       "   Unnamed: 0 studyName  Sample Number Species  Region     Island  \\\n",
       "0           0   PAL0708              1  Adelie  Anvers  Torgersen   \n",
       "1           1   PAL0708              2  Adelie  Anvers  Torgersen   \n",
       "2           2   PAL0708              3  Adelie  Anvers  Torgersen   \n",
       "3           4   PAL0708              5  Adelie  Anvers  Torgersen   \n",
       "4           5   PAL0708              6  Adelie  Anvers  Torgersen   \n",
       "\n",
       "                Stage Individual ID Clutch Completion  Date Egg  \\\n",
       "0  Adult, 1 Egg Stage          N1A1               Yes  11/11/07   \n",
       "1  Adult, 1 Egg Stage          N1A2               Yes  11/11/07   \n",
       "2  Adult, 1 Egg Stage          N2A1               Yes  11/16/07   \n",
       "3  Adult, 1 Egg Stage          N3A1               Yes  11/16/07   \n",
       "4  Adult, 1 Egg Stage          N3A2               Yes  11/16/07   \n",
       "\n",
       "   Culmen Length (mm)  Culmen Depth (mm)  Flipper Length (mm)  Body Mass (g)  \\\n",
       "0                39.1               18.7                181.0         3750.0   \n",
       "1                39.5               17.4                186.0         3800.0   \n",
       "2                40.3               18.0                195.0         3250.0   \n",
       "3                36.7               19.3                193.0         3450.0   \n",
       "4                39.3               20.6                190.0         3650.0   \n",
       "\n",
       "      Sex  Delta 15 N (o/oo)  Delta 13 C (o/oo)  \\\n",
       "0    MALE                NaN                NaN   \n",
       "1  FEMALE            8.94956          -24.69454   \n",
       "2  FEMALE            8.36821          -25.33302   \n",
       "3  FEMALE            8.76651          -25.32426   \n",
       "4    MALE            8.66496          -25.29805   \n",
       "\n",
       "                         Comments  \n",
       "0  Not enough blood for isotopes.  \n",
       "1                             NaN  \n",
       "2                             NaN  \n",
       "3                             NaN  \n",
       "4                             NaN  "
      ]
     },
     "execution_count": 28,
     "metadata": {},
     "output_type": "execute_result"
    }
   ],
   "source": [
    "# Glimpse the data using head() or tail()\n",
    "penguins.head()"
   ]
  },
  {
   "cell_type": "markdown",
   "id": "5daa413b",
   "metadata": {},
   "source": [
    "## Univariate Data Exploration\n",
    "\n",
    "In the following section, we will teach you how to use functions in the pandas library to perform univariate data analysis, such as creating frequency tables and calculating descriptive statistics. We will also introduce you to how to describe dataframes that way you can find multiple descriptive statistics after running only one function. Let's get started!\n",
    "\n",
    "### Frequency Table\n",
    "If were interested in seeing a breakdown of all of the different species in this dataset, it would be helpful to create a frequency table. Using the function *value_counts( )* after calling our dataset and variable in function, we can see the count of every unique cell in that column. We will practice creating a frequency table of species using the following structure.\n",
    "\n",
    "**Structure:**\n",
    "+ frequency_table_name = dataset[\"variable_name\"].value_counts()"
   ]
  },
  {
   "cell_type": "code",
   "execution_count": 4,
   "id": "fd619c43",
   "metadata": {},
   "outputs": [
    {
     "name": "stdout",
     "output_type": "stream",
     "text": [
      "Adelie       146\n",
      "Gentoo       119\n",
      "Chinstrap     68\n",
      "Name: Species, dtype: int64\n"
     ]
    }
   ],
   "source": [
    "# Assign frequency table to a name\n",
    "freq = penguins[\"Species\"].value_counts()\n",
    "\n",
    "# Print the table\n",
    "print(freq)"
   ]
  },
  {
   "cell_type": "markdown",
   "id": "a962777d",
   "metadata": {},
   "source": [
    "### Relative Frequency Table\n",
    "What if we were interested in finding the relative frequency of a variable in our dataset? In that case, we may want to produce a relative frequency table in which we can see the proportional breakdown of unique categories in our variable. Using the same \"Species\" variable from our penguins dataset, we will follow pretty much the same structure to produce a relative frequency table. By setting the \"normalize\" option within the *value_counts( )* function to **True**, Python knows to return proportions for us instead of just counts.\n",
    "\n",
    "**Structure:**\n",
    "+ frequency_table_name = dataset[\"variable_name\"].value_counts(normalize = **True**)"
   ]
  },
  {
   "cell_type": "code",
   "execution_count": 5,
   "id": "0a76565e",
   "metadata": {},
   "outputs": [
    {
     "name": "stdout",
     "output_type": "stream",
     "text": [
      "Adelie       0.438438\n",
      "Gentoo       0.357357\n",
      "Chinstrap    0.204204\n",
      "Name: Species, dtype: float64\n"
     ]
    }
   ],
   "source": [
    "# Assign relative frequency table to a name\n",
    "# Remember that Python is case-sensitive, so \"true\" must be \"True\" !\n",
    "rel_freq = penguins[\"Species\"].value_counts(normalize = True)\n",
    "\n",
    "# Print the table\n",
    "print(rel_freq)"
   ]
  },
  {
   "cell_type": "markdown",
   "id": "3b7ae41c",
   "metadata": {},
   "source": [
    "### Descriptive Statistics\n",
    "Within the penguins dataset, there are several quantitative variables that we may want to explore. To learn more about the quantitative variables in our dataset, we can calculate sample statistics: mean, variance, and standard deviation. All of these calculations follow the same structure:\n",
    "* mean_all_columns = dataframe_name.mean(numeric_only = True)\n",
    "* median_all_columns = dataframe_name.median(numeric_only = True)\n",
    "* mode_all_columns = dataframe_name.mode(numeric_only = True)\n",
    "* mode_all_columns = dataframe_name.mode(numeric_only = True)\n",
    "* maximum_all_columns = dataframe_name.max(numeric_only = True)\n",
    "* min_all_columns = dataframe_name.min(numeric_only = True)\n",
    "* std_all_columns = dataframe_name.std(numeric_only = True)\n",
    "* var_all_columns = dataframe_name.var(numeric_only = True)\n",
    "\n",
    "**NOTE:** It is possible to skip *numeric_only = True*, however, this will show a warning message. The reason why this is true is because pandas will, by default, calculate these values column by column and some of the columns may include categorical variables. By setting *numeric_only = True*, we are instructing Python to only apply this operation to quantitative variables so it will not throw us an error. If we would instead like to calculate these statistics row by row, we  have to type *axis = 0* as another option inside the parentheses.\n",
    "\n",
    "The code above will calculate the sample statistics for ALL quantitative variables in our dataframe. If we would only like to display one column, we can use the following structure:\n",
    "* mean_column = dataframe_name[\"columnName\"].mean()\n",
    "\n",
    "* median_column = dataframe_name[\"columnName\"].median()\n",
    "\n",
    "* mode_column = dataframe_name[\"columnName\"].mode()\n",
    "\n",
    "* maximum_column = dataframe_name[\"columnName\"].max()\n",
    "\n",
    "* min_column = dataframe_name[\"columnName\"].min()\n",
    "\n",
    "* std_column = dataframe_name[\"columnName\"].std()\n",
    "\n",
    "* var_column = dataframe_name[\"columnName\"].var()\n",
    "\n",
    "Now, let's play around with these new functions using the penguins dataset!"
   ]
  },
  {
   "cell_type": "code",
   "execution_count": 3,
   "id": "822062e6",
   "metadata": {},
   "outputs": [
    {
     "name": "stdout",
     "output_type": "stream",
     "text": [
      "Unnamed: 0              172.303303\n",
      "Sample Number            63.645646\n",
      "Culmen Length (mm)       43.992793\n",
      "Culmen Depth (mm)        17.164865\n",
      "Flipper Length (mm)     200.966967\n",
      "Body Mass (g)          4207.057057\n",
      "Delta 15 N (o/oo)         8.739944\n",
      "Delta 13 C (o/oo)       -25.682842\n",
      "dtype: float64\n"
     ]
    }
   ],
   "source": [
    "# Calculate mean across dataframe\n",
    "mean_all = penguins.mean(numeric_only = True)\n",
    "\n",
    "# Display the mean of all columns\n",
    "print(mean_all)"
   ]
  },
  {
   "cell_type": "code",
   "execution_count": 4,
   "id": "a913d825",
   "metadata": {},
   "outputs": [
    {
     "name": "stdout",
     "output_type": "stream",
     "text": [
      "Penguins' mean culmen length is equal to:  43.992792792792805\n"
     ]
    }
   ],
   "source": [
    "# Calculate the mean for the variable \"Culmen Length (mm)\"\n",
    "mean_culmen_length = penguins[\"Culmen Length (mm)\"].mean()\n",
    "\n",
    "# Display the mean\n",
    "print(\"Penguins' mean culmen length is equal to: \", mean_culmen_length)"
   ]
  },
  {
   "cell_type": "markdown",
   "id": "1c583522",
   "metadata": {},
   "source": [
    "If we wanted to calculate range, we can use two of the functions we previously learned: max() and min(). Following the structure above, let's calculate the maximum culmen length and minimum culmen length."
   ]
  },
  {
   "cell_type": "code",
   "execution_count": 7,
   "id": "f59ce423",
   "metadata": {},
   "outputs": [
    {
     "name": "stdout",
     "output_type": "stream",
     "text": [
      "Culmen length range:  27.5\n"
     ]
    }
   ],
   "source": [
    "# Calculate the max culmen length\n",
    "max_length = penguins[\"Culmen Length (mm)\"].max()\n",
    "\n",
    "# Calculate the min culmen length\n",
    "min_length = penguins[\"Culmen Length (mm)\"].min()\n",
    "\n",
    "# Calculate the range by subtracting min from max\n",
    "length_range = max_length - min_length\n",
    "\n",
    "# Print the result\n",
    "print(\"Culmen length range: \", length_range)"
   ]
  },
  {
   "cell_type": "markdown",
   "id": "1ffc384e",
   "metadata": {},
   "source": [
    "Unfortunately, pandas does not have a function that calculates directly the IQR. However, we can find a workaround by calculating Q1 and Q3, and subtracting Q1 from Q3 to produce the IQR. To calculate quantiles and the inter quartile range (aka the IQR), we will use the same structure as before: \n",
    "+ quantile = dataframe[\"columnName\"].quantile()\n",
    "\n",
    "Note: Inside quantile parentheses we have to indicate which quantile we are calculating.\n",
    "* q1 = dataframe[\"columnName\"].quantile(0.25)\n",
    "* q2 = dataframe[\"columnName\"].quantile(0.50)\n",
    "* q3 = dataframe[\"columnName\"].quantile(0.75)"
   ]
  },
  {
   "cell_type": "code",
   "execution_count": null,
   "id": "06fcfa5e",
   "metadata": {},
   "outputs": [],
   "source": [
    "# Calculate the first quantile of \"Body Mass (g)\"\n",
    "q1 = penguins[\"Body Mass (g)\"].quantile(0.25)\n",
    "\n",
    "# Calculate the third quantile of \"Body Mass (g)\"\n",
    "q3 = penguins[\"Body Mass (g)\"].quantile(0.75)\n",
    "\n",
    "# Calculate the IQR\n",
    "iqr_penguins = q3 - q1\n",
    "print(\"Penguins BM's IQR: \", iqr_penguins)"
   ]
  },
  {
   "cell_type": "markdown",
   "id": "9be43d33",
   "metadata": {},
   "source": [
    "## Describing dataframes"
   ]
  },
  {
   "cell_type": "markdown",
   "id": "68d246df",
   "metadata": {},
   "source": [
    "We already know how to calculate sample statistics one by one, however, if we want to have a table that summarizes these values for *quantitative* variables we can use *describe()*. Using the following structure for this function, we can obtain a data summary that includes counts, mean, standard deviation, minimum, quantiles and maximum. \n",
    "\n",
    "**Structure:**\n",
    "+ dataframe_name.describe()"
   ]
  },
  {
   "cell_type": "code",
   "execution_count": 8,
   "id": "9a8079f6",
   "metadata": {
    "scrolled": true
   },
   "outputs": [
    {
     "data": {
      "text/html": [
       "<div>\n",
       "<style scoped>\n",
       "    .dataframe tbody tr th:only-of-type {\n",
       "        vertical-align: middle;\n",
       "    }\n",
       "\n",
       "    .dataframe tbody tr th {\n",
       "        vertical-align: top;\n",
       "    }\n",
       "\n",
       "    .dataframe thead th {\n",
       "        text-align: right;\n",
       "    }\n",
       "</style>\n",
       "<table border=\"1\" class=\"dataframe\">\n",
       "  <thead>\n",
       "    <tr style=\"text-align: right;\">\n",
       "      <th></th>\n",
       "      <th>Unnamed: 0</th>\n",
       "      <th>Sample Number</th>\n",
       "      <th>Culmen Length (mm)</th>\n",
       "      <th>Culmen Depth (mm)</th>\n",
       "      <th>Flipper Length (mm)</th>\n",
       "      <th>Body Mass (g)</th>\n",
       "      <th>Delta 15 N (o/oo)</th>\n",
       "      <th>Delta 13 C (o/oo)</th>\n",
       "    </tr>\n",
       "  </thead>\n",
       "  <tbody>\n",
       "    <tr>\n",
       "      <th>count</th>\n",
       "      <td>333.000000</td>\n",
       "      <td>333.000000</td>\n",
       "      <td>333.000000</td>\n",
       "      <td>333.000000</td>\n",
       "      <td>333.000000</td>\n",
       "      <td>333.000000</td>\n",
       "      <td>324.000000</td>\n",
       "      <td>325.000000</td>\n",
       "    </tr>\n",
       "    <tr>\n",
       "      <th>mean</th>\n",
       "      <td>172.303303</td>\n",
       "      <td>63.645646</td>\n",
       "      <td>43.992793</td>\n",
       "      <td>17.164865</td>\n",
       "      <td>200.966967</td>\n",
       "      <td>4207.057057</td>\n",
       "      <td>8.739944</td>\n",
       "      <td>-25.682842</td>\n",
       "    </tr>\n",
       "    <tr>\n",
       "      <th>std</th>\n",
       "      <td>97.346548</td>\n",
       "      <td>40.201308</td>\n",
       "      <td>5.468668</td>\n",
       "      <td>1.969235</td>\n",
       "      <td>14.015765</td>\n",
       "      <td>805.215802</td>\n",
       "      <td>0.552073</td>\n",
       "      <td>0.796629</td>\n",
       "    </tr>\n",
       "    <tr>\n",
       "      <th>min</th>\n",
       "      <td>0.000000</td>\n",
       "      <td>1.000000</td>\n",
       "      <td>32.100000</td>\n",
       "      <td>13.100000</td>\n",
       "      <td>172.000000</td>\n",
       "      <td>2700.000000</td>\n",
       "      <td>7.632200</td>\n",
       "      <td>-27.018540</td>\n",
       "    </tr>\n",
       "    <tr>\n",
       "      <th>25%</th>\n",
       "      <td>89.000000</td>\n",
       "      <td>30.000000</td>\n",
       "      <td>39.500000</td>\n",
       "      <td>15.600000</td>\n",
       "      <td>190.000000</td>\n",
       "      <td>3550.000000</td>\n",
       "      <td>8.304440</td>\n",
       "      <td>-26.326010</td>\n",
       "    </tr>\n",
       "    <tr>\n",
       "      <th>50%</th>\n",
       "      <td>172.000000</td>\n",
       "      <td>58.000000</td>\n",
       "      <td>44.500000</td>\n",
       "      <td>17.300000</td>\n",
       "      <td>197.000000</td>\n",
       "      <td>4050.000000</td>\n",
       "      <td>8.658585</td>\n",
       "      <td>-25.833520</td>\n",
       "    </tr>\n",
       "    <tr>\n",
       "      <th>75%</th>\n",
       "      <td>256.000000</td>\n",
       "      <td>95.000000</td>\n",
       "      <td>48.600000</td>\n",
       "      <td>18.700000</td>\n",
       "      <td>213.000000</td>\n",
       "      <td>4775.000000</td>\n",
       "      <td>9.181477</td>\n",
       "      <td>-25.041690</td>\n",
       "    </tr>\n",
       "    <tr>\n",
       "      <th>max</th>\n",
       "      <td>343.000000</td>\n",
       "      <td>152.000000</td>\n",
       "      <td>59.600000</td>\n",
       "      <td>21.500000</td>\n",
       "      <td>231.000000</td>\n",
       "      <td>6300.000000</td>\n",
       "      <td>10.025440</td>\n",
       "      <td>-23.787670</td>\n",
       "    </tr>\n",
       "  </tbody>\n",
       "</table>\n",
       "</div>"
      ],
      "text/plain": [
       "       Unnamed: 0  Sample Number  Culmen Length (mm)  Culmen Depth (mm)  \\\n",
       "count  333.000000     333.000000          333.000000         333.000000   \n",
       "mean   172.303303      63.645646           43.992793          17.164865   \n",
       "std     97.346548      40.201308            5.468668           1.969235   \n",
       "min      0.000000       1.000000           32.100000          13.100000   \n",
       "25%     89.000000      30.000000           39.500000          15.600000   \n",
       "50%    172.000000      58.000000           44.500000          17.300000   \n",
       "75%    256.000000      95.000000           48.600000          18.700000   \n",
       "max    343.000000     152.000000           59.600000          21.500000   \n",
       "\n",
       "       Flipper Length (mm)  Body Mass (g)  Delta 15 N (o/oo)  \\\n",
       "count           333.000000     333.000000         324.000000   \n",
       "mean            200.966967    4207.057057           8.739944   \n",
       "std              14.015765     805.215802           0.552073   \n",
       "min             172.000000    2700.000000           7.632200   \n",
       "25%             190.000000    3550.000000           8.304440   \n",
       "50%             197.000000    4050.000000           8.658585   \n",
       "75%             213.000000    4775.000000           9.181477   \n",
       "max             231.000000    6300.000000          10.025440   \n",
       "\n",
       "       Delta 13 C (o/oo)  \n",
       "count         325.000000  \n",
       "mean          -25.682842  \n",
       "std             0.796629  \n",
       "min           -27.018540  \n",
       "25%           -26.326010  \n",
       "50%           -25.833520  \n",
       "75%           -25.041690  \n",
       "max           -23.787670  "
      ]
     },
     "execution_count": 8,
     "metadata": {},
     "output_type": "execute_result"
    }
   ],
   "source": [
    "penguins.describe()"
   ]
  },
  {
   "cell_type": "markdown",
   "id": "1e332ed3",
   "metadata": {},
   "source": [
    "However, sometimes we will encounter missing data in our dataframes. To get a sense of how many values are missing we can type *dataframe.isnull( ).sum( )*. As you can see in the example below, there are missing values for the last three variables, so this may impact the values we get when calculating sample statistics for those variables."
   ]
  },
  {
   "cell_type": "code",
   "execution_count": 10,
   "id": "76bc923c",
   "metadata": {},
   "outputs": [
    {
     "data": {
      "text/plain": [
       "Unnamed: 0               0\n",
       "studyName                0\n",
       "Sample Number            0\n",
       "Species                  0\n",
       "Region                   0\n",
       "Island                   0\n",
       "Stage                    0\n",
       "Individual ID            0\n",
       "Clutch Completion        0\n",
       "Date Egg                 0\n",
       "Culmen Length (mm)       0\n",
       "Culmen Depth (mm)        0\n",
       "Flipper Length (mm)      0\n",
       "Body Mass (g)            0\n",
       "Sex                      0\n",
       "Delta 15 N (o/oo)        9\n",
       "Delta 13 C (o/oo)        8\n",
       "Comments               313\n",
       "dtype: int64"
      ]
     },
     "execution_count": 10,
     "metadata": {},
     "output_type": "execute_result"
    }
   ],
   "source": [
    "penguins.isnull().sum()"
   ]
  },
  {
   "cell_type": "markdown",
   "id": "d8e4b58d",
   "metadata": {},
   "source": [
    "# Data Visualization\n",
    "Now that we have grasped how to summarize our data, let's try plotting it! In this section, we will introduce you to how to create graphs using the python libraries Matplotlib and Seaborn. In our extra material, you can also learn how to plot data using the pandas library. \n",
    "\n",
    "When building data visualizations, our first step is always to import the necessary libraries. You only need to load a library once per Jupyter notebook, but there is no harm in loading a library more than once in a notebook. After loading our libraries, we will need to either import our data or create our data. In this handout, we have already taught you how to import data from a .csv file and previously you learned how to create lists, dictionaries and dataframes. After gathering our data, we will learn how and what functions to use to create and customize our data visualizations."
   ]
  },
  {
   "cell_type": "markdown",
   "id": "466ac6a6",
   "metadata": {},
   "source": [
    "## Matplotlib and Seaborn\n",
    "Both Matplotlib and Seaborn are quite good for data visualization, however, the Seaborn library can help us to make more advanced statistical plots. Seaborn is an open source Python library and uses Matplotlib as a baselibrary to produce interactive and attractive data visualizations. To begin our data visualization practice, we will construct a line graph using functions only from the Matplotlib library. Gradually, we will add on more functions from both libraries. Let's get started!"
   ]
  },
  {
   "cell_type": "markdown",
   "id": "994bcf13",
   "metadata": {},
   "source": [
    "### Line Graph\n",
    "Let's begin by importing the Matplotlib library. After, we will use data from the penguins dataset to see a line representation of a single variable, and eventually, a second. The *plt.plot( )* function will do all of the actual plotting for us, and can contain the following options:\n",
    "\n",
    "**Structure for plt.plot():**\n",
    "+ x, y = dataset_name[\"variable_name\"]\n",
    "+ color = desired color of each line\n",
    "+ label = \"name of the plotted variable\"\n",
    "\n",
    "At the end of every new plot that we make, we will run the *plt.show( )* function to display the graph. Let's try it out for the variable \"Flipper Length (mm)\"."
   ]
  },
  {
   "cell_type": "code",
   "execution_count": 32,
   "id": "c7362cb2",
   "metadata": {},
   "outputs": [
    {
     "data": {
      "image/png": "[encoded data removed]",
      "text/plain": [
       "<Figure size 432x288 with 1 Axes>"
      ]
     },
     "metadata": {
      "needs_background": "light"
     },
     "output_type": "display_data"
    }
   ],
   "source": [
    "# Load libraries\n",
    "import matplotlib.pyplot as plt\n",
    "\n",
    "# Plot data\n",
    "plt.plot(penguins[\"Flipper Length (mm)\"])\n",
    "\n",
    "# Display plot\n",
    "plt.show()"
   ]
  },
  {
   "cell_type": "markdown",
   "id": "ae7f2f81",
   "metadata": {},
   "source": [
    "Great job! Don't worry if this graph looks kind of confusing right now. With time, we can gain more insight into what this plot is truly telling us. Now let us continue to add more details to our graph. In the matplotlib module, we can add a title to our graph by writing plt.title() and add labels using plt.xlabel for the x-axis and plt.ylabel for the y-axis. Additionally, we can color our line by assigning color within our plt.plot() function."
   ]
  },
  {
   "cell_type": "code",
   "execution_count": 37,
   "id": "f6c15731",
   "metadata": {},
   "outputs": [
    {
     "data": {
      "image/png": "[encoded data removed]",
      "text/plain": [
       "<Figure size 432x288 with 1 Axes>"
      ]
     },
     "metadata": {
      "needs_background": "light"
     },
     "output_type": "display_data"
    }
   ],
   "source": [
    "# Plot data and add color\n",
    "plt.plot(penguins[\"Flipper Length (mm)\"], color = 'blue')\n",
    "\n",
    "# Add label for the x-axis\n",
    "plt.xlabel(\"Sample Number\")\n",
    "\n",
    "# Add label for the y-axis\n",
    "plt.ylabel(\"Flipper Length (mm)\")\n",
    "\n",
    "# Add a title to the graph\n",
    "plt.title(\"Flipper Length (mm) of Penguins Dataset\")\n",
    "\n",
    "# Display plot\n",
    "plt.show()"
   ]
  },
  {
   "cell_type": "markdown",
   "id": "fc41b670",
   "metadata": {},
   "source": [
    "What if we wanted to add another line to make a multiple line graph? We complete roughly the same process, and add an additional set of data and one more plot command to see another line appear on this graph. Let's try it out!"
   ]
  },
  {
   "cell_type": "code",
   "execution_count": 38,
   "id": "c962b5bc",
   "metadata": {},
   "outputs": [
    {
     "data": {
      "image/png": "[encoded data removed]",
      "text/plain": [
       "<Figure size 432x288 with 1 Axes>"
      ]
     },
     "metadata": {
      "needs_background": "light"
     },
     "output_type": "display_data"
    }
   ],
   "source": [
    "# Load libraries\n",
    "import matplotlib.pyplot as plt\n",
    "\n",
    "# Plot first set and color it\n",
    "plt.plot(penguins[\"Flipper Length (mm)\"], color = 'blue')\n",
    "\n",
    "# Plot second set and color it\n",
    "plt.plot(penguins[\"Culmen Length (mm)\"], color = 'red')\n",
    "\n",
    "# Add label for the x-axis\n",
    "plt.xlabel(\"X-label\")\n",
    "\n",
    "# Add label for the y-axis\n",
    "plt.ylabel(\"Y-label\")\n",
    "\n",
    "# Add a title to the graph\n",
    "plt.title(\"Multiple Python Line Graph\")\n",
    "\n",
    "# Display the graph\n",
    "plt.show()"
   ]
  },
  {
   "cell_type": "markdown",
   "id": "3ac00a78",
   "metadata": {},
   "source": [
    "Given that we now have multiple lines on our line graph, it would be helpful to have a legend that distinguishes between the two lines. Luckily, we can use legend() and add some code to our plotting functions to create the legend labels."
   ]
  },
  {
   "cell_type": "code",
   "execution_count": 358,
   "id": "98690cd8",
   "metadata": {},
   "outputs": [
    {
     "data": {
      "image/png": "[encoded data removed]",
      "text/plain": [
       "<Figure size 432x288 with 1 Axes>"
      ]
     },
     "metadata": {
      "needs_background": "light"
     },
     "output_type": "display_data"
    }
   ],
   "source": [
    "# Load libraries\n",
    "import matplotlib.pyplot as plt\n",
    "\n",
    "# Create the first set of data\n",
    "x = [1,3,5, 7, 9, 11]\n",
    "y = [10, 25, 35, 33, 38, 59]\n",
    "\n",
    "# Plot first set and color it\n",
    "plt.plot(x, y, label = 'Series-1', color = 'blue')\n",
    "\n",
    "# Create the second set of data\n",
    "x = [2,4,6,8,10,12]\n",
    "y = [15, 29, 32, 33, 38,55]\n",
    "\n",
    "# Plot second set and color it\n",
    "plt.plot(x, y, label = 'Series-2', color = 'red')\n",
    "\n",
    "# Add label for the x-axis\n",
    "plt.xlabel(\"X-label\")\n",
    "\n",
    "# Add label for the y-axis\n",
    "plt.ylabel(\"Y-label\")\n",
    "\n",
    "# Add a title to the graph\n",
    "plt.title(\"Multiple Python Line Graph\")\n",
    "\n",
    "# Add a legend to the graph\n",
    "plt.legend()\n",
    "\n",
    "# Display the graph\n",
    "plt.show()"
   ]
  },
  {
   "cell_type": "markdown",
   "id": "117ade2e",
   "metadata": {},
   "source": [
    "### Bar plot\n",
    "Bar plots are another helpful data visualization that statisticians use to compare the values of various groups; they offer a relationship between a categorical and a continuous variable."
   ]
  },
  {
   "cell_type": "markdown",
   "id": "dc284215",
   "metadata": {},
   "source": [
    "Let's go back to the penguins dataset! However, we will be using a sub-dataframe that we have created for you, since we want to work with specific counts. It is possible to work directly with our original dataframe, nonetheless, for a barplot this requires data cleaning and wrangling, which is beyond the scope of this course."
   ]
  },
  {
   "cell_type": "code",
   "execution_count": 52,
   "id": "886f0983",
   "metadata": {
    "scrolled": true
   },
   "outputs": [
    {
     "data": {
      "text/html": [
       "<div>\n",
       "<style scoped>\n",
       "    .dataframe tbody tr th:only-of-type {\n",
       "        vertical-align: middle;\n",
       "    }\n",
       "\n",
       "    .dataframe tbody tr th {\n",
       "        vertical-align: top;\n",
       "    }\n",
       "\n",
       "    .dataframe thead th {\n",
       "        text-align: right;\n",
       "    }\n",
       "</style>\n",
       "<table border=\"1\" class=\"dataframe\">\n",
       "  <thead>\n",
       "    <tr style=\"text-align: right;\">\n",
       "      <th></th>\n",
       "      <th>Unnamed: 0</th>\n",
       "      <th>Species</th>\n",
       "      <th>Count</th>\n",
       "    </tr>\n",
       "  </thead>\n",
       "  <tbody>\n",
       "    <tr>\n",
       "      <th>0</th>\n",
       "      <td>0</td>\n",
       "      <td>Adelie Penguin</td>\n",
       "      <td>152</td>\n",
       "    </tr>\n",
       "    <tr>\n",
       "      <th>1</th>\n",
       "      <td>1</td>\n",
       "      <td>Chinstrap penguin</td>\n",
       "      <td>68</td>\n",
       "    </tr>\n",
       "    <tr>\n",
       "      <th>2</th>\n",
       "      <td>2</td>\n",
       "      <td>Gentoo penguin</td>\n",
       "      <td>124</td>\n",
       "    </tr>\n",
       "  </tbody>\n",
       "</table>\n",
       "</div>"
      ],
      "text/plain": [
       "   Unnamed: 0            Species  Count\n",
       "0           0     Adelie Penguin    152\n",
       "1           1  Chinstrap penguin     68\n",
       "2           2     Gentoo penguin    124"
      ]
     },
     "execution_count": 52,
     "metadata": {},
     "output_type": "execute_result"
    }
   ],
   "source": [
    "# Add libraries\n",
    "import matplotlib.pyplot as plt\n",
    "import seaborn as sns\n",
    "import pandas as pd\n",
    "\n",
    "# Import sub-Dataframe and look at it\n",
    "species_counts = pd.read_csv(\"penguins_counts.csv\")\n",
    "\n",
    "species_counts.head()"
   ]
  },
  {
   "cell_type": "markdown",
   "id": "9127182d",
   "metadata": {},
   "source": [
    "Now, as we are plotting a categorical variable and its counts, we will use a seaborn method called **catplot**. A catplot shows the relationship between a numerical and one or more categorical variables.\n",
    "\n",
    "**Arguments**: \n",
    "* data = dataframe\n",
    "* x = \"columnName\"; show each category from this variable\n",
    "* y = \"columnName\"; numerical values for the y axis (generally counts, but we can also display the mean for all values in one column)\n",
    "* kind = \"graphType\"; the type of graph we want to plot, in this case \"bar\""
   ]
  },
  {
   "cell_type": "code",
   "execution_count": 113,
   "id": "b75f4699",
   "metadata": {},
   "outputs": [
    {
     "data": {
      "image/png": "[encoded data removed]",
      "text/plain": [
       "<Figure size 360x360 with 1 Axes>"
      ]
     },
     "metadata": {
      "needs_background": "light"
     },
     "output_type": "display_data"
    }
   ],
   "source": [
    "# Add arguments to plot the catplot\n",
    "sns.catplot(data = species_counts, x = \"Species\", y =\"Count\", kind = \"bar\")\n",
    "\n",
    "# Show plot\n",
    "plt.show()"
   ]
  },
  {
   "cell_type": "markdown",
   "id": "545a263b",
   "metadata": {},
   "source": [
    "Similarly, if we do not have access to the sub-dataframe or we can't perform data cleaning, we can change the kind argumnet to \"count\".\n",
    "\n",
    "**Arguments**: \n",
    "* data = dataframe\n",
    "* x = \"columnName\"; count how many times each category is repeated\n",
    "* kind = \"graphType\"; the type of graph we want to plot, in this case \"count\"\n",
    "\n",
    "Note that we do not need the y parameter anymore since we are asking catplot to do the counts for us."
   ]
  },
  {
   "cell_type": "code",
   "execution_count": 87,
   "id": "d7d9c34f",
   "metadata": {},
   "outputs": [
    {
     "data": {
      "image/png": "[encoded data removed]",
      "text/plain": [
       "<Figure size 360x360 with 1 Axes>"
      ]
     },
     "metadata": {
      "needs_background": "light"
     },
     "output_type": "display_data"
    }
   ],
   "source": [
    "# Add arguments to plot the catplot\n",
    "sns.catplot(data = penguins, x = \"Species\", kind = \"count\")\n",
    "\n",
    "# Show plot\n",
    "plt.show()"
   ]
  },
  {
   "cell_type": "markdown",
   "id": "eba1aadd",
   "metadata": {},
   "source": [
    "### Histogram plot\n",
    "\n",
    "Histograms are a common way to visualize the distribution of a single numeric variable. Furthermore, it shows the probability distribution of a continuous variable, so we will certainly need to use these in our statistical analysis. Let's see how to make histograms using the histplot( ) method from seaborn.\n",
    "\n",
    "Here we will need to specify the desired row and bins.\n",
    "\n",
    "**Arguments:**\n",
    "* data = dataframe\n",
    "* x = \"columnName\" ; quantitative variable to display\n",
    "* bins = \"auto\" ; \"auto\" will choose the best bin edges\n"
   ]
  },
  {
   "cell_type": "code",
   "execution_count": 65,
   "id": "1d9665fb",
   "metadata": {},
   "outputs": [
    {
     "data": {
      "text/html": [
       "<div>\n",
       "<style scoped>\n",
       "    .dataframe tbody tr th:only-of-type {\n",
       "        vertical-align: middle;\n",
       "    }\n",
       "\n",
       "    .dataframe tbody tr th {\n",
       "        vertical-align: top;\n",
       "    }\n",
       "\n",
       "    .dataframe thead th {\n",
       "        text-align: right;\n",
       "    }\n",
       "</style>\n",
       "<table border=\"1\" class=\"dataframe\">\n",
       "  <thead>\n",
       "    <tr style=\"text-align: right;\">\n",
       "      <th></th>\n",
       "      <th>Unnamed: 0</th>\n",
       "      <th>studyName</th>\n",
       "      <th>Sample Number</th>\n",
       "      <th>Species</th>\n",
       "      <th>Region</th>\n",
       "      <th>Island</th>\n",
       "      <th>Stage</th>\n",
       "      <th>Individual ID</th>\n",
       "      <th>Clutch Completion</th>\n",
       "      <th>Date Egg</th>\n",
       "      <th>Culmen Length (mm)</th>\n",
       "      <th>Culmen Depth (mm)</th>\n",
       "      <th>Flipper Length (mm)</th>\n",
       "      <th>Body Mass (g)</th>\n",
       "      <th>Sex</th>\n",
       "      <th>Delta 15 N (o/oo)</th>\n",
       "      <th>Delta 13 C (o/oo)</th>\n",
       "      <th>Comments</th>\n",
       "    </tr>\n",
       "  </thead>\n",
       "  <tbody>\n",
       "    <tr>\n",
       "      <th>0</th>\n",
       "      <td>0</td>\n",
       "      <td>PAL0708</td>\n",
       "      <td>1</td>\n",
       "      <td>Adelie</td>\n",
       "      <td>Anvers</td>\n",
       "      <td>Torgersen</td>\n",
       "      <td>Adult, 1 Egg Stage</td>\n",
       "      <td>N1A1</td>\n",
       "      <td>Yes</td>\n",
       "      <td>11/11/07</td>\n",
       "      <td>39.1</td>\n",
       "      <td>18.7</td>\n",
       "      <td>181.0</td>\n",
       "      <td>3750.0</td>\n",
       "      <td>MALE</td>\n",
       "      <td>NaN</td>\n",
       "      <td>NaN</td>\n",
       "      <td>Not enough blood for isotopes.</td>\n",
       "    </tr>\n",
       "    <tr>\n",
       "      <th>1</th>\n",
       "      <td>1</td>\n",
       "      <td>PAL0708</td>\n",
       "      <td>2</td>\n",
       "      <td>Adelie</td>\n",
       "      <td>Anvers</td>\n",
       "      <td>Torgersen</td>\n",
       "      <td>Adult, 1 Egg Stage</td>\n",
       "      <td>N1A2</td>\n",
       "      <td>Yes</td>\n",
       "      <td>11/11/07</td>\n",
       "      <td>39.5</td>\n",
       "      <td>17.4</td>\n",
       "      <td>186.0</td>\n",
       "      <td>3800.0</td>\n",
       "      <td>FEMALE</td>\n",
       "      <td>8.94956</td>\n",
       "      <td>-24.69454</td>\n",
       "      <td>NaN</td>\n",
       "    </tr>\n",
       "    <tr>\n",
       "      <th>2</th>\n",
       "      <td>2</td>\n",
       "      <td>PAL0708</td>\n",
       "      <td>3</td>\n",
       "      <td>Adelie</td>\n",
       "      <td>Anvers</td>\n",
       "      <td>Torgersen</td>\n",
       "      <td>Adult, 1 Egg Stage</td>\n",
       "      <td>N2A1</td>\n",
       "      <td>Yes</td>\n",
       "      <td>11/16/07</td>\n",
       "      <td>40.3</td>\n",
       "      <td>18.0</td>\n",
       "      <td>195.0</td>\n",
       "      <td>3250.0</td>\n",
       "      <td>FEMALE</td>\n",
       "      <td>8.36821</td>\n",
       "      <td>-25.33302</td>\n",
       "      <td>NaN</td>\n",
       "    </tr>\n",
       "    <tr>\n",
       "      <th>3</th>\n",
       "      <td>4</td>\n",
       "      <td>PAL0708</td>\n",
       "      <td>5</td>\n",
       "      <td>Adelie</td>\n",
       "      <td>Anvers</td>\n",
       "      <td>Torgersen</td>\n",
       "      <td>Adult, 1 Egg Stage</td>\n",
       "      <td>N3A1</td>\n",
       "      <td>Yes</td>\n",
       "      <td>11/16/07</td>\n",
       "      <td>36.7</td>\n",
       "      <td>19.3</td>\n",
       "      <td>193.0</td>\n",
       "      <td>3450.0</td>\n",
       "      <td>FEMALE</td>\n",
       "      <td>8.76651</td>\n",
       "      <td>-25.32426</td>\n",
       "      <td>NaN</td>\n",
       "    </tr>\n",
       "    <tr>\n",
       "      <th>4</th>\n",
       "      <td>5</td>\n",
       "      <td>PAL0708</td>\n",
       "      <td>6</td>\n",
       "      <td>Adelie</td>\n",
       "      <td>Anvers</td>\n",
       "      <td>Torgersen</td>\n",
       "      <td>Adult, 1 Egg Stage</td>\n",
       "      <td>N3A2</td>\n",
       "      <td>Yes</td>\n",
       "      <td>11/16/07</td>\n",
       "      <td>39.3</td>\n",
       "      <td>20.6</td>\n",
       "      <td>190.0</td>\n",
       "      <td>3650.0</td>\n",
       "      <td>MALE</td>\n",
       "      <td>8.66496</td>\n",
       "      <td>-25.29805</td>\n",
       "      <td>NaN</td>\n",
       "    </tr>\n",
       "  </tbody>\n",
       "</table>\n",
       "</div>"
      ],
      "text/plain": [
       "   Unnamed: 0 studyName  Sample Number Species  Region     Island  \\\n",
       "0           0   PAL0708              1  Adelie  Anvers  Torgersen   \n",
       "1           1   PAL0708              2  Adelie  Anvers  Torgersen   \n",
       "2           2   PAL0708              3  Adelie  Anvers  Torgersen   \n",
       "3           4   PAL0708              5  Adelie  Anvers  Torgersen   \n",
       "4           5   PAL0708              6  Adelie  Anvers  Torgersen   \n",
       "\n",
       "                Stage Individual ID Clutch Completion  Date Egg  \\\n",
       "0  Adult, 1 Egg Stage          N1A1               Yes  11/11/07   \n",
       "1  Adult, 1 Egg Stage          N1A2               Yes  11/11/07   \n",
       "2  Adult, 1 Egg Stage          N2A1               Yes  11/16/07   \n",
       "3  Adult, 1 Egg Stage          N3A1               Yes  11/16/07   \n",
       "4  Adult, 1 Egg Stage          N3A2               Yes  11/16/07   \n",
       "\n",
       "   Culmen Length (mm)  Culmen Depth (mm)  Flipper Length (mm)  Body Mass (g)  \\\n",
       "0                39.1               18.7                181.0         3750.0   \n",
       "1                39.5               17.4                186.0         3800.0   \n",
       "2                40.3               18.0                195.0         3250.0   \n",
       "3                36.7               19.3                193.0         3450.0   \n",
       "4                39.3               20.6                190.0         3650.0   \n",
       "\n",
       "      Sex  Delta 15 N (o/oo)  Delta 13 C (o/oo)  \\\n",
       "0    MALE                NaN                NaN   \n",
       "1  FEMALE            8.94956          -24.69454   \n",
       "2  FEMALE            8.36821          -25.33302   \n",
       "3  FEMALE            8.76651          -25.32426   \n",
       "4    MALE            8.66496          -25.29805   \n",
       "\n",
       "                         Comments  \n",
       "0  Not enough blood for isotopes.  \n",
       "1                             NaN  \n",
       "2                             NaN  \n",
       "3                             NaN  \n",
       "4                             NaN  "
      ]
     },
     "execution_count": 65,
     "metadata": {},
     "output_type": "execute_result"
    }
   ],
   "source": [
    "penguins.head()"
   ]
  },
  {
   "cell_type": "markdown",
   "id": "5d660158",
   "metadata": {},
   "source": [
    "## Density plot"
   ]
  },
  {
   "cell_type": "markdown",
   "id": "181480fb",
   "metadata": {},
   "source": [
    "Let's look at our data again."
   ]
  },
  {
   "cell_type": "code",
   "execution_count": null,
   "id": "e814f214",
   "metadata": {},
   "outputs": [],
   "source": [
    "penguins.head() "
   ]
  },
  {
   "cell_type": "markdown",
   "id": "3c964841",
   "metadata": {},
   "source": [
    "Density plots will help us visualize how quantitative variables are distributed. In order to graph this, we will use sns.displot. First, we will visualize the density for culmen depth.\n",
    "\n",
    "**Arguments:**\n",
    "* data = dataframe\n",
    "* x = \"columnName\" ; quantitative variable to display\n",
    "* kind = \"graphName\" ; the type of graph we're using; for our purposes \"kde\" (short for kernel distribution estimate)"
   ]
  },
  {
   "cell_type": "code",
   "execution_count": 74,
   "id": "9d1f739d",
   "metadata": {},
   "outputs": [
    {
     "data": {
      "image/png": "[encoded data removed]",
      "text/plain": [
       "<Figure size 360x360 with 1 Axes>"
      ]
     },
     "metadata": {
      "needs_background": "light"
     },
     "output_type": "display_data"
    }
   ],
   "source": [
    "# Add arguments to plot the density plot\n",
    "sns.displot(data = penguins, x = \"Culmen Depth (mm)\", kind=\"kde\")\n",
    "\n",
    "# Show plot\n",
    "plt.show()"
   ]
  },
  {
   "cell_type": "code",
   "execution_count": 68,
   "id": "b9857323",
   "metadata": {
    "scrolled": true
   },
   "outputs": [
    {
     "data": {
      "image/png": "[encoded data removed]",
      "text/plain": [
       "<Figure size 432x288 with 1 Axes>"
      ]
     },
     "metadata": {
      "needs_background": "light"
     },
     "output_type": "display_data"
    }
   ],
   "source": [
    "# Add arguments to plot the histogram\n",
    "sns.histplot(data = penguins, x = \"Culmen Length (mm)\", bins = \"auto\")\n",
    "\n",
    "# Label axis\n",
    "plt.xlabel(\"Culmen Length (mm)\")\n",
    "plt.ylabel(\"Frequency\")\n",
    "\n",
    "# Add title\n",
    "plt.title(\"Culmen Length Distribution\")\n",
    "\n",
    "# Show plot\n",
    "plt.show()"
   ]
  },
  {
   "cell_type": "markdown",
   "id": "0373ee41",
   "metadata": {},
   "source": [
    "# Summary\n",
    "\n",
    "In this section, you have learned how to calculate some basic summary statistics, as well as how to create common plots. They will serve you well as you explore data with Jupyter. To recap, here are the concepts that we covered:\n",
    "\n",
    "Summary statistics:\n",
    "- Mean\n",
    "- Median\n",
    "- Mode\n",
    "- Max, Min, and Range\n",
    "- IQR\n",
    "- Variance\n",
    "- Standard deviation\n",
    "- Correlation coefficient\n",
    "\n",
    "Plots:\n",
    "- Line\n",
    "- Bar\n",
    "- Pie\n",
    "- Histogram\n",
    "- Density"
   ]
  },
  {
   "cell_type": "markdown",
   "id": "f850283f",
   "metadata": {},
   "source": [
    "# Tips\n",
    "\n",
    "As you practice the skills learned in this section, please keep in mind the following suggestions:\n",
    "+ Summary functions, by default, will take the whole data frame and calculate by column.\n",
    "+ Always remember to load the necessary libraries.\n",
    "+ Name your variables, dataframes, and labels helpful and informative titles.\n",
    "+ If you get stuck, use the help documentation that you learned in our previous lecture to help you troubleshoot!\n",
    "+ If you want extra material on univariate exploratory data analysis, check out the extra material posted on our repo!"
   ]
  },
  {
   "cell_type": "markdown",
   "id": "ac666967",
   "metadata": {},
   "source": [
    "# References\n",
    "Main resources that we used to build this material:\n",
    "\n",
    "* Navlani, Avinash, Armando Fandango, and Ivan Idris. 2021. Python Data Analysis. Third Edition. Birmingham: Packt Publishing.\n",
    "\n",
    "* Python Data Analysis - Third Edition. (2019). Jupyter Notebook. Packt. https://github.com/PacktPublishing/Python-Data-Analysis-Third-Edition/blob/e1cd8029a1830fe5ecc86379ab361d215e71f036/Chapter05/HR_comma_sep.csv. Accessed July 7, 2022.\n",
    "\n",
    "* Numpy documentation: https://numpy.org/doc/\n",
    "\n",
    "* Pandas documentation: https://pandas.pydata.org/docs/\n",
    "\n",
    "* Seaborn documentation: https://seaborn.pydata.org/tutorial.html \n",
    "\n",
    "* Statistics documentation: https://docs.python.org/3/library/statistics.html\n",
    "\n",
    "Although the documentations are often very comprehensive, they are also quite difficult to navigate and find what you need. These websites are simpler, more user-friendly alternatives:\n",
    "\n",
    "* GeeksforGeeks: https://www.geeksforgeeks.org/python-programming-language/\n",
    "\n",
    "* W3schools: https://www.w3schools.com/python/"
   ]
  }
 ],
 "metadata": {
  "kernelspec": {
   "display_name": "Python 3 (ipykernel)",
   "language": "python",
   "name": "python3"
  },
  "language_info": {
   "codemirror_mode": {
    "name": "ipython",
    "version": 3
   },
   "file_extension": ".py",
   "mimetype": "text/x-python",
   "name": "python",
   "nbconvert_exporter": "python",
   "pygments_lexer": "ipython3",
   "version": "3.9.12"
  }
 },
 "nbformat": 4,
 "nbformat_minor": 5
}
