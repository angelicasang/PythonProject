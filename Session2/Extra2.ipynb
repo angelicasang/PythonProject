{
 "cells": [
  {
   "cell_type": "markdown",
   "id": "366e1cfb",
   "metadata": {},
   "source": [
    "# Extra Material for Lesson 2\n",
    "Congratulations on completing the second lesson in our series about Python for Introductory Statistics. We hope that you were able to learn a lot, and within this Jupyter notebook you will find even more information about how Python can help you perform univariate exploratory data analysis. Kudos to you for going the extra mile to take on new challenges in this coding language. As always, please refer back to the techniques for getting help that we introduced you to in Lessone One if you get stuck. Happy learning!"
   ]
  },
  {
   "cell_type": "code",
   "execution_count": 3,
   "id": "75dff71f",
   "metadata": {},
   "outputs": [],
   "source": [
    "# Adding all libraries needed for this notebook\n",
    "import pandas as pd\n",
    "import matplotlib.pyplot as plt\n",
    "import seaborn as sns"
   ]
  },
  {
   "cell_type": "markdown",
   "id": "5daa413b",
   "metadata": {},
   "source": [
    "### Frequency Tables\n",
    "To begin our extra material, we will show you how you can make a frequency table starting with a dictionary that you are creating for yourself. Let's create a new dataframe using the same method that you learned in the first lesson! We will begin by creating a dictionary and then we will use the pandas **DataFrame( )** function to convert our dictionary into a dataframe."
   ]
  },
  {
   "cell_type": "code",
   "execution_count": 2,
   "id": "96fca7fd",
   "metadata": {
    "scrolled": true
   },
   "outputs": [
    {
     "name": "stdout",
     "output_type": "stream",
     "text": [
      "  name gender state  gpa\n",
      "0    A      M    MA  3.9\n",
      "1    B      F    NY  3.7\n",
      "2    C      F    NH  3.0\n",
      "3    D      M    MA  4.0\n",
      "4    E      F    NY  3.3\n",
      "5    G      F    LA  3.7\n"
     ]
    }
   ],
   "source": [
    "# Making our own dictionary\n",
    "students_raw = {\"name\" : [\"A\", \"B\", \"C\", \"D\", \"E\", \"G\"],\n",
    "       \"gender\": [\"M\",\"F\", \"F\", \"M\", \"F\", \"F\"],\n",
    "       \"state\": [\"MA\", \"NY\", \"NH\", \"MA\", \"NY\", \"LA\"],\n",
    "       \"gpa\": [3.9, 3.7, 3.0, 4.0, 3.3, 3.7]}\n",
    "\n",
    "# Create a dataframe using the above dictionary\n",
    "students_pd = pd.DataFrame(students_raw)\n",
    "\n",
    "# Print the data\n",
    "print(students_pd)"
   ]
  },
  {
   "cell_type": "markdown",
   "id": "32e6f6be",
   "metadata": {},
   "source": [
    "Let's say that we want to create a frequency table of states. To do so, we will assign our frequency table to a name and then select the variable from our dataframe to be counted. With the function, *value_counts( )* Python will count the frequency of every unique value in this variable for us.\n",
    "\n",
    "**Structure:**\n",
    "+ dataframe_name = data[\"column_name\"].value_counts()"
   ]
  },
  {
   "cell_type": "code",
   "execution_count": 3,
   "id": "fcf0f499",
   "metadata": {},
   "outputs": [
    {
     "name": "stdout",
     "output_type": "stream",
     "text": [
      "MA    2\n",
      "NY    2\n",
      "NH    1\n",
      "LA    1\n",
      "Name: state, dtype: int64\n"
     ]
    }
   ],
   "source": [
    "# Assign our frequency table\n",
    "freq_one = students_pd[\"state\"].value_counts()\n",
    "\n",
    "# Display the table\n",
    "print(freq_one)"
   ]
  },
  {
   "cell_type": "markdown",
   "id": "8f7a31db",
   "metadata": {},
   "source": [
    "Realistically speaking, though, we would generally work with bigger dataframes!"
   ]
  },
  {
   "cell_type": "markdown",
   "id": "36a31775",
   "metadata": {},
   "source": [
    "### Pie plot\n",
    "\n",
    "We can follow a similar process as the rest of our data visualizations to create pie plots which are great for visualizing proportions of a whole. The method pie( ) from the matplotlib library will help us create these graphs. We will plot the data by specifying which values will be compared in the pie chart dataframe[\"columnName\"], then  signal the labels (the name for each slice) by typing labels = dataframe[\"columnName\"]. \n",
    "\n",
    "**Structure:**\n",
    "+ data = dataframe_name[\"variable_name\"]\n",
    "+ labels = names of penguin species\n",
    "+ shadow = draws a shadow beneath the pie chart\n",
    "+ startangle = angle by which the start of the pie is rotated\n",
    "\n",
    "We will begin by converting a frequency table into a pandas dataframe using the penguins dataset."
   ]
  },
  {
   "cell_type": "code",
   "execution_count": 9,
   "id": "c8cebae4",
   "metadata": {},
   "outputs": [
    {
     "data": {
      "text/html": [
       "<div>\n",
       "<style scoped>\n",
       "    .dataframe tbody tr th:only-of-type {\n",
       "        vertical-align: middle;\n",
       "    }\n",
       "\n",
       "    .dataframe tbody tr th {\n",
       "        vertical-align: top;\n",
       "    }\n",
       "\n",
       "    .dataframe thead th {\n",
       "        text-align: right;\n",
       "    }\n",
       "</style>\n",
       "<table border=\"1\" class=\"dataframe\">\n",
       "  <thead>\n",
       "    <tr style=\"text-align: right;\">\n",
       "      <th></th>\n",
       "      <th>Species</th>\n",
       "    </tr>\n",
       "  </thead>\n",
       "  <tbody>\n",
       "    <tr>\n",
       "      <th>Adelie</th>\n",
       "      <td>146</td>\n",
       "    </tr>\n",
       "    <tr>\n",
       "      <th>Gentoo</th>\n",
       "      <td>119</td>\n",
       "    </tr>\n",
       "    <tr>\n",
       "      <th>Chinstrap</th>\n",
       "      <td>68</td>\n",
       "    </tr>\n",
       "  </tbody>\n",
       "</table>\n",
       "</div>"
      ],
      "text/plain": [
       "           Species\n",
       "Adelie         146\n",
       "Gentoo         119\n",
       "Chinstrap       68"
      ]
     },
     "execution_count": 9,
     "metadata": {},
     "output_type": "execute_result"
    }
   ],
   "source": [
    "# Load penguins dataset\n",
    "penguins = pd.read_csv(\"penguins_wrangled.csv\")\n",
    "\n",
    "# Create a frequency table of species\n",
    "species_counts = penguins[\"Species\"].value_counts()\n",
    "\n",
    "# Create a dataframe of this frequency table\n",
    "species_counts = pd.DataFrame(species_counts)\n",
    "\n",
    "# Take a look at the data\n",
    "species_counts.head()"
   ]
  },
  {
   "cell_type": "code",
   "execution_count": 22,
   "id": "8d70ec7c",
   "metadata": {},
   "outputs": [
    {
     "data": {
      "image/png": "[encoded data removed]",
      "text/plain": [
       "<Figure size 432x288 with 1 Axes>"
      ]
     },
     "metadata": {},
     "output_type": "display_data"
    }
   ],
   "source": [
    "# Plot the data\n",
    "plt.pie(species_counts[\"Species\"], \n",
    "        labels = [\"Adelie\", \"Gentoo\", \"Chinstrap\"],\n",
    "        shadow=True, \n",
    "        startangle=140)\n",
    "\n",
    "# Add title\n",
    "plt.title(\"Species\")\n",
    "\n",
    "# Display the chart\n",
    "plt.show()"
   ]
  },
  {
   "cell_type": "markdown",
   "id": "5fd7157a",
   "metadata": {},
   "source": [
    "# Pandas plotting\n",
    "\n",
    "In Lesson 2, we teach you how to plot data visualizations using Matplotlib and Seaborn, but we can also do a lot of plotting using the pandas library. We can directly plot pandas data frames by using the plot( ) method which works similarly to the plot( ) method in the Matplotlib library. The difference is that the plot( ) method from pandas also coders to create plots directly on pandas dataframes, insetad of having to specify the data within the parentheses. Inside the parentheses we can include a wide variety of parameters, but we will be mainly using the following:\n",
    "\n",
    "* **kind** : (String) Used to indicate the type of graph. Line, hist, box, density, scatter, etc.\n",
    "* **x** : (String)/ Name of the column to be used.\n",
    "* **y** : (String) Name of the coumn to be used.\n",
    "* **figsize** = (Tuple) Used to indicate the size (width, height).\n",
    "* **title** = (String) Defines the graph\"s title.\n",
    "* **color** = (String) Indicates the graph\"s color.\n",
    "* **xlabel** = (String) Indicates the x axis\" title.\n",
    "* **ylabel** = (String) Indicates the y axis\" title."
   ]
  },
  {
   "cell_type": "code",
   "execution_count": 5,
   "id": "3b8304f9",
   "metadata": {},
   "outputs": [
    {
     "data": {
      "text/html": [
       "<div>\n",
       "<style scoped>\n",
       "    .dataframe tbody tr th:only-of-type {\n",
       "        vertical-align: middle;\n",
       "    }\n",
       "\n",
       "    .dataframe tbody tr th {\n",
       "        vertical-align: top;\n",
       "    }\n",
       "\n",
       "    .dataframe thead th {\n",
       "        text-align: right;\n",
       "    }\n",
       "</style>\n",
       "<table border=\"1\" class=\"dataframe\">\n",
       "  <thead>\n",
       "    <tr style=\"text-align: right;\">\n",
       "      <th></th>\n",
       "      <th>Month</th>\n",
       "      <th>Temperature (celsius)</th>\n",
       "      <th>Rain Probability (%)</th>\n",
       "    </tr>\n",
       "  </thead>\n",
       "  <tbody>\n",
       "    <tr>\n",
       "      <th>0</th>\n",
       "      <td>Jun</td>\n",
       "      <td>29</td>\n",
       "      <td>31</td>\n",
       "    </tr>\n",
       "    <tr>\n",
       "      <th>1</th>\n",
       "      <td>Jul</td>\n",
       "      <td>30</td>\n",
       "      <td>40</td>\n",
       "    </tr>\n",
       "    <tr>\n",
       "      <th>2</th>\n",
       "      <td>Aug</td>\n",
       "      <td>27</td>\n",
       "      <td>33</td>\n",
       "    </tr>\n",
       "    <tr>\n",
       "      <th>3</th>\n",
       "      <td>Sept</td>\n",
       "      <td>26</td>\n",
       "      <td>15</td>\n",
       "    </tr>\n",
       "    <tr>\n",
       "      <th>4</th>\n",
       "      <td>Oct</td>\n",
       "      <td>22</td>\n",
       "      <td>19</td>\n",
       "    </tr>\n",
       "  </tbody>\n",
       "</table>\n",
       "</div>"
      ],
      "text/plain": [
       "  Month  Temperature (celsius)  Rain Probability (%)\n",
       "0   Jun                     29                    31\n",
       "1   Jul                     30                    40\n",
       "2   Aug                     27                    33\n",
       "3  Sept                     26                    15\n",
       "4   Oct                     22                    19"
      ]
     },
     "execution_count": 5,
     "metadata": {},
     "output_type": "execute_result"
    }
   ],
   "source": [
    "# Create a dictionary\n",
    "sample_monthly_stats = { \"Month\": [\"Jun\", \"Jul\", \"Aug\", \"Sept\", \"Oct\"],\n",
    "    \"Temperature (celsius)\": [29, 30, 27, 26, 22],\n",
    "    \"Rain Probability (%)\": [31, 40, 33, 15, 19]}\n",
    "\n",
    "# Create a dataframe from this dictionary\n",
    "sample_monthly_stats_pd = pd.DataFrame(sample_monthly_stats, \n",
    "                                       columns = [\"Month\", \"Temperature (celsius)\", \"Rain Probability (%)\"])\n",
    "\n",
    "# Look at the dataframe\n",
    "sample_monthly_stats_pd"
   ]
  },
  {
   "cell_type": "markdown",
   "id": "6805bbf3",
   "metadata": {},
   "source": [
    "Now that we have our data, let's begin making our plot directly from our dataframe. As a good practice, we will continue making use of matplotlib.pyplot's function show() to display our graph. However, due to Jupyter being interactive, just by making use of plot() we will be able to see our graph. "
   ]
  },
  {
   "cell_type": "code",
   "execution_count": 8,
   "id": "d7afb450",
   "metadata": {},
   "outputs": [
    {
     "data": {
      "image/png": "[encoded data removed]",
      "text/plain": [
       "<Figure size 432x288 with 1 Axes>"
      ]
     },
     "metadata": {
      "needs_background": "light"
     },
     "output_type": "display_data"
    }
   ],
   "source": [
    "# Plot the data\n",
    "sample_monthly_stats_pd.plot(title = \"Average temperature per month\", \n",
    "                             kind = \"line\", x = \"Month\",\n",
    "                             y = \"Temperature (celsius)\", \n",
    "                             color = \"green\", xlabel = \"Month\",\n",
    "                             ylabel = \"Temperature (Celsius)\")\n",
    "\n",
    "# Display the graph\n",
    "plt.show()"
   ]
  },
  {
   "cell_type": "markdown",
   "id": "28ffd49e",
   "metadata": {},
   "source": [
    "### Density Plot\n",
    "Now let's continue plotting with pandas, but let's begin working with a dataset with health information from the World Health Organization on 202 countries. Let's take a look at our data!"
   ]
  },
  {
   "cell_type": "code",
   "execution_count": 4,
   "id": "7e33813e",
   "metadata": {},
   "outputs": [
    {
     "data": {
      "text/html": [
       "<div>\n",
       "<style scoped>\n",
       "    .dataframe tbody tr th:only-of-type {\n",
       "        vertical-align: middle;\n",
       "    }\n",
       "\n",
       "    .dataframe tbody tr th {\n",
       "        vertical-align: top;\n",
       "    }\n",
       "\n",
       "    .dataframe thead th {\n",
       "        text-align: right;\n",
       "    }\n",
       "</style>\n",
       "<table border=\"1\" class=\"dataframe\">\n",
       "  <thead>\n",
       "    <tr style=\"text-align: right;\">\n",
       "      <th></th>\n",
       "      <th>Country</th>\n",
       "      <th>CountryID</th>\n",
       "      <th>Continent</th>\n",
       "      <th>Adolescent fertility rate (%)</th>\n",
       "      <th>Adult literacy rate (%)</th>\n",
       "      <th>Gross national income per capita (PPP international $)</th>\n",
       "      <th>Net primary school enrolment ratio female (%)</th>\n",
       "      <th>Net primary school enrolment ratio male (%)</th>\n",
       "      <th>Population (in thousands) total</th>\n",
       "    </tr>\n",
       "  </thead>\n",
       "  <tbody>\n",
       "    <tr>\n",
       "      <th>0</th>\n",
       "      <td>Afghanistan</td>\n",
       "      <td>1</td>\n",
       "      <td>1</td>\n",
       "      <td>151.0</td>\n",
       "      <td>28.0</td>\n",
       "      <td>NaN</td>\n",
       "      <td>NaN</td>\n",
       "      <td>NaN</td>\n",
       "      <td>26088.0</td>\n",
       "    </tr>\n",
       "    <tr>\n",
       "      <th>1</th>\n",
       "      <td>Albania</td>\n",
       "      <td>2</td>\n",
       "      <td>2</td>\n",
       "      <td>27.0</td>\n",
       "      <td>98.7</td>\n",
       "      <td>6000.0</td>\n",
       "      <td>93.0</td>\n",
       "      <td>94.0</td>\n",
       "      <td>3172.0</td>\n",
       "    </tr>\n",
       "    <tr>\n",
       "      <th>2</th>\n",
       "      <td>Algeria</td>\n",
       "      <td>3</td>\n",
       "      <td>3</td>\n",
       "      <td>6.0</td>\n",
       "      <td>69.9</td>\n",
       "      <td>5940.0</td>\n",
       "      <td>94.0</td>\n",
       "      <td>96.0</td>\n",
       "      <td>33351.0</td>\n",
       "    </tr>\n",
       "    <tr>\n",
       "      <th>3</th>\n",
       "      <td>Andorra</td>\n",
       "      <td>4</td>\n",
       "      <td>2</td>\n",
       "      <td>NaN</td>\n",
       "      <td>NaN</td>\n",
       "      <td>NaN</td>\n",
       "      <td>83.0</td>\n",
       "      <td>83.0</td>\n",
       "      <td>74.0</td>\n",
       "    </tr>\n",
       "    <tr>\n",
       "      <th>4</th>\n",
       "      <td>Angola</td>\n",
       "      <td>5</td>\n",
       "      <td>3</td>\n",
       "      <td>146.0</td>\n",
       "      <td>67.4</td>\n",
       "      <td>3890.0</td>\n",
       "      <td>49.0</td>\n",
       "      <td>51.0</td>\n",
       "      <td>16557.0</td>\n",
       "    </tr>\n",
       "  </tbody>\n",
       "</table>\n",
       "</div>"
      ],
      "text/plain": [
       "       Country  CountryID  Continent  Adolescent fertility rate (%)  \\\n",
       "0  Afghanistan          1          1                          151.0   \n",
       "1      Albania          2          2                           27.0   \n",
       "2      Algeria          3          3                            6.0   \n",
       "3      Andorra          4          2                            NaN   \n",
       "4       Angola          5          3                          146.0   \n",
       "\n",
       "   Adult literacy rate (%)  \\\n",
       "0                     28.0   \n",
       "1                     98.7   \n",
       "2                     69.9   \n",
       "3                      NaN   \n",
       "4                     67.4   \n",
       "\n",
       "   Gross national income per capita (PPP international $)  \\\n",
       "0                                                NaN        \n",
       "1                                             6000.0        \n",
       "2                                             5940.0        \n",
       "3                                                NaN        \n",
       "4                                             3890.0        \n",
       "\n",
       "   Net primary school enrolment ratio female (%)  \\\n",
       "0                                            NaN   \n",
       "1                                           93.0   \n",
       "2                                           94.0   \n",
       "3                                           83.0   \n",
       "4                                           49.0   \n",
       "\n",
       "   Net primary school enrolment ratio male (%)  \\\n",
       "0                                          NaN   \n",
       "1                                         94.0   \n",
       "2                                         96.0   \n",
       "3                                         83.0   \n",
       "4                                         51.0   \n",
       "\n",
       "   Population (in thousands) total  \n",
       "0                          26088.0  \n",
       "1                           3172.0  \n",
       "2                          33351.0  \n",
       "3                             74.0  \n",
       "4                          16557.0  "
      ]
     },
     "execution_count": 4,
     "metadata": {},
     "output_type": "execute_result"
    }
   ],
   "source": [
    "# Read in the data\n",
    "who_data = pd.read_csv(\"WHO_first9cols.csv\")\n",
    "\n",
    "# Glimpse the dataset\n",
    "who_data.head()"
   ]
  },
  {
   "cell_type": "markdown",
   "id": "d2611edb",
   "metadata": {},
   "source": [
    "Great work! Now let's make a density plot to describe the variable *Adolescent fertility rate (%)* following the same structure that we used to make our line plot above with pandas. "
   ]
  },
  {
   "cell_type": "code",
   "execution_count": 11,
   "id": "4a32705d",
   "metadata": {},
   "outputs": [
    {
     "data": {
      "image/png": "[encoded data removed]",
      "text/plain": [
       "<Figure size 432x288 with 1 Axes>"
      ]
     },
     "metadata": {
      "needs_background": "light"
     },
     "output_type": "display_data"
    }
   ],
   "source": [
    "# Create a density plot\n",
    "who_data.plot(kind = \"density\", y = \"Adolescent fertility rate (%)\")\n",
    "\n",
    "# Display the graph\n",
    "plt.show()"
   ]
  },
  {
   "cell_type": "markdown",
   "id": "01a80c9d",
   "metadata": {},
   "source": [
    "The density plot informs us that the quantitative variable *Adolescent fertility rate (%)* is strongly skewed right and centered around 50. We can verify that the median adolescent fertility rate (%) is near 50 by calculating the mean using pandas which we also learned in Lesson 2."
   ]
  },
  {
   "cell_type": "code",
   "execution_count": 12,
   "id": "2337f7ba",
   "metadata": {},
   "outputs": [
    {
     "data": {
      "text/plain": [
       "46.0"
      ]
     },
     "execution_count": 12,
     "metadata": {},
     "output_type": "execute_result"
    }
   ],
   "source": [
    "# Calculate the median for adolescent fertility\n",
    "who_data[\"Adolescent fertility rate (%)\"].median()"
   ]
  },
  {
   "cell_type": "markdown",
   "id": "5cfa2c7c",
   "metadata": {},
   "source": [
    "###  Box plot\n",
    "We can also create box plots using pandas to learn more about the distribution of the quantitatve variable *Adolescent fertility rate (%)*. All we have to do is change the *kind* option to be equal to \"box\"."
   ]
  },
  {
   "cell_type": "code",
   "execution_count": 13,
   "id": "a91567b2",
   "metadata": {},
   "outputs": [
    {
     "data": {
      "text/plain": [
       "<AxesSubplot:>"
      ]
     },
     "execution_count": 13,
     "metadata": {},
     "output_type": "execute_result"
    },
    {
     "data": {
      "image/png": "[encoded data removed]",
      "text/plain": [
       "<Figure size 432x288 with 1 Axes>"
      ]
     },
     "metadata": {
      "needs_background": "light"
     },
     "output_type": "display_data"
    }
   ],
   "source": [
    "# Create a box plot\n",
    "who_data.plot(kind = \"box\", y = \"Adolescent fertility rate (%)\")"
   ]
  },
  {
   "cell_type": "markdown",
   "id": "4b2441a6",
   "metadata": {},
   "source": [
    "Using the describe( ) function that we introduced in lesson two, we can also get a numerical breakdown of this variable to confirm that our boxplot is drawing the correct values."
   ]
  },
  {
   "cell_type": "code",
   "execution_count": 14,
   "id": "c4914ddf",
   "metadata": {},
   "outputs": [
    {
     "data": {
      "text/plain": [
       "count    177.000000\n",
       "mean      59.457627\n",
       "std       49.105286\n",
       "min        0.000000\n",
       "25%       19.000000\n",
       "50%       46.000000\n",
       "75%       91.000000\n",
       "max      199.000000\n",
       "Name: Adolescent fertility rate (%), dtype: float64"
      ]
     },
     "execution_count": 14,
     "metadata": {},
     "output_type": "execute_result"
    }
   ],
   "source": [
    "# Obtain summary statistics for adolescent fertility\n",
    "who_data[\"Adolescent fertility rate (%)\"].describe()"
   ]
  },
  {
   "cell_type": "markdown",
   "id": "f2ebb945",
   "metadata": {},
   "source": [
    "### Histogram\n",
    "The last plot that we will demonstrate how to create using pandas is a histogram, but feel free to explore all of the others ways to produce data visualizations in the pandas documentation. Using the same structure as the above plots, we will again investigate the quantitative variable *Adolescent fertility rate (%)* through a histogram. Do note that pandas will automatically choose a bin size for you if you do not specify it."
   ]
  },
  {
   "cell_type": "code",
   "execution_count": 17,
   "id": "e5c75f8a",
   "metadata": {},
   "outputs": [
    {
     "data": {
      "image/png": "[encoded data removed]",
      "text/plain": [
       "<Figure size 432x288 with 1 Axes>"
      ]
     },
     "metadata": {
      "needs_background": "light"
     },
     "output_type": "display_data"
    }
   ],
   "source": [
    "# Create a histogram\n",
    "who_data[\"Adolescent fertility rate (%)\"].plot(kind = \"hist\")\n",
    "\n",
    "# Display the plot\n",
    "plt.show()"
   ]
  },
  {
   "cell_type": "code",
   "execution_count": 100,
   "id": "683204ce",
   "metadata": {},
   "outputs": [
    {
     "data": {
      "text/plain": [
       "<AxesSubplot:ylabel='Frequency'>"
      ]
     },
     "execution_count": 100,
     "metadata": {},
     "output_type": "execute_result"
    },
    {
     "data": {
      "image/png": "[encoded data removed]",
      "text/plain": [
       "<Figure size 432x288 with 1 Axes>"
      ]
     },
     "metadata": {
      "needs_background": "light"
     },
     "output_type": "display_data"
    }
   ],
   "source": [
    "# Practice changing the number of bins by adding the bins option\n",
    "who_data[\"Adolescent fertility rate (%)\"].plot(kind = \"hist\", bins = [0, 50, 100, 150, 200])\n",
    "\n",
    "# Display the plot\n",
    "plt.show()"
   ]
  },
  {
   "cell_type": "markdown",
   "id": "62226f05",
   "metadata": {},
   "source": [
    "## More plotting in seaborn!\n",
    "### Distribution plot\n",
    "To plot a univariate distribution of variables, we can also make distribution (or density) plots with Seaborn. Distribution plots combine a histogram with a default bin size and a Kernel Density Estimation (KDE) or density plot, and the function *histplot( )* creates an axes-level function for histograms. Using the WHO dataset, let's try to make a distribution plot for the variable *Adolescent fertility rate (%)*!"
   ]
  },
  {
   "cell_type": "code",
   "execution_count": 10,
   "id": "a825a52d",
   "metadata": {},
   "outputs": [
    {
     "data": {
      "image/png": "[encoded data removed]",
      "text/plain": [
       "<Figure size 432x288 with 1 Axes>"
      ]
     },
     "metadata": {
      "needs_background": "light"
     },
     "output_type": "display_data"
    }
   ],
   "source": [
    "# Add libraries\n",
    "import pandas as pd\n",
    "import seaborn as sns\n",
    "import matplotlib.pyplot as plt\n",
    "\n",
    "# Create a distribution plot\n",
    "sns.histplot(who_data[\"Adolescent fertility rate (%)\"], kde=True, stat=\"density\", linewidth=0)\n",
    "\n",
    "# Display the plot\n",
    "plt.show()\n",
    "\n",
    "# NOTE: A warning will appear because the function `distplot` will be removed in the future from seaborn.\n",
    "# Try on your own to see what happens when we change `distplot` to `histplot` or to `displot`."
   ]
  },
  {
   "cell_type": "markdown",
   "id": "3fdee444",
   "metadata": {},
   "source": [
    "### Bar plots\n",
    "\n",
    "We can also use seaborn to make more bar plots with advanced details. The bar() function intakes two columns (x and y) and a DataFrame, and outputs a colorful bar plot by default. Let's see an example with the WHO dataset!"
   ]
  },
  {
   "cell_type": "code",
   "execution_count": 21,
   "id": "aac918c2",
   "metadata": {},
   "outputs": [
    {
     "data": {
      "image/png": "[encoded data removed]",
      "text/plain": [
       "<Figure size 432x288 with 1 Axes>"
      ]
     },
     "metadata": {
      "needs_background": "light"
     },
     "output_type": "display_data"
    }
   ],
   "source": [
    "# Add libraries\n",
    "import pandas as pd\n",
    "import seaborn as sns\n",
    "import matplotlib.pyplot as plt\n",
    "\n",
    "# Create bar plot\n",
    "sns.barplot(x =\"Continent\", y = \"Adolescent fertility rate (%)\", data = who_data, palette = \"colorblind\")\n",
    "\n",
    "# Display the plot\n",
    "plt.show()"
   ]
  },
  {
   "cell_type": "markdown",
   "id": "8ee3154f",
   "metadata": {},
   "source": [
    "# Tips\n",
    "+ Make sure you feel comfortable with the content you learned in Lesson 2 before this extra material.\n",
    "+ Always remember to load the necessary libraries.\n",
    "+ Name your variables, dataframes, and labels helpful and informative titles.\n",
    "+ If you get stuck, use the help documentation that you learned in our previous lecture to help you troubleshoot!"
   ]
  },
  {
   "cell_type": "markdown",
   "id": "ac666967",
   "metadata": {},
   "source": [
    "# References\n",
    "\n",
    "* Navlani, Avinash, Armando Fandango, and Ivan Idris. 2021. Python Data Analysis. Third Edition. Birmingham: Packt Publishing.\n",
    "\n",
    "* Python Data Analysis - Third Edition. (2019). Jupyter Notebook. Packt. https://github.com/PacktPublishing/Python-Data-Analysis-Third-Edition/blob/e1cd8029a1830fe5ecc86379ab361d215e71f036/Chapter05/HR_comma_sep.csv. Accessed July 7, 2022.\n",
    "\n",
    "* Pandas documentation: https://pandas.pydata.org/docs/\n",
    "\n",
    "* Seaborn documentation: https://seaborn.pydata.org/tutorial.html "
   ]
  }
 ],
 "metadata": {
  "kernelspec": {
   "display_name": "Python 3 (ipykernel)",
   "language": "python",
   "name": "python3"
  },
  "language_info": {
   "codemirror_mode": {
    "name": "ipython",
    "version": 3
   },
   "file_extension": ".py",
   "mimetype": "text/x-python",
   "name": "python",
   "nbconvert_exporter": "python",
   "pygments_lexer": "ipython3",
   "version": "3.9.12"
  }
 },
 "nbformat": 4,
 "nbformat_minor": 5
}
